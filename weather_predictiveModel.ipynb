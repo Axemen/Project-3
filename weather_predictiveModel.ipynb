{
 "cells": [
  {
   "cell_type": "code",
   "execution_count": 1,
   "metadata": {},
   "outputs": [],
   "source": [
    "import pandas as pd"
   ]
  },
  {
   "cell_type": "markdown",
   "metadata": {},
   "source": [
    "READ IN AND MERGE"
   ]
  },
  {
   "cell_type": "code",
   "execution_count": 2,
   "metadata": {},
   "outputs": [],
   "source": [
    "weather = pd.read_csv('clean-data/station_data/master-weather.csv')\n",
    "whiskey = pd.read_csv('clean-data/Whiskey_data/Whiskey_Advocate_All_scraped_KHupdate-23 Jul.csv')"
   ]
  },
  {
   "cell_type": "code",
   "execution_count": 3,
   "metadata": {},
   "outputs": [
    {
     "data": {
      "text/html": [
       "<div>\n",
       "<style scoped>\n",
       "    .dataframe tbody tr th:only-of-type {\n",
       "        vertical-align: middle;\n",
       "    }\n",
       "\n",
       "    .dataframe tbody tr th {\n",
       "        vertical-align: top;\n",
       "    }\n",
       "\n",
       "    .dataframe thead th {\n",
       "        text-align: right;\n",
       "    }\n",
       "</style>\n",
       "<table border=\"1\" class=\"dataframe\">\n",
       "  <thead>\n",
       "    <tr style=\"text-align: right;\">\n",
       "      <th></th>\n",
       "      <th>row</th>\n",
       "      <th>Maker</th>\n",
       "      <th>distilled</th>\n",
       "      <th>age in cast</th>\n",
       "      <th>ABV</th>\n",
       "      <th>Blended</th>\n",
       "      <th>Bourbon</th>\n",
       "      <th>Flavored</th>\n",
       "      <th>Other</th>\n",
       "      <th>Rye</th>\n",
       "      <th>Scotch</th>\n",
       "      <th>single blended grain</th>\n",
       "      <th>single blended malt</th>\n",
       "      <th>world</th>\n",
       "      <th>review score</th>\n",
       "      <th>price</th>\n",
       "      <th>style</th>\n",
       "      <th>country</th>\n",
       "    </tr>\n",
       "  </thead>\n",
       "  <tbody>\n",
       "    <tr>\n",
       "      <th>0</th>\n",
       "      <td>1</td>\n",
       "      <td>Johnnie Walker</td>\n",
       "      <td>NaN</td>\n",
       "      <td>NaN</td>\n",
       "      <td>40.00%</td>\n",
       "      <td>1</td>\n",
       "      <td>0</td>\n",
       "      <td>0</td>\n",
       "      <td>0</td>\n",
       "      <td>0</td>\n",
       "      <td>1</td>\n",
       "      <td>0</td>\n",
       "      <td>0</td>\n",
       "      <td>0</td>\n",
       "      <td>97</td>\n",
       "      <td>225</td>\n",
       "      <td>Blended Scotch Whisky</td>\n",
       "      <td>UK</td>\n",
       "    </tr>\n",
       "    <tr>\n",
       "      <th>1</th>\n",
       "      <td>2</td>\n",
       "      <td>Black Bowmore</td>\n",
       "      <td>1964.0</td>\n",
       "      <td>42 year old</td>\n",
       "      <td>40.50%</td>\n",
       "      <td>0</td>\n",
       "      <td>0</td>\n",
       "      <td>0</td>\n",
       "      <td>0</td>\n",
       "      <td>0</td>\n",
       "      <td>1</td>\n",
       "      <td>0</td>\n",
       "      <td>1</td>\n",
       "      <td>0</td>\n",
       "      <td>97</td>\n",
       "      <td>4500</td>\n",
       "      <td>Single Malt Scotch</td>\n",
       "      <td>UK</td>\n",
       "    </tr>\n",
       "    <tr>\n",
       "      <th>2</th>\n",
       "      <td>3</td>\n",
       "      <td>Bowmore</td>\n",
       "      <td>NaN</td>\n",
       "      <td>46 year old</td>\n",
       "      <td>42.90%</td>\n",
       "      <td>0</td>\n",
       "      <td>0</td>\n",
       "      <td>0</td>\n",
       "      <td>0</td>\n",
       "      <td>0</td>\n",
       "      <td>1</td>\n",
       "      <td>0</td>\n",
       "      <td>1</td>\n",
       "      <td>0</td>\n",
       "      <td>97</td>\n",
       "      <td>13500</td>\n",
       "      <td>Single Malt Scotch</td>\n",
       "      <td>UK</td>\n",
       "    </tr>\n",
       "    <tr>\n",
       "      <th>3</th>\n",
       "      <td>4</td>\n",
       "      <td>Compass Box</td>\n",
       "      <td>NaN</td>\n",
       "      <td>30 years old</td>\n",
       "      <td>53.40%</td>\n",
       "      <td>1</td>\n",
       "      <td>0</td>\n",
       "      <td>0</td>\n",
       "      <td>0</td>\n",
       "      <td>0</td>\n",
       "      <td>1</td>\n",
       "      <td>0</td>\n",
       "      <td>1</td>\n",
       "      <td>0</td>\n",
       "      <td>96</td>\n",
       "      <td>325</td>\n",
       "      <td>Blended Malt Scotch Whisky</td>\n",
       "      <td>UK</td>\n",
       "    </tr>\n",
       "    <tr>\n",
       "      <th>4</th>\n",
       "      <td>5</td>\n",
       "      <td>Chivas</td>\n",
       "      <td>NaN</td>\n",
       "      <td>NaN</td>\n",
       "      <td>40.00%</td>\n",
       "      <td>1</td>\n",
       "      <td>0</td>\n",
       "      <td>0</td>\n",
       "      <td>0</td>\n",
       "      <td>0</td>\n",
       "      <td>1</td>\n",
       "      <td>0</td>\n",
       "      <td>1</td>\n",
       "      <td>0</td>\n",
       "      <td>96</td>\n",
       "      <td>160</td>\n",
       "      <td>Blended Malt Scotch Whisky</td>\n",
       "      <td>UK</td>\n",
       "    </tr>\n",
       "  </tbody>\n",
       "</table>\n",
       "</div>"
      ],
      "text/plain": [
       "   row           Maker  distilled   age in cast     ABV  Blended  Bourbon  \\\n",
       "0    1  Johnnie Walker        NaN           NaN  40.00%        1        0   \n",
       "1    2   Black Bowmore     1964.0   42 year old  40.50%        0        0   \n",
       "2    3         Bowmore        NaN   46 year old  42.90%        0        0   \n",
       "3    4     Compass Box        NaN  30 years old  53.40%        1        0   \n",
       "4    5          Chivas        NaN           NaN  40.00%        1        0   \n",
       "\n",
       "   Flavored  Other  Rye  Scotch  single blended grain  single blended malt  \\\n",
       "0         0      0    0       1                     0                    0   \n",
       "1         0      0    0       1                     0                    1   \n",
       "2         0      0    0       1                     0                    1   \n",
       "3         0      0    0       1                     0                    1   \n",
       "4         0      0    0       1                     0                    1   \n",
       "\n",
       "   world  review score  price                       style country  \n",
       "0      0            97    225       Blended Scotch Whisky      UK  \n",
       "1      0            97   4500          Single Malt Scotch      UK  \n",
       "2      0            97  13500          Single Malt Scotch      UK  \n",
       "3      0            96    325  Blended Malt Scotch Whisky      UK  \n",
       "4      0            96    160  Blended Malt Scotch Whisky      UK  "
      ]
     },
     "execution_count": 3,
     "metadata": {},
     "output_type": "execute_result"
    }
   ],
   "source": [
    "whiskey.head()"
   ]
  },
  {
   "cell_type": "code",
   "execution_count": 4,
   "metadata": {},
   "outputs": [
    {
     "data": {
      "text/plain": [
       "array(['UK', 'IE', 'US', 'FR', 'BE', 'UK ', 'SE', 'FI', 'JP', 'IN', 'TW',\n",
       "       'NL', 'AU', 'AT', 'CH', 'CZ', 'DK', 'ES', 'MX', 'LI', 'NZ', 'AR',\n",
       "       'ZA', 'IT', 'IS', 'BT', 'UT', 'CA', 'GE'], dtype=object)"
      ]
     },
     "execution_count": 4,
     "metadata": {},
     "output_type": "execute_result"
    }
   ],
   "source": [
    "whiskey['country'].unique()"
   ]
  },
  {
   "cell_type": "code",
   "execution_count": 5,
   "metadata": {},
   "outputs": [
    {
     "name": "stderr",
     "output_type": "stream",
     "text": [
      "/Users/Elsa/anaconda3/lib/python3.7/site-packages/ipykernel_launcher.py:9: SettingWithCopyWarning: \n",
      "A value is trying to be set on a copy of a slice from a DataFrame\n",
      "\n",
      "See the caveats in the documentation: http://pandas.pydata.org/pandas-docs/stable/indexing.html#indexing-view-versus-copy\n",
      "  if __name__ == '__main__':\n",
      "/Users/Elsa/anaconda3/lib/python3.7/site-packages/ipykernel_launcher.py:7: SettingWithCopyWarning: \n",
      "A value is trying to be set on a copy of a slice from a DataFrame\n",
      "\n",
      "See the caveats in the documentation: http://pandas.pydata.org/pandas-docs/stable/indexing.html#indexing-view-versus-copy\n",
      "  import sys\n",
      "/Users/Elsa/anaconda3/lib/python3.7/site-packages/ipykernel_launcher.py:11: SettingWithCopyWarning: \n",
      "A value is trying to be set on a copy of a slice from a DataFrame\n",
      "\n",
      "See the caveats in the documentation: http://pandas.pydata.org/pandas-docs/stable/indexing.html#indexing-view-versus-copy\n",
      "  # This is added back by InteractiveShellApp.init_path()\n",
      "/Users/Elsa/anaconda3/lib/python3.7/site-packages/ipykernel_launcher.py:5: SettingWithCopyWarning: \n",
      "A value is trying to be set on a copy of a slice from a DataFrame\n",
      "\n",
      "See the caveats in the documentation: http://pandas.pydata.org/pandas-docs/stable/indexing.html#indexing-view-versus-copy\n",
      "  \"\"\"\n",
      "/Users/Elsa/anaconda3/lib/python3.7/site-packages/ipykernel_launcher.py:3: SettingWithCopyWarning: \n",
      "A value is trying to be set on a copy of a slice from a DataFrame\n",
      "\n",
      "See the caveats in the documentation: http://pandas.pydata.org/pandas-docs/stable/indexing.html#indexing-view-versus-copy\n",
      "  This is separate from the ipykernel package so we can avoid doing imports until\n"
     ]
    }
   ],
   "source": [
    "for i in range(len(weather)):\n",
    "    if weather['country'][i] == 'Scotland':\n",
    "        weather['country'][i]=\"UK\"\n",
    "    if weather['country'][i]=='Ireland':\n",
    "        weather['country'][i]='IE'\n",
    "    if weather['country'][i]=='Japan':\n",
    "        weather['country'][i]='JP'\n",
    "    if weather['country'][i]=='USA':\n",
    "        weather['country'][i]=\"US\"\n",
    "    if weather['country'][i]=='Canada':\n",
    "        weather['country'][i]=\"CA\""
   ]
  },
  {
   "cell_type": "code",
   "execution_count": 6,
   "metadata": {},
   "outputs": [
    {
     "data": {
      "text/plain": [
       "array(['US', 'JP', 'CA', 'IE', 'UK'], dtype=object)"
      ]
     },
     "execution_count": 6,
     "metadata": {},
     "output_type": "execute_result"
    }
   ],
   "source": [
    "weather['country'].unique()"
   ]
  },
  {
   "cell_type": "code",
   "execution_count": 7,
   "metadata": {},
   "outputs": [
    {
     "name": "stdout",
     "output_type": "stream",
     "text": [
      "1976.0, UK\n",
      "1974.0, UK\n",
      "1982.0, UK\n",
      "2009.0, UK\n",
      "2010.0, UK\n",
      "1973.0, UK\n",
      "1973.0, UK\n",
      "2008.0, UK\n",
      "2018.0, UK\n",
      "1974.0, UK\n",
      "1976.0, UK\n",
      "2012.0, UK\n",
      "2014.0, UK\n",
      "2017.0, UK\n",
      "2017.0, UK\n",
      "1977.0, UK\n",
      "1973.0, UK\n",
      "2017.0, UK\n",
      "2017.0, UK\n",
      "2017.0, UK\n",
      "2017.0, UK\n",
      "2015.0, UK\n",
      "2017.0, UK\n",
      "2016.0, UK\n",
      "1974.0, UK\n",
      "1973.0, UK\n",
      "1989.0, UK\n",
      "1991.0, UK\n",
      "2015.0, UK\n",
      "2017.0, UK\n",
      "2018.0, UK\n",
      "1973.0, UK\n",
      "1973.0, UK\n",
      "1975.0, UK\n",
      "1983.0, UK\n",
      "2011.0, UK\n",
      "2014.0, UK\n",
      "1993.0, UK\n",
      "2009.0, UK\n",
      "2014.0, UK\n",
      "2017.0, UK\n",
      "2015.0, UK\n",
      "2013.0, UK\n",
      "1990.0, UK\n",
      "2012.0, UK\n",
      "2017.0, UK\n",
      "2018.0, UK\n",
      "1990.0, UK\n",
      "1982.0, UK\n",
      "1992.0, UK\n",
      "1995.0, UK\n",
      "2010.0, UK\n",
      "1981.0, UK\n",
      "1983.0, UK\n",
      "2018.0, UK\n",
      "2018.0, UK\n",
      "1987.0, UK\n",
      "1990.0, UK\n",
      "1998.0, UK\n",
      "1974.0, UK\n",
      "2012.0, UK\n",
      "2013.0, UK\n",
      "1990.0, UK\n",
      "2017.0, UK\n",
      "2018.0, UK\n",
      "2011.0, UK\n",
      "1989.0, UK\n",
      "2009.0, UK\n",
      "2012.0, UK\n",
      "1973.0, UK\n",
      "1990.0, UK\n",
      "2015.0, UK\n",
      "2017.0, UK\n",
      "2014.0, UK\n",
      "2014.0, UK\n",
      "2015.0, UK\n",
      "1982.0, UK\n",
      "2013.0, UK\n",
      "2014.0, UK\n",
      "1992.0, UK\n",
      "1996.0, UK\n",
      "1974.0, UK\n",
      "1977.0, UK\n",
      "2011.0, UK\n",
      "1987.0, UK\n",
      "2004.0, UK\n",
      "1991.0, UK\n",
      "1990.0, UK\n",
      "2000.0, UK\n",
      "2007.0, UK\n",
      "2009.0, UK\n",
      "2018.0, UK\n",
      "2018.0, UK\n",
      "2018.0, UK\n",
      "1977.0, UK\n",
      "2005.0, UK\n",
      "2017.0, UK\n",
      "1990.0, UK\n",
      "2010.0, UK\n",
      "2008.0, UK\n",
      "1999.0, UK\n",
      "1976.0, UK\n",
      "2009.0, UK\n",
      "2017.0, UK\n",
      "2000.0, UK\n",
      "1981.0, UK\n",
      "1973.0, UK\n",
      "2007.0, UK\n",
      "2008.0, UK\n",
      "2010.0, UK\n",
      "1978.0, UK\n",
      "2012.0, UK\n",
      "2014.0, UK\n",
      "1989.0, UK\n",
      "1990.0, UK\n",
      "1990.0, UK\n",
      "1977.0, UK\n",
      "1987.0, UK\n",
      "1979.0, UK\n",
      "2009.0, UK\n",
      "2016.0, UK\n",
      "1979.0, UK\n",
      "1982.0, UK\n",
      "2014.0, UK\n",
      "1992.0, UK\n",
      "2009.0, UK\n",
      "2017.0, UK\n",
      "2014.0, UK\n",
      "2006.0, UK\n",
      "2017.0, UK\n",
      "1977.0, UK\n",
      "2001.0, UK\n",
      "2003.0, UK\n",
      "1990.0, UK\n",
      "2000.0, UK\n",
      "1990.0, UK\n",
      "1991.0, UK\n",
      "1990.0, UK\n",
      "2008.0, UK\n",
      "2003.0, UK\n",
      "2008.0, UK\n",
      "1990.0, UK\n",
      "1991.0, UK\n",
      "1985.0, UK\n",
      "2015.0, UK\n",
      "1990.0, UK\n",
      "2017.0, UK\n",
      "1974.0, UK\n",
      "1999.0, UK\n",
      "1983.0, UK\n",
      "1977.0, UK\n",
      "1975.0, UK\n",
      "1986.0, UK\n",
      "1985.0, UK\n",
      "1979.0, UK\n",
      "1976.0, UK\n",
      "2005.0, UK\n",
      "1982.0, UK\n",
      "1994.0, UK\n",
      "1982.0, UK\n",
      "2015.0, UK\n",
      "2011.0, UK\n",
      "2005.0, UK\n",
      "2011.0, UK\n",
      "2018.0, UK\n",
      "2018.0, UK\n",
      "2017.0, UK\n",
      "2000.0, UK\n",
      "2002.0, UK\n",
      "2006.0, UK\n",
      "2006.0, UK\n",
      "2005.0, UK\n",
      "2011.0, UK\n",
      "2010.0, UK\n",
      "2002.0, UK\n",
      "1992.0, UK\n",
      "1997.0, UK\n",
      "1992.0, UK\n",
      "1997.0, UK\n",
      "2001.0, UK\n",
      "2002.0, UK\n",
      "2009.0, UK\n",
      "2001.0, UK\n",
      "1984.0, UK\n",
      "2009.0, UK\n",
      "2017.0, UK\n",
      "2014.0, UK\n",
      "2015.0, UK\n",
      "2015.0, UK\n",
      "2008.0, UK\n",
      "1983.0, UK\n",
      "1989.0, UK\n",
      "1980.0, UK\n",
      "1977.0, UK\n",
      "1991.0, UK\n",
      "1974.0, UK\n",
      "1985.0, UK\n",
      "1990.0, UK\n",
      "1998.0, UK\n",
      "1992.0, UK\n",
      "1981.0, UK\n",
      "1975.0, UK\n",
      "1975.0, UK\n",
      "1974.0, UK\n",
      "2017.0, UK\n",
      "1994.0, UK\n",
      "1990.0, UK\n",
      "2014.0, UK\n",
      "2014.0, UK\n",
      "2003.0, UK\n",
      "1982.0, UK\n",
      "2005.0, UK\n",
      "2011.0, UK\n",
      "1996.0, UK\n",
      "2017.0, UK\n",
      "2012.0, UK\n",
      "2017.0, UK\n",
      "1973.0, UK\n",
      "2011.0, UK\n",
      "2017.0, UK\n",
      "2018.0, UK\n",
      "2018.0, UK\n",
      "2005.0, UK\n",
      "2006.0, UK\n",
      "1980.0, UK\n",
      "2008.0, UK\n",
      "2008.0, UK\n",
      "2017.0, UK\n",
      "1974.0, UK\n",
      "1996.0, UK\n",
      "1990.0, UK\n",
      "1975.0, UK\n",
      "2003.0, UK\n",
      "2005.0, UK\n",
      "2003.0, UK\n",
      "1975.0, UK\n",
      "1992.0, UK\n",
      "1994.0, UK\n",
      "2009.0, UK\n",
      "2010.0, UK\n",
      "1991.0, UK\n",
      "1988.0, UK\n",
      "1998.0, UK\n",
      "1997.0, UK\n",
      "1996.0, UK\n",
      "1998.0, UK\n",
      "2002.0, UK\n",
      "2014.0, UK\n",
      "1992.0, UK\n",
      "1998.0, UK\n",
      "1998.0, UK\n",
      "1981.0, UK\n",
      "1974.0, UK\n",
      "1995.0, UK\n",
      "1977.0, UK\n",
      "1994.0, UK\n",
      "1975.0, UK\n",
      "1990.0, UK\n",
      "1996.0, UK\n",
      "1991.0, UK\n",
      "1976.0, UK\n",
      "1988.0, UK\n",
      "1977.0, UK\n",
      "2010.0, UK\n",
      "2008.0, UK\n",
      "2012.0, UK\n",
      "2004.0, UK\n",
      "2007.0, UK\n",
      "2003.0, UK\n",
      "2000.0, UK\n",
      "1990.0, UK\n",
      "2017.0, UK\n",
      "2008.0, UK\n",
      "2004.0, UK\n",
      "2015.0, UK\n",
      "1996.0, UK\n",
      "2016.0, UK\n",
      "1998.0, UK\n",
      "2001.0, UK\n",
      "2014.0, UK\n",
      "2012.0, UK\n",
      "1990.0, UK\n",
      "2012.0, UK\n",
      "2015.0, UK\n",
      "1991.0, UK\n",
      "1986.0, UK\n",
      "1983.0, UK\n",
      "1981.0, UK\n",
      "1976.0, UK\n",
      "1990.0, UK\n",
      "2005.0, UK\n",
      "1990.0, UK\n",
      "1994.0, UK\n",
      "1990.0, UK\n",
      "2013.0, UK\n",
      "1982.0, UK\n",
      "2000.0, UK\n",
      "1989.0, UK\n",
      "1973.0, UK\n",
      "1993.0, UK\n",
      "2001.0, UK\n",
      "2000.0, UK\n",
      "2014.0, UK\n",
      "2008.0, UK\n",
      "1990.0, UK\n",
      "2007.0, UK\n",
      "1994.0, UK\n",
      "2000.0, UK\n",
      "1990.0, UK\n",
      "1990.0, UK\n",
      "1998.0, UK\n",
      "2012.0, UK\n",
      "1991.0, UK\n",
      "2004.0, UK\n",
      "1989.0, UK\n",
      "1982.0, UK\n",
      "1987.0, UK\n",
      "1982.0, UK\n",
      "2009.0, UK\n",
      "1997.0, UK\n",
      "1993.0, UK\n",
      "1984.0, UK\n",
      "1990.0, UK\n",
      "1991.0, UK\n",
      "1998.0, UK\n",
      "1980.0, UK\n",
      "2006.0, UK\n",
      "1974.0, UK\n",
      "1981.0, UK\n",
      "1979.0, UK\n",
      "1994.0, UK\n",
      "1997.0, UK\n",
      "2000.0, UK\n",
      "1980.0, UK\n",
      "1992.0, UK\n",
      "1984.0, UK\n",
      "1998.0, UK\n",
      "1989.0, UK\n",
      "2011.0, UK\n",
      "2012.0, UK\n",
      "2015.0, UK\n",
      "1993.0, UK\n",
      "1973.0, UK\n",
      "1989.0, UK\n",
      "1997.0, UK\n",
      "1989.0, UK\n",
      "1991.0, UK\n",
      "1991.0, UK\n",
      "2005.0, UK\n",
      "1993.0, UK\n",
      "1988.0, UK\n",
      "1992.0, UK\n",
      "2010.0, UK\n",
      "2010.0, UK\n",
      "2003.0, UK\n",
      "2005.0, UK\n",
      "2015.0, UK\n",
      "1976.0, UK\n",
      "2006.0, UK\n",
      "1989.0, UK\n",
      "2002.0, UK\n",
      "1996.0, UK\n",
      "1994.0, UK\n",
      "2014.0, UK\n",
      "2007.0, UK\n",
      "2016.0, UK\n",
      "1989.0, UK\n",
      "1989.0, UK\n",
      "1985.0, UK\n",
      "1990.0, UK\n",
      "1988.0, UK\n",
      "1977.0, UK\n",
      "1990.0, UK\n",
      "1996.0, UK\n",
      "1991.0, UK\n",
      "1984.0, UK\n",
      "1986.0, UK\n",
      "1994.0, UK\n",
      "1989.0, UK\n",
      "1997.0, UK\n",
      "1989.0, UK\n",
      "2002.0, UK\n",
      "2007.0, UK\n",
      "2008.0, UK\n",
      "2016.0, UK\n",
      "2000.0, UK\n",
      "2002.0, UK\n",
      "2014.0, UK\n",
      "2009.0, UK\n",
      "2007.0, UK\n",
      "2010.0, UK\n",
      "2004.0, UK\n",
      "1975.0, UK\n",
      "1992.0, UK\n",
      "1999.0, UK\n",
      "1986.0, UK\n",
      "2007.0, UK\n",
      "1991.0, UK\n",
      "1991.0, UK\n",
      "1980.0, UK\n",
      "1974.0, UK\n",
      "1989.0, UK\n",
      "1973.0, UK\n",
      "2001.0, UK\n",
      "1974.0, UK\n",
      "2014.0, UK\n",
      "1999.0, UK\n",
      "1982.0, UK\n",
      "1989.0, UK\n",
      "1990.0, UK\n",
      "1990.0, UK\n",
      "1989.0, UK\n",
      "1993.0, UK\n",
      "2011.0, UK\n",
      "1988.0, UK\n",
      "2013.0, UK\n",
      "2000.0, UK\n",
      "1996.0, UK\n",
      "1989.0, UK\n",
      "2003.0, UK\n",
      "2005.0, UK\n",
      "2004.0, UK\n",
      "1990.0, UK\n",
      "1992.0, UK\n",
      "1973.0, UK\n",
      "1999.0, UK\n",
      "2009.0, UK\n",
      "1991.0, UK\n",
      "1974.0, UK\n",
      "2000.0, UK\n",
      "1996.0, UK\n",
      "1990.0, UK\n",
      "1978.0, UK\n",
      "1978.0, UK\n",
      "1994.0, UK\n",
      "1990.0, UK\n",
      "1979.0, UK\n",
      "1975.0, UK\n",
      "1981.0, UK\n",
      "1990.0, UK\n",
      "1979.0, UK\n",
      "1990.0, UK\n",
      "1992.0, UK\n",
      "2003.0, UK\n",
      "1989.0, UK\n",
      "1983.0, UK\n",
      "2014.0, IE\n",
      "2018.0, IE\n",
      "2017.0, IE\n",
      "2016.0, IE\n",
      "2018.0, IE\n",
      "2018.0, IE\n",
      "2018.0, IE\n",
      "2015.0, IE\n",
      "2018.0, IE\n",
      "2005.0, UK\n",
      "1990.0, UK\n",
      "2011.0, UK\n",
      "2014.0, UK\n",
      "1986.0, UK\n",
      "1979.0, UK\n",
      "2011.0, UK\n",
      "1976.0, UK\n",
      "1991.0, UK\n",
      "1991.0, UK\n",
      "1992.0, UK\n",
      "1998.0, UK\n",
      "1991.0, UK\n",
      "1977.0, UK\n",
      "1973.0, UK\n",
      "2006.0, UK\n",
      "2008.0, UK\n",
      "2005.0, UK\n",
      "2001.0, UK\n",
      "2012.0, UK\n",
      "2014.0, UK\n",
      "1979.0, UK\n",
      "1992.0, UK\n",
      "1975.0, UK\n",
      "1993.0, UK\n",
      "1979.0, UK\n",
      "1990.0, UK\n",
      "1981.0, UK\n",
      "1991.0, UK\n",
      "1997.0, UK\n",
      "2008.0, UK\n",
      "2007.0, UK\n",
      "1976.0, UK\n",
      "1989.0, UK\n",
      "1991.0, UK\n",
      "1998.0, UK\n",
      "1990.0, UK\n",
      "1980.0, UK\n",
      "1986.0, UK\n",
      "1991.0, UK\n",
      "1990.0, UK\n",
      "1990.0, UK\n",
      "1997.0, UK\n",
      "2011.0, UK\n",
      "1982.0, UK\n",
      "1999.0, UK\n",
      "1997.0, UK\n",
      "1998.0, UK\n",
      "1981.0, UK\n",
      "1992.0, UK\n",
      "1984.0, JP\n",
      "2010.0, JP\n",
      "2010.0, JP\n",
      "2016.0, JP\n",
      "2009.0, JP\n",
      "2013.0, JP\n",
      "2011.0, JP\n",
      "2000.0, JP\n",
      "2008.0, JP\n",
      "2000.0, JP\n",
      "2009.0, JP\n",
      "1990.0, JP\n",
      "2008.0, UK\n",
      "2009.0, UK\n",
      "1984.0, US\n",
      "2012.0, US\n",
      "2005.0, US\n",
      "2002.0, IE\n",
      "2007.0, IE\n",
      "2009.0, IE\n",
      "1992.0, IE\n",
      "2003.0, IE\n",
      "2003.0, IE\n",
      "2018.0, IE\n",
      "2002.0, IE\n",
      "2003.0, IE\n",
      "2001.0, IE\n",
      "1995.0, IE\n",
      "1994.0, IE\n",
      "2013.0, IE\n",
      "1997.0, IE\n",
      "2012.0, CA\n",
      "2013.0, CA\n",
      "2014.0, CA\n",
      "2012.0, CA\n",
      "1970.0, CA\n",
      "2014.0, CA\n",
      "2016.0, CA\n",
      "2005.0, CA\n",
      "2013.0, US\n",
      "2012.0, US\n",
      "1991.0, US\n",
      "1994.0, US\n",
      "2014.0, US\n",
      "1995.0, US\n",
      "2000.0, US\n",
      "2014.0, US\n",
      "2015.0, US\n",
      "1996.0, US\n",
      "2013.0, US\n",
      "2012.0, US\n",
      "2013.0, US\n",
      "1996.0, US\n",
      "1996.0, US\n",
      "2002.0, US\n",
      "2003.0, US\n",
      "2004.0, US\n",
      "2005.0, US\n",
      "2012.0, US\n",
      "2014.0, US\n",
      "1990.0, US\n",
      "2010.0, US\n",
      "1995.0, US\n",
      "1990.0, US\n",
      "2013.0, US\n",
      "2016.0, US\n",
      "2010.0, US\n",
      "1997.0, US\n",
      "2013.0, US\n",
      "1970.0, US\n",
      "2016.0, US\n",
      "1993.0, US\n",
      "1991.0, US\n",
      "1997.0, US\n",
      "2007.0, US\n",
      "2009.0, US\n",
      "2011.0, US\n",
      "2016.0, US\n",
      "2016.0, US\n",
      "2016.0, US\n",
      "2004.0, US\n",
      "2015.0, US\n",
      "2011.0, US\n",
      "1989.0, US\n",
      "1992.0, US\n",
      "1994.0, US\n",
      "2001.0, US\n",
      "2002.0, US\n",
      "2008.0, US\n",
      "1990.0, US\n",
      "2012.0, US\n",
      "2014.0, US\n",
      "1997.0, US\n",
      "1995.0, US\n",
      "1991.0, US\n",
      "2006.0, US\n",
      "2009.0, US\n",
      "2011.0, US\n",
      "1993.0, US\n",
      "2015.0, US\n",
      "2015.0, US\n",
      "2009.0, US\n",
      "1995.0, US\n",
      "2004.0, US\n",
      "2016.0, US\n",
      "2015.0, US\n",
      "2016.0, US\n",
      "1993.0, US\n",
      "1999.0, US\n",
      "2012.0, US\n",
      "2014.0, US\n",
      "1993.0, US\n",
      "2008.0, US\n",
      "2001.0, US\n",
      "2016.0, US\n",
      "1998.0, US\n",
      "1996.0, US\n",
      "1997.0, US\n",
      "1990.0, US\n",
      "1993.0, US\n",
      "2016.0, US\n",
      "2013.0, US\n",
      "2012.0, US\n"
     ]
    }
   ],
   "source": [
    "whiskey['temperature']=''\n",
    "whiskey['precipitation']=''\n",
    "for i in range(len(whiskey)):\n",
    "    for j in range(len(weather)):\n",
    "        if whiskey['distilled'][i] == weather['Year'][j] and whiskey['country'][i] == weather['country'][j]:\n",
    "            print(f\"{whiskey['distilled'][i]}, {whiskey['country'][i]}\")"
   ]
  },
  {
   "cell_type": "code",
   "execution_count": 8,
   "metadata": {},
   "outputs": [],
   "source": [
    "weather = weather.rename(columns={'Year':'distilled'})"
   ]
  },
  {
   "cell_type": "code",
   "execution_count": 41,
   "metadata": {},
   "outputs": [],
   "source": [
    "df = pd.merge(whiskey, weather, on=['distilled', 'country'], how='outer')"
   ]
  },
  {
   "cell_type": "code",
   "execution_count": 10,
   "metadata": {},
   "outputs": [
    {
     "name": "stdout",
     "output_type": "stream",
     "text": [
      "234\n",
      "4726\n",
      "4854\n"
     ]
    }
   ],
   "source": [
    "print(len(weather))\n",
    "print(len(whiskey))\n",
    "print(len(df))"
   ]
  },
  {
   "cell_type": "code",
   "execution_count": 19,
   "metadata": {},
   "outputs": [],
   "source": [
    "df.to_csv('clean-data/Whiskey_data/weather_whiskey Jul23.csv')"
   ]
  },
  {
   "cell_type": "code",
   "execution_count": 31,
   "metadata": {},
   "outputs": [
    {
     "data": {
      "text/plain": [
       "['row',\n",
       " 'Maker',\n",
       " 'distilled',\n",
       " 'age in cast',\n",
       " 'ABV',\n",
       " 'Blended',\n",
       " 'Bourbon',\n",
       " 'Flavored',\n",
       " 'Other',\n",
       " 'Rye',\n",
       " 'Scotch',\n",
       " 'single blended grain',\n",
       " 'single blended malt',\n",
       " 'world',\n",
       " 'review score',\n",
       " 'price',\n",
       " 'style',\n",
       " 'country',\n",
       " 'Unnamed: 0',\n",
       " 'Temperature',\n",
       " 'Precipitation']"
      ]
     },
     "execution_count": 31,
     "metadata": {},
     "output_type": "execute_result"
    }
   ],
   "source": [
    "list(df)"
   ]
  },
  {
   "cell_type": "code",
   "execution_count": 26,
   "metadata": {},
   "outputs": [],
   "source": [
    "import matplotlib.pyplot as plt"
   ]
  },
  {
   "cell_type": "code",
   "execution_count": 33,
   "metadata": {},
   "outputs": [
    {
     "data": {
      "image/png": "[encoded data removed]",
      "text/plain": [
       "<Figure size 432x288 with 1 Axes>"
      ]
     },
     "metadata": {
      "needs_background": "light"
     },
     "output_type": "display_data"
    }
   ],
   "source": [
    "x_axis = df['Temperature']\n",
    "y_axis = df['review score']\n",
    "\n",
    "plt.scatter(x_axis, y_axis)\n",
    "plt.title('Temperature vs. Review Score')\n",
    "plt.show()"
   ]
  },
  {
   "cell_type": "code",
   "execution_count": 34,
   "metadata": {},
   "outputs": [
    {
     "data": {
      "image/png": "[encoded data removed]",
      "text/plain": [
       "<Figure size 432x288 with 1 Axes>"
      ]
     },
     "metadata": {
      "needs_background": "light"
     },
     "output_type": "display_data"
    }
   ],
   "source": [
    "x_axis = df['Precipitation']\n",
    "y_axis = df['review score']\n",
    "plt.scatter(x_axis, y_axis)\n",
    "plt.title('Precipitation vs. Review Score')\n",
    "plt.show()"
   ]
  },
  {
   "cell_type": "code",
   "execution_count": 36,
   "metadata": {},
   "outputs": [
    {
     "data": {
      "image/png": "[encoded data removed]",
      "text/plain": [
       "<Figure size 432x288 with 1 Axes>"
      ]
     },
     "metadata": {
      "needs_background": "light"
     },
     "output_type": "display_data"
    }
   ],
   "source": [
    "uk = df[df['country']=='UK']\n",
    "x_axis = uk['Temperature']\n",
    "y_axis=uk['review score']\n",
    "plt.scatter(x_axis, y_axis)\n",
    "plt.title('UK: Temperature vs. Review Score')\n",
    "plt.show()"
   ]
  },
  {
   "cell_type": "code",
   "execution_count": 38,
   "metadata": {},
   "outputs": [
    {
     "data": {
      "image/png": "[encoded data removed]",
      "text/plain": [
       "<Figure size 432x288 with 1 Axes>"
      ]
     },
     "metadata": {
      "needs_background": "light"
     },
     "output_type": "display_data"
    }
   ],
   "source": [
    "plt.scatter(uk['Precipitation'], uk['review score'])\n",
    "plt.title('UK: Precipitation vs. review score')\n",
    "plt.show()"
   ]
  },
  {
   "cell_type": "code",
   "execution_count": 40,
   "metadata": {},
   "outputs": [
    {
     "data": {
      "text/plain": [
       "296"
      ]
     },
     "execution_count": 40,
     "metadata": {},
     "output_type": "execute_result"
    }
   ],
   "source": [
    "len(ie)"
   ]
  },
  {
   "cell_type": "code",
   "execution_count": 41,
   "metadata": {},
   "outputs": [
    {
     "data": {
      "text/plain": [
       "2511"
      ]
     },
     "execution_count": 41,
     "metadata": {},
     "output_type": "execute_result"
    }
   ],
   "source": [
    "len(uk)"
   ]
  },
  {
   "cell_type": "code",
   "execution_count": 42,
   "metadata": {},
   "outputs": [
    {
     "data": {
      "text/plain": [
       "1311"
      ]
     },
     "execution_count": 42,
     "metadata": {},
     "output_type": "execute_result"
    }
   ],
   "source": [
    "us = df[df['country']=='US']\n",
    "len(us)"
   ]
  },
  {
   "cell_type": "code",
   "execution_count": 43,
   "metadata": {},
   "outputs": [
    {
     "data": {
      "image/png": "[encoded data removed]",
      "text/plain": [
       "<Figure size 432x288 with 1 Axes>"
      ]
     },
     "metadata": {
      "needs_background": "light"
     },
     "output_type": "display_data"
    }
   ],
   "source": [
    "plt.scatter(us['Temperature'], us['review score'])\n",
    "plt.title('USA: Temperature vs. Review Score')\n",
    "plt.show()"
   ]
  },
  {
   "cell_type": "code",
   "execution_count": 44,
   "metadata": {},
   "outputs": [
    {
     "data": {
      "image/png": "[encoded data removed]",
      "text/plain": [
       "<Figure size 432x288 with 1 Axes>"
      ]
     },
     "metadata": {
      "needs_background": "light"
     },
     "output_type": "display_data"
    }
   ],
   "source": [
    "plt.scatter(us['Precipitation'], us['review score'])\n",
    "plt.title('USA: Precipitation vs. Review Score')\n",
    "plt.show()"
   ]
  },
  {
   "cell_type": "code",
   "execution_count": 45,
   "metadata": {},
   "outputs": [
    {
     "data": {
      "text/plain": [
       "307"
      ]
     },
     "execution_count": 45,
     "metadata": {},
     "output_type": "execute_result"
    }
   ],
   "source": [
    "len(df[df['country']=='CA'])"
   ]
  },
  {
   "cell_type": "code",
   "execution_count": 46,
   "metadata": {},
   "outputs": [
    {
     "data": {
      "text/plain": [
       "132"
      ]
     },
     "execution_count": 46,
     "metadata": {},
     "output_type": "execute_result"
    }
   ],
   "source": [
    "len(df[df['country']=='JP'])"
   ]
  },
  {
   "cell_type": "markdown",
   "metadata": {},
   "source": [
    "CREATE THE MODEL"
   ]
  },
  {
   "cell_type": "code",
   "execution_count": 49,
   "metadata": {},
   "outputs": [],
   "source": [
    "dfm =  pd.merge(whiskey, weather, on=['distilled', 'country'], how='inner')"
   ]
  },
  {
   "cell_type": "code",
   "execution_count": 43,
   "metadata": {},
   "outputs": [],
   "source": [
    "from sklearn.model_selection import train_test_split\n",
    "from sklearn.linear_model import LinearRegression"
   ]
  },
  {
   "cell_type": "code",
   "execution_count": 70,
   "metadata": {},
   "outputs": [],
   "source": [
    "X = dfm[['Temperature', 'Precipitation']]\n",
    "y = dfm['review score'].values.reshape(-1,1)"
   ]
  },
  {
   "cell_type": "code",
   "execution_count": 71,
   "metadata": {},
   "outputs": [],
   "source": [
    "model=LinearRegression()"
   ]
  },
  {
   "cell_type": "code",
   "execution_count": 72,
   "metadata": {},
   "outputs": [],
   "source": [
    "X_train, X_test, y_train, y_test = train_test_split(X, y, random_state=42)"
   ]
  },
  {
   "cell_type": "code",
   "execution_count": 73,
   "metadata": {},
   "outputs": [
    {
     "name": "stdout",
     "output_type": "stream",
     "text": [
      "0.015081404744213378\n",
      "0.040407628692411775\n"
     ]
    }
   ],
   "source": [
    "model.fit(X_train,y_train)\n",
    "training_score = model.score(X_train, y_train)\n",
    "testing_score = model.score(X_test, y_test)\n",
    "print(training_score)\n",
    "print(testing_score)"
   ]
  },
  {
   "cell_type": "code",
   "execution_count": 96,
   "metadata": {},
   "outputs": [],
   "source": [
    "#KNN -- temperature only"
   ]
  },
  {
   "cell_type": "code",
   "execution_count": 33,
   "metadata": {},
   "outputs": [],
   "source": [
    "import matplotlib.pyplot as plt\n",
    "from sklearn.datasets import load_iris\n",
    "from sklearn.model_selection import train_test_split\n",
    "from sklearn.neighbors import KNeighborsClassifier\n",
    "from sklearn.preprocessing import StandardScaler"
   ]
  },
  {
   "cell_type": "code",
   "execution_count": 89,
   "metadata": {},
   "outputs": [],
   "source": [
    "X = dfm['Temperature']\n",
    "y = dfm['review score'].values.reshape(-1,1)"
   ]
  },
  {
   "cell_type": "code",
   "execution_count": 90,
   "metadata": {},
   "outputs": [],
   "source": [
    "X_train, X_test, y_train, y_test = train_test_split(X, y, random_state=42)"
   ]
  },
  {
   "cell_type": "code",
   "execution_count": 119,
   "metadata": {},
   "outputs": [
    {
     "name": "stderr",
     "output_type": "stream",
     "text": [
      "/Users/Elsa/anaconda3/lib/python3.7/site-packages/ipykernel_launcher.py:5: DataConversionWarning: A column-vector y was passed when a 1d array was expected. Please change the shape of y to (n_samples, ), for example using ravel().\n",
      "  \"\"\"\n",
      "/Users/Elsa/anaconda3/lib/python3.7/site-packages/ipykernel_launcher.py:5: DataConversionWarning: A column-vector y was passed when a 1d array was expected. Please change the shape of y to (n_samples, ), for example using ravel().\n",
      "  \"\"\"\n",
      "/Users/Elsa/anaconda3/lib/python3.7/site-packages/ipykernel_launcher.py:5: DataConversionWarning: A column-vector y was passed when a 1d array was expected. Please change the shape of y to (n_samples, ), for example using ravel().\n",
      "  \"\"\"\n",
      "/Users/Elsa/anaconda3/lib/python3.7/site-packages/ipykernel_launcher.py:5: DataConversionWarning: A column-vector y was passed when a 1d array was expected. Please change the shape of y to (n_samples, ), for example using ravel().\n",
      "  \"\"\"\n",
      "/Users/Elsa/anaconda3/lib/python3.7/site-packages/ipykernel_launcher.py:5: DataConversionWarning: A column-vector y was passed when a 1d array was expected. Please change the shape of y to (n_samples, ), for example using ravel().\n",
      "  \"\"\"\n",
      "/Users/Elsa/anaconda3/lib/python3.7/site-packages/ipykernel_launcher.py:5: DataConversionWarning: A column-vector y was passed when a 1d array was expected. Please change the shape of y to (n_samples, ), for example using ravel().\n",
      "  \"\"\"\n",
      "/Users/Elsa/anaconda3/lib/python3.7/site-packages/ipykernel_launcher.py:5: DataConversionWarning: A column-vector y was passed when a 1d array was expected. Please change the shape of y to (n_samples, ), for example using ravel().\n",
      "  \"\"\"\n",
      "/Users/Elsa/anaconda3/lib/python3.7/site-packages/ipykernel_launcher.py:5: DataConversionWarning: A column-vector y was passed when a 1d array was expected. Please change the shape of y to (n_samples, ), for example using ravel().\n",
      "  \"\"\"\n",
      "/Users/Elsa/anaconda3/lib/python3.7/site-packages/ipykernel_launcher.py:5: DataConversionWarning: A column-vector y was passed when a 1d array was expected. Please change the shape of y to (n_samples, ), for example using ravel().\n",
      "  \"\"\"\n",
      "/Users/Elsa/anaconda3/lib/python3.7/site-packages/ipykernel_launcher.py:5: DataConversionWarning: A column-vector y was passed when a 1d array was expected. Please change the shape of y to (n_samples, ), for example using ravel().\n",
      "  \"\"\"\n",
      "/Users/Elsa/anaconda3/lib/python3.7/site-packages/ipykernel_launcher.py:5: DataConversionWarning: A column-vector y was passed when a 1d array was expected. Please change the shape of y to (n_samples, ), for example using ravel().\n",
      "  \"\"\"\n",
      "/Users/Elsa/anaconda3/lib/python3.7/site-packages/ipykernel_launcher.py:5: DataConversionWarning: A column-vector y was passed when a 1d array was expected. Please change the shape of y to (n_samples, ), for example using ravel().\n",
      "  \"\"\"\n",
      "/Users/Elsa/anaconda3/lib/python3.7/site-packages/ipykernel_launcher.py:5: DataConversionWarning: A column-vector y was passed when a 1d array was expected. Please change the shape of y to (n_samples, ), for example using ravel().\n",
      "  \"\"\"\n",
      "/Users/Elsa/anaconda3/lib/python3.7/site-packages/ipykernel_launcher.py:5: DataConversionWarning: A column-vector y was passed when a 1d array was expected. Please change the shape of y to (n_samples, ), for example using ravel().\n",
      "  \"\"\"\n",
      "/Users/Elsa/anaconda3/lib/python3.7/site-packages/ipykernel_launcher.py:5: DataConversionWarning: A column-vector y was passed when a 1d array was expected. Please change the shape of y to (n_samples, ), for example using ravel().\n",
      "  \"\"\"\n",
      "/Users/Elsa/anaconda3/lib/python3.7/site-packages/ipykernel_launcher.py:5: DataConversionWarning: A column-vector y was passed when a 1d array was expected. Please change the shape of y to (n_samples, ), for example using ravel().\n",
      "  \"\"\"\n",
      "/Users/Elsa/anaconda3/lib/python3.7/site-packages/ipykernel_launcher.py:5: DataConversionWarning: A column-vector y was passed when a 1d array was expected. Please change the shape of y to (n_samples, ), for example using ravel().\n",
      "  \"\"\"\n",
      "/Users/Elsa/anaconda3/lib/python3.7/site-packages/ipykernel_launcher.py:5: DataConversionWarning: A column-vector y was passed when a 1d array was expected. Please change the shape of y to (n_samples, ), for example using ravel().\n",
      "  \"\"\"\n",
      "/Users/Elsa/anaconda3/lib/python3.7/site-packages/ipykernel_launcher.py:5: DataConversionWarning: A column-vector y was passed when a 1d array was expected. Please change the shape of y to (n_samples, ), for example using ravel().\n",
      "  \"\"\"\n",
      "/Users/Elsa/anaconda3/lib/python3.7/site-packages/ipykernel_launcher.py:5: DataConversionWarning: A column-vector y was passed when a 1d array was expected. Please change the shape of y to (n_samples, ), for example using ravel().\n",
      "  \"\"\"\n"
     ]
    }
   ],
   "source": [
    "train = []\n",
    "test = []\n",
    "for k in range(1,40,2):\n",
    "    knn=KNeighborsClassifier(n_neighbors=k)\n",
    "    knn.fit(X_train, y_train)\n",
    "    train.append(knn.score(X_train, y_train))\n",
    "    test.append(knn.score(X_test, y_test))"
   ]
  },
  {
   "cell_type": "code",
   "execution_count": 120,
   "metadata": {},
   "outputs": [
    {
     "data": {
      "image/png": "[encoded data removed]",
      "text/plain": [
       "<Figure size 432x288 with 1 Axes>"
      ]
     },
     "metadata": {
      "needs_background": "light"
     },
     "output_type": "display_data"
    }
   ],
   "source": [
    "plt.plot(range(1, 40, 2), train, marker='o')\n",
    "plt.plot(range(1, 40, 2), test, marker=\"x\")\n",
    "plt.xlabel(\"k neighbors\")\n",
    "plt.ylabel(\"Testing accuracy Score\")\n",
    "plt.show()"
   ]
  },
  {
   "cell_type": "code",
   "execution_count": 121,
   "metadata": {},
   "outputs": [
    {
     "name": "stdout",
     "output_type": "stream",
     "text": [
      "k=39 Test Acc: 0.121\n"
     ]
    },
    {
     "name": "stderr",
     "output_type": "stream",
     "text": [
      "/Users/Elsa/anaconda3/lib/python3.7/site-packages/ipykernel_launcher.py:2: DataConversionWarning: A column-vector y was passed when a 1d array was expected. Please change the shape of y to (n_samples, ), for example using ravel().\n",
      "  \n"
     ]
    }
   ],
   "source": [
    "knn = KNeighborsClassifier(n_neighbors=39)\n",
    "knn.fit(X_train, y_train)\n",
    "print('k=39 Test Acc: %.3f' % knn.score(X_test, y_test)) "
   ]
  },
  {
   "cell_type": "code",
   "execution_count": 97,
   "metadata": {},
   "outputs": [],
   "source": [
    "#KNN - Precipitation only"
   ]
  },
  {
   "cell_type": "code",
   "execution_count": 103,
   "metadata": {},
   "outputs": [],
   "source": [
    "X = dfm['Precipitation'].values.reshape(-1,1)\n",
    "y = dfm['review score'].values.reshape(-1,1)"
   ]
  },
  {
   "cell_type": "code",
   "execution_count": 104,
   "metadata": {},
   "outputs": [],
   "source": [
    "X_train, X_test, y_train, y_test = train_test_split(X, y, random_state=42)"
   ]
  },
  {
   "cell_type": "code",
   "execution_count": 116,
   "metadata": {},
   "outputs": [
    {
     "name": "stderr",
     "output_type": "stream",
     "text": [
      "/Users/Elsa/anaconda3/lib/python3.7/site-packages/ipykernel_launcher.py:5: DataConversionWarning: A column-vector y was passed when a 1d array was expected. Please change the shape of y to (n_samples, ), for example using ravel().\n",
      "  \"\"\"\n",
      "/Users/Elsa/anaconda3/lib/python3.7/site-packages/ipykernel_launcher.py:5: DataConversionWarning: A column-vector y was passed when a 1d array was expected. Please change the shape of y to (n_samples, ), for example using ravel().\n",
      "  \"\"\"\n",
      "/Users/Elsa/anaconda3/lib/python3.7/site-packages/ipykernel_launcher.py:5: DataConversionWarning: A column-vector y was passed when a 1d array was expected. Please change the shape of y to (n_samples, ), for example using ravel().\n",
      "  \"\"\"\n",
      "/Users/Elsa/anaconda3/lib/python3.7/site-packages/ipykernel_launcher.py:5: DataConversionWarning: A column-vector y was passed when a 1d array was expected. Please change the shape of y to (n_samples, ), for example using ravel().\n",
      "  \"\"\"\n",
      "/Users/Elsa/anaconda3/lib/python3.7/site-packages/ipykernel_launcher.py:5: DataConversionWarning: A column-vector y was passed when a 1d array was expected. Please change the shape of y to (n_samples, ), for example using ravel().\n",
      "  \"\"\"\n",
      "/Users/Elsa/anaconda3/lib/python3.7/site-packages/ipykernel_launcher.py:5: DataConversionWarning: A column-vector y was passed when a 1d array was expected. Please change the shape of y to (n_samples, ), for example using ravel().\n",
      "  \"\"\"\n",
      "/Users/Elsa/anaconda3/lib/python3.7/site-packages/ipykernel_launcher.py:5: DataConversionWarning: A column-vector y was passed when a 1d array was expected. Please change the shape of y to (n_samples, ), for example using ravel().\n",
      "  \"\"\"\n",
      "/Users/Elsa/anaconda3/lib/python3.7/site-packages/ipykernel_launcher.py:5: DataConversionWarning: A column-vector y was passed when a 1d array was expected. Please change the shape of y to (n_samples, ), for example using ravel().\n",
      "  \"\"\"\n",
      "/Users/Elsa/anaconda3/lib/python3.7/site-packages/ipykernel_launcher.py:5: DataConversionWarning: A column-vector y was passed when a 1d array was expected. Please change the shape of y to (n_samples, ), for example using ravel().\n",
      "  \"\"\"\n",
      "/Users/Elsa/anaconda3/lib/python3.7/site-packages/ipykernel_launcher.py:5: DataConversionWarning: A column-vector y was passed when a 1d array was expected. Please change the shape of y to (n_samples, ), for example using ravel().\n",
      "  \"\"\"\n",
      "/Users/Elsa/anaconda3/lib/python3.7/site-packages/ipykernel_launcher.py:5: DataConversionWarning: A column-vector y was passed when a 1d array was expected. Please change the shape of y to (n_samples, ), for example using ravel().\n",
      "  \"\"\"\n",
      "/Users/Elsa/anaconda3/lib/python3.7/site-packages/ipykernel_launcher.py:5: DataConversionWarning: A column-vector y was passed when a 1d array was expected. Please change the shape of y to (n_samples, ), for example using ravel().\n",
      "  \"\"\"\n",
      "/Users/Elsa/anaconda3/lib/python3.7/site-packages/ipykernel_launcher.py:5: DataConversionWarning: A column-vector y was passed when a 1d array was expected. Please change the shape of y to (n_samples, ), for example using ravel().\n",
      "  \"\"\"\n",
      "/Users/Elsa/anaconda3/lib/python3.7/site-packages/ipykernel_launcher.py:5: DataConversionWarning: A column-vector y was passed when a 1d array was expected. Please change the shape of y to (n_samples, ), for example using ravel().\n",
      "  \"\"\"\n",
      "/Users/Elsa/anaconda3/lib/python3.7/site-packages/ipykernel_launcher.py:5: DataConversionWarning: A column-vector y was passed when a 1d array was expected. Please change the shape of y to (n_samples, ), for example using ravel().\n",
      "  \"\"\"\n"
     ]
    }
   ],
   "source": [
    "train = []\n",
    "test = []\n",
    "for k in range(1,30,2):\n",
    "    knn=KNeighborsClassifier(n_neighbors=k)\n",
    "    knn.fit(X_train, y_train)\n",
    "    train.append(knn.score(X_train, y_train))\n",
    "    test.append(knn.score(X_test, y_test))"
   ]
  },
  {
   "cell_type": "code",
   "execution_count": 117,
   "metadata": {},
   "outputs": [
    {
     "data": {
      "image/png": "[encoded data removed]",
      "text/plain": [
       "<Figure size 432x288 with 1 Axes>"
      ]
     },
     "metadata": {
      "needs_background": "light"
     },
     "output_type": "display_data"
    }
   ],
   "source": [
    "plt.plot(range(1, 30, 2), train, marker='o')\n",
    "plt.plot(range(1, 30, 2), test, marker=\"x\")\n",
    "plt.xlabel(\"k neighbors\")\n",
    "plt.ylabel(\"Testing accuracy Score\")\n",
    "plt.show()"
   ]
  },
  {
   "cell_type": "code",
   "execution_count": 118,
   "metadata": {},
   "outputs": [
    {
     "name": "stdout",
     "output_type": "stream",
     "text": [
      "k=23 Test Acc: 0.089\n"
     ]
    },
    {
     "name": "stderr",
     "output_type": "stream",
     "text": [
      "/Users/Elsa/anaconda3/lib/python3.7/site-packages/ipykernel_launcher.py:2: DataConversionWarning: A column-vector y was passed when a 1d array was expected. Please change the shape of y to (n_samples, ), for example using ravel().\n",
      "  \n"
     ]
    }
   ],
   "source": [
    "knn = KNeighborsClassifier(n_neighbors=23)\n",
    "knn.fit(X_train, y_train)\n",
    "print('k=23 Test Acc: %.3f' % knn.score(X_test, y_test)) "
   ]
  },
  {
   "cell_type": "code",
   "execution_count": null,
   "metadata": {},
   "outputs": [],
   "source": []
  }
 ],
 "metadata": {
  "kernelspec": {
   "display_name": "Python 3",
   "language": "python",
   "name": "python3"
  },
  "language_info": {
   "codemirror_mode": {
    "name": "ipython",
    "version": 3
   },
   "file_extension": ".py",
   "mimetype": "text/x-python",
   "name": "python",
   "nbconvert_exporter": "python",
   "pygments_lexer": "ipython3",
   "version": "3.7.1"
  }
 },
 "nbformat": 4,
 "nbformat_minor": 2
}

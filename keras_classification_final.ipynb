{
 "cells": [
  {
   "cell_type": "code",
   "execution_count": 53,
   "metadata": {},
   "outputs": [],
   "source": [
    "import pandas as pd\n",
    "import numpy as np\n",
    "from keras.layers import Dropout, Dense\n",
    "from keras.models import Sequential\n",
    "from keras.callbacks import EarlyStopping\n",
    "from sklearn.feature_extraction.text import TfidfVectorizer\n",
    "from sklearn.model_selection import train_test_split\n",
    "from nltk.corpus import stopwords\n",
    "stop_words = set(stopwords.words('english'))\n",
    "import matplotlib.pyplot as plt"
   ]
  },
  {
   "cell_type": "code",
   "execution_count": 5,
   "metadata": {},
   "outputs": [],
   "source": [
    "df = pd.read_csv('clean-data/Whiskey_data/Whiskey_Advocate_All_scraped_KHupdate-23 Jul (Team Style Defined) with descriptions.csv')"
   ]
  },
  {
   "cell_type": "code",
   "execution_count": 7,
   "metadata": {},
   "outputs": [],
   "source": [
    "categories = ['Single Malt Scotch',\n",
    "                  'Flavored Whiskey and Liqueurs',\n",
    "                  'Bourbon',\n",
    "                  ' Blended Malt Scotch Whisky ',\n",
    "                  'Blended Scotch Whisky',\n",
    "                  'Blended Whiskey (Multi-country)',\n",
    "                  ' Single Malt Whisky (Multi-country)',\n",
    "                  ' Single Grain Whisky (Multi-country)',\n",
    "                  'Japan',\n",
    "                  ' Canada',\n",
    "                  'Irish',\n",
    "                  'Generic Whisky (Multi-country)',\n",
    "                  'Rye Whisky',\n",
    "                  'White Whisky',\n",
    "                  'Craft Whisky']"
   ]
  },
  {
   "cell_type": "code",
   "execution_count": 25,
   "metadata": {},
   "outputs": [],
   "source": [
    "y = df[categories]\n",
    "X = df['descriptions'].values"
   ]
  },
  {
   "cell_type": "code",
   "execution_count": 30,
   "metadata": {},
   "outputs": [],
   "source": [
    "vectorizer = TfidfVectorizer(stop_words = stop_words, max_features=500)"
   ]
  },
  {
   "cell_type": "code",
   "execution_count": 40,
   "metadata": {},
   "outputs": [],
   "source": [
    "X = vectorizer.fit_transform(X)"
   ]
  },
  {
   "cell_type": "code",
   "execution_count": 41,
   "metadata": {},
   "outputs": [
    {
     "data": {
      "text/plain": [
       "(3544, 500)"
      ]
     },
     "execution_count": 41,
     "metadata": {},
     "output_type": "execute_result"
    }
   ],
   "source": [
    "X_train, X_test, y_train, y_test = train_test_split(X, y)\n",
    "X_train.shape"
   ]
  },
  {
   "cell_type": "code",
   "execution_count": 46,
   "metadata": {},
   "outputs": [
    {
     "name": "stderr",
     "output_type": "stream",
     "text": [
      "W0801 12:20:21.206802  8220 deprecation.py:506] From C:\\ProgramData\\Anaconda3\\lib\\site-packages\\keras\\backend\\tensorflow_backend.py:3445: calling dropout (from tensorflow.python.ops.nn_ops) with keep_prob is deprecated and will be removed in a future version.\n",
      "Instructions for updating:\n",
      "Please use `rate` instead of `keep_prob`. Rate should be set to `rate = 1 - keep_prob`.\n"
     ]
    },
    {
     "name": "stdout",
     "output_type": "stream",
     "text": [
      "_________________________________________________________________\n",
      "Layer (type)                 Output Shape              Param #   \n",
      "=================================================================\n",
      "dense_5 (Dense)              (None, 500)               250500    \n",
      "_________________________________________________________________\n",
      "dense_6 (Dense)              (None, 15)                7515      \n",
      "_________________________________________________________________\n",
      "dense_7 (Dense)              (None, 500)               8000      \n",
      "_________________________________________________________________\n",
      "dropout_1 (Dropout)          (None, 500)               0         \n",
      "_________________________________________________________________\n",
      "dense_8 (Dense)              (None, 15)                7515      \n",
      "=================================================================\n",
      "Total params: 273,530\n",
      "Trainable params: 273,530\n",
      "Non-trainable params: 0\n",
      "_________________________________________________________________\n"
     ]
    }
   ],
   "source": [
    "model.add(Dense(500, input_dim=500))\n",
    "model.add(Dropout(0.5))\n",
    "model.add(Dense(15, activation='softmax'))\n",
    "model.compile(loss='categorical_crossentropy', optimizer='adam', metrics=['accuracy'])\n",
    "    \n",
    "epochs = 20\n",
    "batch_size = 254\n",
    "model.summary()"
   ]
  },
  {
   "cell_type": "code",
   "execution_count": 52,
   "metadata": {},
   "outputs": [
    {
     "name": "stdout",
     "output_type": "stream",
     "text": [
      "Train on 2126 samples, validate on 1418 samples\n",
      "Epoch 1/20\n",
      "2126/2126 [==============================] - 0s 214us/step - loss: 2.6334 - acc: 0.3137 - val_loss: 2.4932 - val_acc: 0.4231\n",
      "Epoch 2/20\n",
      "2126/2126 [==============================] - 0s 41us/step - loss: 2.4014 - acc: 0.4102 - val_loss: 2.2245 - val_acc: 0.4231\n",
      "Epoch 3/20\n",
      "2126/2126 [==============================] - 0s 50us/step - loss: 2.1602 - acc: 0.4102 - val_loss: 2.0453 - val_acc: 0.4231\n",
      "Epoch 4/20\n",
      "2126/2126 [==============================] - 0s 48us/step - loss: 2.0790 - acc: 0.4102 - val_loss: 2.0040 - val_acc: 0.4231\n",
      "Epoch 5/20\n",
      "2126/2126 [==============================] - 0s 42us/step - loss: 2.0150 - acc: 0.4102 - val_loss: 1.9503 - val_acc: 0.4231\n",
      "Epoch 6/20\n",
      "2126/2126 [==============================] - 0s 42us/step - loss: 1.9442 - acc: 0.4102 - val_loss: 1.8620 - val_acc: 0.4231\n",
      "Epoch 7/20\n",
      "2126/2126 [==============================] - 0s 47us/step - loss: 1.8525 - acc: 0.4102 - val_loss: 1.7709 - val_acc: 0.4231\n",
      "Epoch 8/20\n",
      "2126/2126 [==============================] - 0s 51us/step - loss: 1.7539 - acc: 0.4252 - val_loss: 1.7007 - val_acc: 0.4817\n",
      "Epoch 9/20\n",
      "2126/2126 [==============================] - 0s 50us/step - loss: 1.6776 - acc: 0.4948 - val_loss: 1.6494 - val_acc: 0.5085\n",
      "Epoch 10/20\n",
      "2126/2126 [==============================] - 0s 40us/step - loss: 1.6173 - acc: 0.5113 - val_loss: 1.6243 - val_acc: 0.5071\n",
      "Epoch 11/20\n",
      "2126/2126 [==============================] - 0s 38us/step - loss: 1.5746 - acc: 0.5146 - val_loss: 1.6121 - val_acc: 0.5078\n",
      "Epoch 12/20\n",
      "2126/2126 [==============================] - 0s 45us/step - loss: 1.5332 - acc: 0.5183 - val_loss: 1.5890 - val_acc: 0.5120\n",
      "Epoch 13/20\n",
      "2126/2126 [==============================] - 0s 50us/step - loss: 1.4834 - acc: 0.5287 - val_loss: 1.5634 - val_acc: 0.5282\n",
      "Epoch 14/20\n",
      "2126/2126 [==============================] - 0s 43us/step - loss: 1.4096 - acc: 0.5626 - val_loss: 1.5006 - val_acc: 0.5571\n",
      "Epoch 15/20\n",
      "2126/2126 [==============================] - 0s 39us/step - loss: 1.3348 - acc: 0.5800 - val_loss: 1.4640 - val_acc: 0.5529\n",
      "Epoch 16/20\n",
      "2126/2126 [==============================] - 0s 39us/step - loss: 1.2741 - acc: 0.5894 - val_loss: 1.4395 - val_acc: 0.5635\n",
      "Epoch 17/20\n",
      "2126/2126 [==============================] - 0s 40us/step - loss: 1.2332 - acc: 0.5978 - val_loss: 1.4380 - val_acc: 0.5656\n",
      "Epoch 18/20\n",
      "2126/2126 [==============================] - 0s 39us/step - loss: 1.1911 - acc: 0.6152 - val_loss: 1.4434 - val_acc: 0.5628\n",
      "Epoch 19/20\n",
      "2126/2126 [==============================] - 0s 47us/step - loss: 1.1634 - acc: 0.6138 - val_loss: 1.4637 - val_acc: 0.5642\n",
      "Epoch 20/20\n",
      "2126/2126 [==============================] - 0s 47us/step - loss: 1.1382 - acc: 0.6378 - val_loss: 1.4648 - val_acc: 0.5663\n"
     ]
    }
   ],
   "source": [
    "history = model.fit(X_train, y_train, epochs=epochs, batch_size=batch_size, validation_split=0.4,\n",
    "                        callbacks=[EarlyStopping(monitor='val_loss', patience=3, min_delta=0.0001)],\n",
    "                        verbose = 1)"
   ]
  },
  {
   "cell_type": "code",
   "execution_count": 54,
   "metadata": {},
   "outputs": [
    {
     "data": {
      "image/png": "[encoded data removed]",
      "text/plain": [
       "<Figure size 432x288 with 1 Axes>"
      ]
     },
     "metadata": {
      "needs_background": "light"
     },
     "output_type": "display_data"
    }
   ],
   "source": [
    "plt.title('Loss')\n",
    "plt.plot(history.history['loss'], label='train')\n",
    "plt.plot(history.history['val_loss'], label='test')\n",
    "plt.legend()\n",
    "plt.show()"
   ]
  },
  {
   "cell_type": "code",
   "execution_count": 55,
   "metadata": {},
   "outputs": [
    {
     "data": {
      "text/plain": [
       "<matplotlib.legend.Legend at 0x250277bb400>"
      ]
     },
     "execution_count": 55,
     "metadata": {},
     "output_type": "execute_result"
    },
    {
     "data": {
      "image/png": "[encoded data removed]",
      "text/plain": [
       "<Figure size 432x288 with 1 Axes>"
      ]
     },
     "metadata": {
      "needs_background": "light"
     },
     "output_type": "display_data"
    }
   ],
   "source": [
    "plt.title('Accuracy')\n",
    "plt.plot(history.history['acc'], label='train')\n",
    "plt.plot(history.history['val_acc'], label='test')\n",
    "plt.legend()"
   ]
  },
  {
   "cell_type": "code",
   "execution_count": null,
   "metadata": {},
   "outputs": [],
   "source": []
  }
 ],
 "metadata": {
  "kernelspec": {
   "display_name": "Python 3",
   "language": "python",
   "name": "python3"
  },
  "language_info": {
   "codemirror_mode": {
    "name": "ipython",
    "version": 3
   },
   "file_extension": ".py",
   "mimetype": "text/x-python",
   "name": "python",
   "nbconvert_exporter": "python",
   "pygments_lexer": "ipython3",
   "version": "3.7.3"
  }
 },
 "nbformat": 4,
 "nbformat_minor": 4
}

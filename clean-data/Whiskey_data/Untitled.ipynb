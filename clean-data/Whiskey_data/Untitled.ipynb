{
 "cells": [
  {
   "cell_type": "code",
   "execution_count": 1,
   "metadata": {},
   "outputs": [],
   "source": [
    "import pandas as pd"
   ]
  },
  {
   "cell_type": "code",
   "execution_count": 5,
   "metadata": {},
   "outputs": [
    {
     "data": {
      "text/plain": [
       "Index(['row', 'Maker', 'Year \\nDistrilled', 'age \\nin \\ncast', 'ABV',\n",
       "       'Blended', 'Bourbon', 'Flavored', 'Other', 'Rye', 'Scotch',\n",
       "       'Single \\nBlended \\nGrain', 'Single \\nBlended \\nMalt', 'World',\n",
       "       'Review \\nScore \\n(Points)', ' price ', 'style', 'country'],\n",
       "      dtype='object')"
      ]
     },
     "execution_count": 5,
     "metadata": {},
     "output_type": "execute_result"
    }
   ],
   "source": [
    "df = pd.read_csv(\"Whiskey_Advocate_All_scraped_KHupdate-23 Jul.csv\")\n",
    "df.columns"
   ]
  },
  {
   "cell_type": "code",
   "execution_count": 26,
   "metadata": {},
   "outputs": [],
   "source": [
    "df.rename(columns = {\n",
    "    'Year \\nDistrilled':'distilled',\n",
    "    'age \\nin \\ncast': 'age in cast',\n",
    "    'Single \\nBlended \\nGrain': 'single blended grain',\n",
    "    'Single \\nBlended \\nMalt': 'single blended malt',\n",
    "    'World':'world',\n",
    "    'Review \\nScore \\n(Points)':'review score', \n",
    "    ' price ': 'price'\n",
    "}, inplace = True)"
   ]
  },
  {
   "cell_type": "code",
   "execution_count": 20,
   "metadata": {},
   "outputs": [],
   "source": [
    "for i in range(len(df)):\n",
    "    df.iat[i, 15] = df.iat[i, 15].strip().replace('$', '').replace(',', '')"
   ]
  },
  {
   "cell_type": "code",
   "execution_count": 21,
   "metadata": {},
   "outputs": [
    {
     "data": {
      "text/plain": [
       "'4500'"
      ]
     },
     "execution_count": 21,
     "metadata": {},
     "output_type": "execute_result"
    }
   ],
   "source": [
    "df.iat[1, 15]"
   ]
  },
  {
   "cell_type": "code",
   "execution_count": 32,
   "metadata": {},
   "outputs": [
    {
     "data": {
      "text/plain": [
       "row                       int64\n",
       "Maker                    object\n",
       "distilled               float64\n",
       "age in cast              object\n",
       "ABV                      object\n",
       "Blended                   int64\n",
       "Bourbon                   int64\n",
       "Flavored                  int64\n",
       "Other                     int64\n",
       "Rye                       int64\n",
       "Scotch                    int64\n",
       "single blended grain      int64\n",
       "single blended malt       int64\n",
       "world                     int64\n",
       "review score              int64\n",
       "price                     int64\n",
       "style                    object\n",
       "country                  object\n",
       "dtype: object"
      ]
     },
     "execution_count": 32,
     "metadata": {},
     "output_type": "execute_result"
    }
   ],
   "source": [
    "df.astype({'price':'int64'}, inplace = True)"
   ]
  },
  {
   "cell_type": "code",
   "execution_count": null,
   "metadata": {},
   "outputs": [],
   "source": []
  },
  {
   "cell_type": "code",
   "execution_count": null,
   "metadata": {},
   "outputs": [],
   "source": []
  }
 ],
 "metadata": {
  "kernelspec": {
   "display_name": "Python 3",
   "language": "python",
   "name": "python3"
  },
  "language_info": {
   "codemirror_mode": {
    "name": "ipython",
    "version": 3
   },
   "file_extension": ".py",
   "mimetype": "text/x-python",
   "name": "python",
   "nbconvert_exporter": "python",
   "pygments_lexer": "ipython3",
   "version": "3.7.0"
  }
 },
 "nbformat": 4,
 "nbformat_minor": 2
}

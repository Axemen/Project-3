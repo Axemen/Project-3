{
 "cells": [
  {
   "cell_type": "code",
   "execution_count": 1,
   "metadata": {},
   "outputs": [],
   "source": [
    "import pandas as pd"
   ]
  },
  {
   "cell_type": "markdown",
   "metadata": {},
   "source": [
    "CANADA"
   ]
  },
  {
   "cell_type": "code",
   "execution_count": 17,
   "metadata": {},
   "outputs": [
    {
     "data": {
      "text/plain": [
       "['Rainfall - (MM)', ' Year', ' Statistics', ' Country', ' ISO3']"
      ]
     },
     "execution_count": 17,
     "metadata": {},
     "output_type": "execute_result"
    }
   ],
   "source": [
    "pre = pd.read_csv('raw-data/canada_precip.csv')\n",
    "list(pre)"
   ]
  },
  {
   "cell_type": "code",
   "execution_count": 18,
   "metadata": {},
   "outputs": [
    {
     "data": {
      "text/plain": [
       "['Temperature - (Celsius)', ' Year', ' Statistics', ' Country', ' ISO3']"
      ]
     },
     "execution_count": 18,
     "metadata": {},
     "output_type": "execute_result"
    }
   ],
   "source": [
    "temp = pd.read_csv('raw-data/canada_temp.csv')\n",
    "list(temp)"
   ]
  },
  {
   "cell_type": "code",
   "execution_count": 19,
   "metadata": {},
   "outputs": [],
   "source": [
    "can = pd.merge(pre, temp, on=[' Year', ' Statistics', ' Country', ' ISO3'], how='outer')"
   ]
  },
  {
   "cell_type": "code",
   "execution_count": 20,
   "metadata": {},
   "outputs": [
    {
     "name": "stdout",
     "output_type": "stream",
     "text": [
      "['Rainfall - (MM)', ' Year', ' Statistics', ' Country', ' ISO3', 'Temperature - (Celsius)']\n"
     ]
    }
   ],
   "source": [
    "can.head()\n",
    "print(list(can))"
   ]
  },
  {
   "cell_type": "code",
   "execution_count": 21,
   "metadata": {},
   "outputs": [],
   "source": [
    "can = can.rename(columns={' Year':'Year', ' Statistics':'Statistics', ' Country':'Country', ' ISO3':'ISO3'})"
   ]
  },
  {
   "cell_type": "code",
   "execution_count": 22,
   "metadata": {},
   "outputs": [],
   "source": [
    "can_filt = can[can['Year']>=1970]"
   ]
  },
  {
   "cell_type": "code",
   "execution_count": 24,
   "metadata": {},
   "outputs": [],
   "source": [
    "can_filt=can_filt.groupby('Year').mean()"
   ]
  },
  {
   "cell_type": "code",
   "execution_count": 26,
   "metadata": {},
   "outputs": [],
   "source": [
    "can_filt['country']='Canada'"
   ]
  },
  {
   "cell_type": "code",
   "execution_count": 27,
   "metadata": {},
   "outputs": [],
   "source": [
    "can_filt.to_csv('clean-data/station_data/canada-cleaned.csv')"
   ]
  },
  {
   "cell_type": "markdown",
   "metadata": {},
   "source": [
    "JAPAN"
   ]
  },
  {
   "cell_type": "code",
   "execution_count": 29,
   "metadata": {},
   "outputs": [
    {
     "data": {
      "text/plain": [
       "['Rainfall - (MM)', ' Year', ' Statistics', ' Country', ' ISO3']"
      ]
     },
     "execution_count": 29,
     "metadata": {},
     "output_type": "execute_result"
    }
   ],
   "source": [
    "pre = pd.read_csv('raw-data/japan_pre.csv')\n",
    "list(pre)"
   ]
  },
  {
   "cell_type": "code",
   "execution_count": 30,
   "metadata": {},
   "outputs": [
    {
     "data": {
      "text/plain": [
       "['Temperature - (Celsius)', ' Year', ' Statistics', ' Country', ' ISO3']"
      ]
     },
     "execution_count": 30,
     "metadata": {},
     "output_type": "execute_result"
    }
   ],
   "source": [
    "temp = pd.read_csv('raw-data/japan_temp.csv')\n",
    "list(temp)"
   ]
  },
  {
   "cell_type": "code",
   "execution_count": 31,
   "metadata": {},
   "outputs": [],
   "source": [
    "japan=pd.merge(pre, temp, on=[' Year', ' Statistics', ' Country', ' ISO3'], how='outer')"
   ]
  },
  {
   "cell_type": "code",
   "execution_count": 32,
   "metadata": {},
   "outputs": [],
   "source": [
    "japan= japan.rename(columns={' Year':'Year', ' Statistics':'Statistics', ' Country':'Country', ' ISO3':'ISO3'})"
   ]
  },
  {
   "cell_type": "code",
   "execution_count": 33,
   "metadata": {},
   "outputs": [],
   "source": [
    "japan_filt = japan[japan['Year']>=1970]"
   ]
  },
  {
   "cell_type": "code",
   "execution_count": 34,
   "metadata": {},
   "outputs": [],
   "source": [
    "japan_filt =japan_filt.groupby('Year').mean()"
   ]
  },
  {
   "cell_type": "code",
   "execution_count": 35,
   "metadata": {},
   "outputs": [],
   "source": [
    "japan_filt['country']='Japan'"
   ]
  },
  {
   "cell_type": "code",
   "execution_count": 36,
   "metadata": {},
   "outputs": [],
   "source": [
    "japan_filt.to_csv('clean-data/station_data/japan_cleaned.csv')"
   ]
  },
  {
   "cell_type": "markdown",
   "metadata": {},
   "source": [
    "USA"
   ]
  },
  {
   "cell_type": "code",
   "execution_count": 37,
   "metadata": {},
   "outputs": [
    {
     "data": {
      "text/plain": [
       "['Rainfall - (MM)', ' Year', ' Statistics', ' Country', ' ISO3']"
      ]
     },
     "execution_count": 37,
     "metadata": {},
     "output_type": "execute_result"
    }
   ],
   "source": [
    "pre = pd.read_csv('raw-data/usa_pre.csv')\n",
    "list(pre)"
   ]
  },
  {
   "cell_type": "code",
   "execution_count": 38,
   "metadata": {},
   "outputs": [
    {
     "data": {
      "text/plain": [
       "['Temperature - (Celsius)', ' Year', ' Statistics', ' Country', ' ISO3']"
      ]
     },
     "execution_count": 38,
     "metadata": {},
     "output_type": "execute_result"
    }
   ],
   "source": [
    "temp = pd.read_csv('raw-data/usa_temp.csv')\n",
    "list(temp)"
   ]
  },
  {
   "cell_type": "code",
   "execution_count": 39,
   "metadata": {},
   "outputs": [],
   "source": [
    "usa=pd.merge(pre, temp, on=[' Year', ' Statistics', ' Country', ' ISO3'], how='outer')"
   ]
  },
  {
   "cell_type": "code",
   "execution_count": 40,
   "metadata": {},
   "outputs": [],
   "source": [
    "usa= usa.rename(columns={' Year':'Year', ' Statistics':'Statistics', ' Country':'Country', ' ISO3':'ISO3'})"
   ]
  },
  {
   "cell_type": "code",
   "execution_count": 41,
   "metadata": {},
   "outputs": [],
   "source": [
    "usa_filt = usa[usa['Year']>=1970]"
   ]
  },
  {
   "cell_type": "code",
   "execution_count": 42,
   "metadata": {},
   "outputs": [],
   "source": [
    "usa_filt=usa_filt.groupby('Year').mean()"
   ]
  },
  {
   "cell_type": "code",
   "execution_count": 44,
   "metadata": {},
   "outputs": [],
   "source": [
    "usa_filt['country']='USA'"
   ]
  },
  {
   "cell_type": "code",
   "execution_count": 45,
   "metadata": {},
   "outputs": [],
   "source": [
    "usa_filt.to_csv('clean-data/station_data/usa_cleaned.csv')"
   ]
  },
  {
   "cell_type": "markdown",
   "metadata": {},
   "source": [
    "COMBINE ALL WEATHER"
   ]
  },
  {
   "cell_type": "code",
   "execution_count": 2,
   "metadata": {},
   "outputs": [],
   "source": [
    "usa = pd.read_csv('usa_cleaned.csv')\n",
    "japan = pd.read_csv('japan_cleaned.csv')\n",
    "can = pd.read_csv('canada-cleaned.csv')\n",
    "gb=pd.read_csv('Scotland_cleaned.csv')\n",
    "ie=pd.read_csv('Ireland_cleaned.csv')"
   ]
  },
  {
   "cell_type": "code",
   "execution_count": 3,
   "metadata": {},
   "outputs": [],
   "source": [
    "ie=ie.rename(columns={'Day':'Year'})\n",
    "gb=gb.rename(columns={'Day':'Year'})\n",
    "usa=usa.rename(columns={'Rainfall - (MM)':'Precipitation','Temperature - (Celsius)':'Temperature'})\n",
    "japan=japan.rename(columns={'Rainfall - (MM)':'Precipitation','Temperature - (Celsius)':'Temperature'})\n",
    "can=can.rename(columns={'Rainfall - (MM)':'Precipitation','Temperature - (Celsius)':'Temperature'})"
   ]
  },
  {
   "cell_type": "code",
   "execution_count": 4,
   "metadata": {},
   "outputs": [],
   "source": [
    "ie['country']='Ireland'\n",
    "gb['country']='Scotland'"
   ]
  },
  {
   "cell_type": "code",
   "execution_count": 11,
   "metadata": {},
   "outputs": [],
   "source": [
    "master=pd.merge(usa,japan,on=['Year','Temperature','Precipitation','country'], how='outer')\n",
    "master=pd.merge(master,can,on=['Year','Temperature','Precipitation','country'], how='outer')\n",
    "master=pd.merge(master,ie,on=['Year','Temperature','Precipitation','country'], how='outer')\n",
    "master=pd.merge(master,gb,on=['Year','Temperature','Precipitation','country'], how='outer')"
   ]
  },
  {
   "cell_type": "code",
   "execution_count": 12,
   "metadata": {},
   "outputs": [
    {
     "data": {
      "text/plain": [
       "234"
      ]
     },
     "execution_count": 12,
     "metadata": {},
     "output_type": "execute_result"
    }
   ],
   "source": [
    "len(master)"
   ]
  },
  {
   "cell_type": "code",
   "execution_count": 13,
   "metadata": {},
   "outputs": [],
   "source": [
    "master = master[['Year', 'Temperature', 'Precipitation', 'country']]"
   ]
  },
  {
   "cell_type": "code",
   "execution_count": 14,
   "metadata": {},
   "outputs": [],
   "source": [
    "master.to_csv('master-weather.csv')"
   ]
  },
  {
   "cell_type": "code",
   "execution_count": null,
   "metadata": {},
   "outputs": [],
   "source": []
  }
 ],
 "metadata": {
  "kernelspec": {
   "display_name": "Python 3",
   "language": "python",
   "name": "python3"
  },
  "language_info": {
   "codemirror_mode": {
    "name": "ipython",
    "version": 3
   },
   "file_extension": ".py",
   "mimetype": "text/x-python",
   "name": "python",
   "nbconvert_exporter": "python",
   "pygments_lexer": "ipython3",
   "version": "3.7.1"
  }
 },
 "nbformat": 4,
 "nbformat_minor": 2
}

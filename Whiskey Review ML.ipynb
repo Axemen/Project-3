{
 "cells": [
  {
   "cell_type": "markdown",
   "metadata": {},
   "source": [
    "# Whiskey Review"
   ]
  },
  {
   "cell_type": "code",
   "execution_count": 22,
   "metadata": {},
   "outputs": [
    {
     "data": {
      "text/plain": [
       "datetime.datetime(2019, 7, 31, 1, 8, 54, 437674)"
      ]
     },
     "execution_count": 22,
     "metadata": {},
     "output_type": "execute_result"
    }
   ],
   "source": [
    "from datetime import datetime as dt\n",
    "dt.utcnow()"
   ]
  },
  {
   "cell_type": "code",
   "execution_count": 23,
   "metadata": {},
   "outputs": [],
   "source": [
    "# general libraries\n",
    "import pandas as pd\n",
    "import os\n",
    "import numpy as np\n",
    "\n",
    "# machine learning specific libraries\n",
    "from sklearn.feature_extraction.text import CountVectorizer\n",
    "from sklearn.model_selection import train_test_split\n",
    "from sklearn import metrics\n",
    "\n",
    "# model specific libraries\n",
    "from sklearn.linear_model import LogisticRegression\n",
    "from sklearn.ensemble import RandomForestClassifier\n",
    "from sklearn.naive_bayes import MultinomialNB\n",
    "from sklearn.naive_bayes import BernoulliNB\n",
    "from sklearn.svm import SVC \n"
   ]
  },
  {
   "cell_type": "code",
   "execution_count": 24,
   "metadata": {},
   "outputs": [
    {
     "data": {
      "text/plain": [
       "Index(['row_caller', 'Maker', 'distilled', 'age in cast', 'ABV', 'Blended',\n",
       "       'Bourbon', 'Flavored', 'Other', 'Rye', 'Scotch', 'single blended grain',\n",
       "       'single blended malt', 'world', 'review score', 'price', 'style',\n",
       "       'country', 'row_other', 'description'],\n",
       "      dtype='object')"
      ]
     },
     "execution_count": 24,
     "metadata": {},
     "output_type": "execute_result"
    }
   ],
   "source": [
    "# read data\n",
    "rawData = pd.read_csv(os.path.join(\"clean-data\",\"Whiskey_data\",\"Whiskey_Advocate_All_scraped_KHupdate-with-description.csv\"), encoding='iso-8859-1' )\n",
    "rawData.columns"
   ]
  },
  {
   "cell_type": "code",
   "execution_count": 25,
   "metadata": {},
   "outputs": [],
   "source": [
    "# clean data\n",
    "rawData.dropna(how = 'all',inplace=True)\n",
    "rawData.dropna(subset=['description', 'price'], inplace = True)"
   ]
  },
  {
   "cell_type": "code",
   "execution_count": 26,
   "metadata": {},
   "outputs": [
    {
     "data": {
      "text/html": [
       "<div>\n",
       "<style scoped>\n",
       "    .dataframe tbody tr th:only-of-type {\n",
       "        vertical-align: middle;\n",
       "    }\n",
       "\n",
       "    .dataframe tbody tr th {\n",
       "        vertical-align: top;\n",
       "    }\n",
       "\n",
       "    .dataframe thead th {\n",
       "        text-align: right;\n",
       "    }\n",
       "</style>\n",
       "<table border=\"1\" class=\"dataframe\">\n",
       "  <thead>\n",
       "    <tr style=\"text-align: right;\">\n",
       "      <th></th>\n",
       "      <th>row_caller</th>\n",
       "      <th>Maker</th>\n",
       "      <th>distilled</th>\n",
       "      <th>age in cast</th>\n",
       "      <th>ABV</th>\n",
       "      <th>Blended</th>\n",
       "      <th>Bourbon</th>\n",
       "      <th>Flavored</th>\n",
       "      <th>Other</th>\n",
       "      <th>Rye</th>\n",
       "      <th>Scotch</th>\n",
       "      <th>single blended grain</th>\n",
       "      <th>single blended malt</th>\n",
       "      <th>world</th>\n",
       "      <th>review score</th>\n",
       "      <th>price</th>\n",
       "      <th>style</th>\n",
       "      <th>country</th>\n",
       "      <th>row_other</th>\n",
       "      <th>description</th>\n",
       "    </tr>\n",
       "  </thead>\n",
       "  <tbody>\n",
       "    <tr>\n",
       "      <th>0</th>\n",
       "      <td>1</td>\n",
       "      <td>Johnnie Walker</td>\n",
       "      <td>NaN</td>\n",
       "      <td>NaN</td>\n",
       "      <td>40.00%</td>\n",
       "      <td>1</td>\n",
       "      <td>0</td>\n",
       "      <td>0</td>\n",
       "      <td>0</td>\n",
       "      <td>0</td>\n",
       "      <td>1</td>\n",
       "      <td>0</td>\n",
       "      <td>0</td>\n",
       "      <td>0</td>\n",
       "      <td>97</td>\n",
       "      <td>225</td>\n",
       "      <td>Blended Scotch Whisky</td>\n",
       "      <td>UK</td>\n",
       "      <td>2.0</td>\n",
       "      <td>Magnificently powerful and intense. Caramels, ...</td>\n",
       "    </tr>\n",
       "    <tr>\n",
       "      <th>1</th>\n",
       "      <td>2</td>\n",
       "      <td>Black Bowmore</td>\n",
       "      <td>1964.0</td>\n",
       "      <td>42 year old</td>\n",
       "      <td>40.50%</td>\n",
       "      <td>0</td>\n",
       "      <td>0</td>\n",
       "      <td>0</td>\n",
       "      <td>0</td>\n",
       "      <td>0</td>\n",
       "      <td>1</td>\n",
       "      <td>0</td>\n",
       "      <td>1</td>\n",
       "      <td>0</td>\n",
       "      <td>97</td>\n",
       "      <td>4500</td>\n",
       "      <td>Single Malt Scotch</td>\n",
       "      <td>UK</td>\n",
       "      <td>3.0</td>\n",
       "      <td>What impresses me most is how this whisky evol...</td>\n",
       "    </tr>\n",
       "  </tbody>\n",
       "</table>\n",
       "</div>"
      ],
      "text/plain": [
       "   row_caller           Maker  distilled  age in cast     ABV  Blended  \\\n",
       "0           1  Johnnie Walker        NaN          NaN  40.00%        1   \n",
       "1           2   Black Bowmore     1964.0  42 year old  40.50%        0   \n",
       "\n",
       "   Bourbon  Flavored  Other  Rye  Scotch  single blended grain  \\\n",
       "0        0         0      0    0       1                     0   \n",
       "1        0         0      0    0       1                     0   \n",
       "\n",
       "   single blended malt  world  review score  price                  style  \\\n",
       "0                    0      0            97    225  Blended Scotch Whisky   \n",
       "1                    1      0            97   4500     Single Malt Scotch   \n",
       "\n",
       "  country  row_other                                        description  \n",
       "0      UK        2.0  Magnificently powerful and intense. Caramels, ...  \n",
       "1      UK        3.0  What impresses me most is how this whisky evol...  "
      ]
     },
     "execution_count": 26,
     "metadata": {},
     "output_type": "execute_result"
    }
   ],
   "source": [
    "# head data\n",
    "rawData.head(2)"
   ]
  },
  {
   "cell_type": "code",
   "execution_count": 27,
   "metadata": {},
   "outputs": [],
   "source": [
    "# review points bin\n",
    "rp_bins = [(0,75), (75,80), (80,85), (85,90), (90,95), (95, 100)]\n",
    "\n",
    "# find bin based on value\n",
    "def find_rp_bin(value):\n",
    "    \n",
    "    for i in range(0, len(rp_bins)):\n",
    "        if rp_bins[i][0] <= value < rp_bins[i][1]:\n",
    "            return rp_bins[i][0] #lower end of the bin is returned\n",
    "    return -1\n",
    "\n",
    "# fill y value\n",
    "rawData['rp_bins'] = rawData['review score'].apply(find_rp_bin)"
   ]
  },
  {
   "cell_type": "code",
   "execution_count": 28,
   "metadata": {},
   "outputs": [
    {
     "name": "stdout",
     "output_type": "stream",
     "text": [
      "25 625\n"
     ]
    }
   ],
   "source": [
    "# drop bottom 5 % and top 5 % based upon price\n",
    "bottom5 = np.percentile(rawData['price'],5,axis=0, interpolation='lower')\n",
    "top5 = np.percentile(rawData['price'],95,axis=0, interpolation='lower')\n",
    "print(bottom5,top5)"
   ]
  },
  {
   "cell_type": "code",
   "execution_count": 29,
   "metadata": {},
   "outputs": [],
   "source": [
    "rawData = rawData[rawData.price >= 25]\n",
    "rawData = rawData[rawData.price <= 625]"
   ]
  },
  {
   "cell_type": "code",
   "execution_count": 30,
   "metadata": {},
   "outputs": [
    {
     "name": "stdout",
     "output_type": "stream",
     "text": [
      "50 79 127 625\n"
     ]
    }
   ],
   "source": [
    "# price quartiles\n",
    "Q1 = np.percentile(rawData['price'],25,axis=0, interpolation='lower')\n",
    "Q2 = np.percentile(rawData['price'],50,axis=0, interpolation='lower')\n",
    "Q3 = np.percentile(rawData['price'],75,axis=0, interpolation='lower')\n",
    "Q4 = np.percentile(rawData['price'],100,axis=0, interpolation='lower')\n",
    "print(Q1,Q2,Q3,Q4)"
   ]
  },
  {
   "cell_type": "code",
   "execution_count": 31,
   "metadata": {},
   "outputs": [],
   "source": [
    "# price bin\n",
    "price_bins = [(0,Q1), (Q1,Q2), (Q2,Q3), (Q3,Q4+1)]\n",
    "\n",
    "# find bin based on value\n",
    "def find_price_bin(value):\n",
    "    price = 0\n",
    "    for i in range(0, len(price_bins)):\n",
    "        if price_bins[i][0] <= value < price_bins[i][1]:\n",
    "            return price_bins[i][0] #lower end of the bin is returned\n",
    "    return -1\n",
    "\n",
    "# \n",
    "rawData['price_bins'] = rawData['price'].apply(find_price_bin)"
   ]
  },
  {
   "cell_type": "code",
   "execution_count": 32,
   "metadata": {},
   "outputs": [
    {
     "data": {
      "text/plain": [
       "[(0, 50), (50, 79), (79, 127), (127, 626)]"
      ]
     },
     "execution_count": 32,
     "metadata": {},
     "output_type": "execute_result"
    }
   ],
   "source": [
    "price_bins"
   ]
  },
  {
   "cell_type": "markdown",
   "metadata": {},
   "source": [
    "# Models"
   ]
  },
  {
   "cell_type": "markdown",
   "metadata": {},
   "source": [
    "## Logistic Regression"
   ]
  },
  {
   "cell_type": "code",
   "execution_count": 36,
   "metadata": {},
   "outputs": [],
   "source": [
    "def LogisticRegressionModel(dataset,textColumn,yColumn):\n",
    "    # input:\n",
    "    #   dataset: unrestricted dataset\n",
    "    #   textColumn: column name containing text that will be analysed for machine learning\n",
    "    #   yColumn: column name containing the label\n",
    "    # return\n",
    "    #   LogisticRegressionModel_score\n",
    "\n",
    "    #  split data\n",
    "    X = dataset[textColumn].values\n",
    "    y = dataset[yColumn].values\n",
    "    X_train, X_test, y_train, y_test = train_test_split(X, y, test_size=0.25, random_state=1000)\n",
    "    \n",
    "    try:    \n",
    "        # vectorize training descriptions\n",
    "        vectorizer = CountVectorizer()\n",
    "        vectorizer.fit(X_train)\n",
    "        X_v_train = vectorizer.transform(X_train)\n",
    "        X_v_test  = vectorizer.transform(X_test)\n",
    "\n",
    "        # logistic regression classification model \n",
    "#         classifier = LogisticRegression(solver='liblinear',multi_class='auto')\n",
    "        classifier = LogisticRegression(solver='newton-cg',multi_class='auto')\n",
    "        classifier.fit(X_v_train, y_train) # vectorized training data\n",
    "        LogisticRegressionModel_score = classifier.score(X_v_test, y_test)\n",
    "    except:\n",
    "        LogisticRegressionModel_score = 0\n",
    "    \n",
    "    return LogisticRegressionModel_score\n"
   ]
  },
  {
   "cell_type": "markdown",
   "metadata": {},
   "source": [
    "## Random forests"
   ]
  },
  {
   "cell_type": "code",
   "execution_count": 13,
   "metadata": {},
   "outputs": [],
   "source": [
    "def RandomForestModel(dataset,textColumn,yColumn):\n",
    "    # input:\n",
    "    #   dataset: unrestricted dataset\n",
    "    #   textColumn: column name containing text that will be analysed for machine learning\n",
    "    #   yColumn: column name containing the label\n",
    "    # return\n",
    "    #   RandomForestModel_score\n",
    "\n",
    "    #  split data\n",
    "    X = dataset[textColumn].values\n",
    "    y = dataset[yColumn].values\n",
    "    X_train, X_test, y_train, y_test = train_test_split(X, y, test_size=0.25, random_state=1000)\n",
    "    \n",
    "    try:\n",
    "        # vectorize training descriptions\n",
    "        vectorizer = CountVectorizer()\n",
    "        vectorizer.fit(X_train)\n",
    "        X_v_train = vectorizer.transform(X_train)\n",
    "        X_v_test  = vectorizer.transform(X_test)\n",
    "\n",
    "        # Random Forest classification model\n",
    "        classifier = RandomForestClassifier(n_estimators=200)\n",
    "        classifier.fit(X_v_train, y_train) # vectorized training data\n",
    "        RandomForestModel_score = classifier.score(X_v_test, y_test)\n",
    "    except:\n",
    "        RandomForestModel_score = 0\n",
    "    \n",
    "    return RandomForestModel_score\n"
   ]
  },
  {
   "cell_type": "markdown",
   "metadata": {},
   "source": [
    "## Naive Bayes - Multinomial"
   ]
  },
  {
   "cell_type": "code",
   "execution_count": 14,
   "metadata": {},
   "outputs": [],
   "source": [
    "def NaiveBayesMultinomialModel(dataset,textColumn,yColumn):\n",
    "    # input:\n",
    "    #   dataset: unrestricted dataset\n",
    "    #   textColumn: column name containing text that will be analysed for machine learning\n",
    "    #   yColumn: column name containing the label\n",
    "    # return\n",
    "    #   NaiveBayesMultinomialModel_score\n",
    "\n",
    "    #  split data\n",
    "    X = dataset[textColumn].values\n",
    "    y = dataset[yColumn].values\n",
    "    X_train, X_test, y_train, y_test = train_test_split(X, y, test_size=0.25, random_state=1000)\n",
    "    \n",
    "    # vectorize training descriptions\n",
    "    vectorizer = CountVectorizer()\n",
    "    vectorizer.fit(X_train)\n",
    "    X_v_train = vectorizer.transform(X_train)\n",
    "    X_v_test  = vectorizer.transform(X_test)\n",
    "    \n",
    "    # Naive Bayes - Multinomial - classification model\n",
    "    classifier = MultinomialNB()\n",
    "    classifier.fit(X_v_train, y_train) # vectorized training data\n",
    "    MultinomialNB(alpha=1.0, class_prior=None, fit_prior=True)\n",
    "    NaiveBayesMultinomialModel_score = metrics.accuracy_score(y_test, classifier.predict(X_v_test))\n",
    "    \n",
    "    return NaiveBayesMultinomialModel_score\n"
   ]
  },
  {
   "cell_type": "markdown",
   "metadata": {},
   "source": [
    "## Naive Bayes - Bernoulli"
   ]
  },
  {
   "cell_type": "code",
   "execution_count": 15,
   "metadata": {},
   "outputs": [],
   "source": [
    "def NaiveBayesBernoulliModel(dataset,textColumn,yColumn):\n",
    "    # input:\n",
    "    #   dataset: unrestricted dataset\n",
    "    #   textColumn: column name containing text that will be analysed for machine learning\n",
    "    #   yColumn: column name containing the label\n",
    "    # return\n",
    "    #   NaiveBayesBernoulliModel_score\n",
    "\n",
    "    #  split data\n",
    "    X = dataset[textColumn].values\n",
    "    y = dataset[yColumn].values\n",
    "    X_train, X_test, y_train, y_test = train_test_split(X, y, test_size=0.25, random_state=1000)\n",
    "    \n",
    "    # vectorize training descriptions\n",
    "    vectorizer = CountVectorizer()\n",
    "    vectorizer.fit(X_train)\n",
    "    X_v_train = vectorizer.transform(X_train)\n",
    "    X_v_test  = vectorizer.transform(X_test)\n",
    "    \n",
    "    # Naive Bayes - Bernoulli - classification model\n",
    "    classifier = BernoulliNB()\n",
    "    classifier.fit(X_v_train, y_train) # vectorized training data\n",
    "    BernoulliNB(alpha=1.0, binarize=0.0, class_prior=None, fit_prior=True)\n",
    "    NaiveBayesBernoulliModel_score = metrics.accuracy_score(y_test, classifier.predict(X_v_test))\n",
    "    \n",
    "    return NaiveBayesBernoulliModel_score\n"
   ]
  },
  {
   "cell_type": "markdown",
   "metadata": {},
   "source": [
    "## Support Vector Machine"
   ]
  },
  {
   "cell_type": "code",
   "execution_count": 16,
   "metadata": {},
   "outputs": [],
   "source": [
    "def SupportVectorMachineModel(dataset,textColumn,yColumn):\n",
    "    # input:\n",
    "    #   dataset: unrestricted dataset\n",
    "    #   textColumn: column name containing text that will be analysed for machine learning\n",
    "    #   yColumn: column name containing the label\n",
    "    # return\n",
    "    #   SupportVectorMachineModel_score\n",
    "\n",
    "    #  split data\n",
    "    X = dataset[textColumn].values\n",
    "    y = dataset[yColumn].values\n",
    "    X_train, X_test, y_train, y_test = train_test_split(X, y, test_size=0.25, random_state=1000)\n",
    "    \n",
    "    # vectorize training descriptions\n",
    "    vectorizer = CountVectorizer()\n",
    "    vectorizer.fit(X_train)\n",
    "    X_v_train = vectorizer.transform(X_train)\n",
    "    X_v_test  = vectorizer.transform(X_test)\n",
    "    \n",
    "    # Naive Bayes - Bernoulli - classification model\n",
    "    classifier = SVC(gamma='auto')\n",
    "    classifier.fit(X_v_train, y_train) # vectorized training data\n",
    "    SupportVectorMachineModel_score = metrics.accuracy_score(y_test, classifier.predict(X_v_test))\n",
    "    \n",
    "    return SupportVectorMachineModel_score\n"
   ]
  },
  {
   "cell_type": "markdown",
   "metadata": {},
   "source": [
    "# Machine Learning"
   ]
  },
  {
   "cell_type": "code",
   "execution_count": 17,
   "metadata": {},
   "outputs": [],
   "source": [
    "def AllModelsApplied(dataset,check):\n",
    "    # Logistic Regression\n",
    "    LRM_ReviewPoints_Value_score = LogisticRegressionModel(dataset,'description','review score')\n",
    "    LRM_ReviewPoints_Bins_score = LogisticRegressionModel(dataset,'description','rp_bins')\n",
    "    LRM_Price_Value_score = LogisticRegressionModel(dataset,'description','price')\n",
    "    LRM_Price_Bins_score = LogisticRegressionModel(dataset,'description','price_bins')\n",
    "    Outcomes.append(round(LRM_ReviewPoints_Value_score,2))\n",
    "    Outcomes.append(round(LRM_ReviewPoints_Bins_score,2))\n",
    "    Outcomes.append(round(LRM_Price_Value_score,2))\n",
    "    Outcomes.append(round(LRM_Price_Bins_score,2))\n",
    "\n",
    "    # Random Forest\n",
    "    RF_ReviewPoints_Value_score = RandomForestModel(dataset,'description','review score')\n",
    "    RF_ReviewPoints_Bins_score = RandomForestModel(dataset,'description','rp_bins')\n",
    "    RF_Price_Value_score = RandomForestModel(dataset,'description','price')\n",
    "    RF_Price_Bins_score = RandomForestModel(dataset,'description','price_bins')\n",
    "    Outcomes.append(round(RF_ReviewPoints_Value_score,2))\n",
    "    Outcomes.append(round(RF_ReviewPoints_Bins_score,2))\n",
    "    Outcomes.append(round(RF_Price_Value_score,2))\n",
    "    Outcomes.append(round(RF_Price_Bins_score,2))\n",
    "\n",
    "    # Naive Bayes - Multinomial\n",
    "    NBM_ReviewPoints_Value_score = NaiveBayesMultinomialModel(dataset,'description','review score')\n",
    "    NBM_ReviewPoints_Bins_score = NaiveBayesMultinomialModel(dataset,'description','rp_bins')\n",
    "    NBM_Price_Value_score = NaiveBayesMultinomialModel(dataset,'description','price')\n",
    "    NBM_Price_Bins_score = NaiveBayesMultinomialModel(dataset,'description','price_bins')\n",
    "    Outcomes.append(round(NBM_ReviewPoints_Value_score,2))\n",
    "    Outcomes.append(round(NBM_ReviewPoints_Bins_score,2))\n",
    "    Outcomes.append(round(NBM_Price_Value_score,2))\n",
    "    Outcomes.append(round(NBM_Price_Bins_score,2))\n",
    "\n",
    "    # Naive Bayes - Bernoulli\n",
    "    NBB_ReviewPoints_Value_score = NaiveBayesBernoulliModel(dataset,'description','review score')\n",
    "    NBB_ReviewPoints_Bins_score = NaiveBayesBernoulliModel(dataset,'description','rp_bins')\n",
    "    NBB_Price_Value_score = NaiveBayesBernoulliModel(dataset,'description','price')\n",
    "    NBB_Price_Bins_score = NaiveBayesBernoulliModel(dataset,'description','price_bins')\n",
    "    Outcomes.append(round(NBB_ReviewPoints_Value_score,2))\n",
    "    Outcomes.append(round(NBB_ReviewPoints_Bins_score,2))\n",
    "    Outcomes.append(round(NBB_Price_Value_score,2))\n",
    "    Outcomes.append(round(NBB_Price_Bins_score,2))\n",
    "    \n",
    "    # Support Vector Machines\n",
    "    SVM_ReviewPoints_Value_score = SupportVectorMachineModel(dataset,'description','review score')\n",
    "    SVM_ReviewPoints_Bins_score = SupportVectorMachineModel(dataset,'description','rp_bins')\n",
    "    SVM_Price_Value_score = SupportVectorMachineModel(dataset,'description','price')\n",
    "    if ( check != 'Q1' and check != 'Q2' and check != 'Q3' and check != 'Q4'):\n",
    "        SVM_Price_Bins_score = SupportVectorMachineModel(dataset,'description','price_bins')\n",
    "    else:\n",
    "        SVM_Price_Bins_score = 0\n",
    "    Outcomes.append(round(SVM_ReviewPoints_Value_score,2))\n",
    "    Outcomes.append(round(SVM_ReviewPoints_Bins_score,2))\n",
    "    Outcomes.append(round(SVM_Price_Value_score,2))\n",
    "    Outcomes.append(round(SVM_Price_Bins_score,2))\n",
    "        \n",
    "    return Outcomes"
   ]
  },
  {
   "cell_type": "markdown",
   "metadata": {},
   "source": [
    "# Data Sets"
   ]
  },
  {
   "cell_type": "code",
   "execution_count": 18,
   "metadata": {},
   "outputs": [],
   "source": [
    "# header data\n",
    "Result = pd.DataFrame(columns=('Model','Feature','Full_Data','Q1_Q2','Q2_Q3','Q1','Q2','Q3','Q4'))\n",
    "Result['Model'] = ['Logistic Regression','Logistic Regression','Logistic Regression','Logistic Regression','Random Forest','Random Forest','Random Forest','Random Forest','Naive Bayes - Multinomial','Naive Bayes - Multinomial','Naive Bayes - Multinomial','Naive Bayes - Multinomial','Naive Bayes - Bernoulli','Naive Bayes - Bernoulli','Naive Bayes - Bernoulli','Naive Bayes - Bernoulli','SupportVectorMachine','SupportVectorMachine','SupportVectorMachine','SupportVectorMachine']\n",
    "Result['Feature'] = ['review score','review score bins','price','price bins','review score','review score bins','price','price bins','review score','review score bins','price','price bins','review score','review score bins','price','price bins','review score','review score bins','price','price bins']"
   ]
  },
  {
   "cell_type": "code",
   "execution_count": 19,
   "metadata": {},
   "outputs": [],
   "source": [
    "# full data set\n",
    "Outcomes = []\n",
    "FilteredData = rawData.copy()\n",
    "AllModelsApplied(FilteredData,'full data set')\n",
    "Result['Full_Data'] = Outcomes"
   ]
  },
  {
   "cell_type": "code",
   "execution_count": 20,
   "metadata": {},
   "outputs": [],
   "source": [
    "# Q1/Q2\n",
    "Outcomes = []\n",
    "FilteredData = rawData.copy()\n",
    "indexNames = FilteredData[ (FilteredData['price'] >= Q2)].index\n",
    "FilteredData.drop(indexNames , inplace=True)\n",
    "AllModelsApplied(FilteredData,'Q1/Q2')\n",
    "Result['Q1_Q2'] = Outcomes"
   ]
  },
  {
   "cell_type": "code",
   "execution_count": 21,
   "metadata": {},
   "outputs": [],
   "source": [
    "# Q2/Q3\n",
    "Outcomes = []\n",
    "FilteredData = rawData.copy()\n",
    "indexNames = FilteredData[ (FilteredData['price'] < Q1)].index\n",
    "FilteredData.drop(indexNames , inplace=True)\n",
    "indexNames = FilteredData[ (FilteredData['price'] >= Q3)].index\n",
    "FilteredData.drop(indexNames , inplace=True)\n",
    "AllModelsApplied(FilteredData,'Q2/Q3')\n",
    "Result['Q2_Q3'] = Outcomes"
   ]
  },
  {
   "cell_type": "code",
   "execution_count": 22,
   "metadata": {},
   "outputs": [],
   "source": [
    "# Q1\n",
    "Outcomes = []\n",
    "FilteredData = rawData.copy()\n",
    "indexNames = FilteredData[ (FilteredData['price'] >= Q1)].index\n",
    "FilteredData.drop(indexNames , inplace=True)\n",
    "AllModelsApplied(FilteredData,'Q1')\n",
    "Result['Q1'] = Outcomes"
   ]
  },
  {
   "cell_type": "code",
   "execution_count": 23,
   "metadata": {},
   "outputs": [],
   "source": [
    "# Q2\n",
    "Outcomes = []\n",
    "FilteredData = rawData.copy()\n",
    "indexNames = FilteredData[ (FilteredData['price'] < Q1)].index\n",
    "FilteredData.drop(indexNames , inplace=True)\n",
    "indexNames = FilteredData[ (FilteredData['price'] >= Q2)].index\n",
    "FilteredData.drop(indexNames , inplace=True)\n",
    "AllModelsApplied(FilteredData,'Q2')\n",
    "Result['Q2'] = Outcomes"
   ]
  },
  {
   "cell_type": "code",
   "execution_count": 24,
   "metadata": {},
   "outputs": [],
   "source": [
    "# Q3\n",
    "Outcomes = []\n",
    "FilteredData = rawData.copy()\n",
    "indexNames = FilteredData[ (FilteredData['price'] < Q2)].index\n",
    "FilteredData.drop(indexNames , inplace=True)\n",
    "indexNames = FilteredData[ (FilteredData['price'] >= Q3)].index\n",
    "FilteredData.drop(indexNames , inplace=True)\n",
    "AllModelsApplied(FilteredData,'Q3')\n",
    "Result['Q3'] = Outcomes"
   ]
  },
  {
   "cell_type": "code",
   "execution_count": 25,
   "metadata": {},
   "outputs": [],
   "source": [
    "# Q4\n",
    "Outcomes = []\n",
    "FilteredData = rawData.copy()\n",
    "indexNames = FilteredData[ (FilteredData['price'] < Q3)].index\n",
    "FilteredData.drop(indexNames , inplace=True)\n",
    "AllModelsApplied(FilteredData,'Q4')\n",
    "Result['Q4'] = Outcomes"
   ]
  },
  {
   "cell_type": "markdown",
   "metadata": {},
   "source": [
    "# Summary"
   ]
  },
  {
   "cell_type": "code",
   "execution_count": 26,
   "metadata": {},
   "outputs": [
    {
     "data": {
      "text/html": [
       "<div>\n",
       "<style scoped>\n",
       "    .dataframe tbody tr th:only-of-type {\n",
       "        vertical-align: middle;\n",
       "    }\n",
       "\n",
       "    .dataframe tbody tr th {\n",
       "        vertical-align: top;\n",
       "    }\n",
       "\n",
       "    .dataframe thead th {\n",
       "        text-align: right;\n",
       "    }\n",
       "</style>\n",
       "<table border=\"1\" class=\"dataframe\">\n",
       "  <thead>\n",
       "    <tr style=\"text-align: right;\">\n",
       "      <th></th>\n",
       "      <th>Model</th>\n",
       "      <th>Feature</th>\n",
       "      <th>Full_Data</th>\n",
       "      <th>Q1_Q2</th>\n",
       "      <th>Q2_Q3</th>\n",
       "      <th>Q1</th>\n",
       "      <th>Q2</th>\n",
       "      <th>Q3</th>\n",
       "      <th>Q4</th>\n",
       "    </tr>\n",
       "  </thead>\n",
       "  <tbody>\n",
       "    <tr>\n",
       "      <th>0</th>\n",
       "      <td>Logistic Regression</td>\n",
       "      <td>review score</td>\n",
       "      <td>0.11</td>\n",
       "      <td>0.11</td>\n",
       "      <td>0.10</td>\n",
       "      <td>0.14</td>\n",
       "      <td>0.10</td>\n",
       "      <td>0.11</td>\n",
       "      <td>0.10</td>\n",
       "    </tr>\n",
       "    <tr>\n",
       "      <th>1</th>\n",
       "      <td>Logistic Regression</td>\n",
       "      <td>review score bins</td>\n",
       "      <td>0.47</td>\n",
       "      <td>0.50</td>\n",
       "      <td>0.47</td>\n",
       "      <td>0.48</td>\n",
       "      <td>0.51</td>\n",
       "      <td>0.46</td>\n",
       "      <td>0.46</td>\n",
       "    </tr>\n",
       "    <tr>\n",
       "      <th>2</th>\n",
       "      <td>Logistic Regression</td>\n",
       "      <td>price</td>\n",
       "      <td>0.07</td>\n",
       "      <td>0.12</td>\n",
       "      <td>0.09</td>\n",
       "      <td>0.20</td>\n",
       "      <td>0.17</td>\n",
       "      <td>0.14</td>\n",
       "      <td>0.10</td>\n",
       "    </tr>\n",
       "    <tr>\n",
       "      <th>3</th>\n",
       "      <td>Logistic Regression</td>\n",
       "      <td>price bins</td>\n",
       "      <td>0.44</td>\n",
       "      <td>0.63</td>\n",
       "      <td>0.57</td>\n",
       "      <td>0.00</td>\n",
       "      <td>0.00</td>\n",
       "      <td>0.00</td>\n",
       "      <td>0.00</td>\n",
       "    </tr>\n",
       "    <tr>\n",
       "      <th>4</th>\n",
       "      <td>Random Forest</td>\n",
       "      <td>review score</td>\n",
       "      <td>0.09</td>\n",
       "      <td>0.11</td>\n",
       "      <td>0.12</td>\n",
       "      <td>0.15</td>\n",
       "      <td>0.11</td>\n",
       "      <td>0.09</td>\n",
       "      <td>0.12</td>\n",
       "    </tr>\n",
       "    <tr>\n",
       "      <th>5</th>\n",
       "      <td>Random Forest</td>\n",
       "      <td>review score bins</td>\n",
       "      <td>0.46</td>\n",
       "      <td>0.50</td>\n",
       "      <td>0.54</td>\n",
       "      <td>0.54</td>\n",
       "      <td>0.52</td>\n",
       "      <td>0.46</td>\n",
       "      <td>0.47</td>\n",
       "    </tr>\n",
       "    <tr>\n",
       "      <th>6</th>\n",
       "      <td>Random Forest</td>\n",
       "      <td>price</td>\n",
       "      <td>0.08</td>\n",
       "      <td>0.14</td>\n",
       "      <td>0.13</td>\n",
       "      <td>0.22</td>\n",
       "      <td>0.17</td>\n",
       "      <td>0.14</td>\n",
       "      <td>0.08</td>\n",
       "    </tr>\n",
       "    <tr>\n",
       "      <th>7</th>\n",
       "      <td>Random Forest</td>\n",
       "      <td>price bins</td>\n",
       "      <td>0.48</td>\n",
       "      <td>0.68</td>\n",
       "      <td>0.64</td>\n",
       "      <td>1.00</td>\n",
       "      <td>1.00</td>\n",
       "      <td>1.00</td>\n",
       "      <td>1.00</td>\n",
       "    </tr>\n",
       "    <tr>\n",
       "      <th>8</th>\n",
       "      <td>Naive Bayes - Multinomial</td>\n",
       "      <td>review score</td>\n",
       "      <td>0.09</td>\n",
       "      <td>0.14</td>\n",
       "      <td>0.11</td>\n",
       "      <td>0.12</td>\n",
       "      <td>0.14</td>\n",
       "      <td>0.09</td>\n",
       "      <td>0.11</td>\n",
       "    </tr>\n",
       "    <tr>\n",
       "      <th>9</th>\n",
       "      <td>Naive Bayes - Multinomial</td>\n",
       "      <td>review score bins</td>\n",
       "      <td>0.50</td>\n",
       "      <td>0.52</td>\n",
       "      <td>0.54</td>\n",
       "      <td>0.51</td>\n",
       "      <td>0.56</td>\n",
       "      <td>0.46</td>\n",
       "      <td>0.46</td>\n",
       "    </tr>\n",
       "    <tr>\n",
       "      <th>10</th>\n",
       "      <td>Naive Bayes - Multinomial</td>\n",
       "      <td>price</td>\n",
       "      <td>0.08</td>\n",
       "      <td>0.10</td>\n",
       "      <td>0.12</td>\n",
       "      <td>0.20</td>\n",
       "      <td>0.21</td>\n",
       "      <td>0.15</td>\n",
       "      <td>0.09</td>\n",
       "    </tr>\n",
       "    <tr>\n",
       "      <th>11</th>\n",
       "      <td>Naive Bayes - Multinomial</td>\n",
       "      <td>price bins</td>\n",
       "      <td>0.49</td>\n",
       "      <td>0.69</td>\n",
       "      <td>0.59</td>\n",
       "      <td>1.00</td>\n",
       "      <td>1.00</td>\n",
       "      <td>1.00</td>\n",
       "      <td>1.00</td>\n",
       "    </tr>\n",
       "    <tr>\n",
       "      <th>12</th>\n",
       "      <td>Naive Bayes - Bernoulli</td>\n",
       "      <td>review score</td>\n",
       "      <td>0.08</td>\n",
       "      <td>0.13</td>\n",
       "      <td>0.13</td>\n",
       "      <td>0.12</td>\n",
       "      <td>0.14</td>\n",
       "      <td>0.08</td>\n",
       "      <td>0.13</td>\n",
       "    </tr>\n",
       "    <tr>\n",
       "      <th>13</th>\n",
       "      <td>Naive Bayes - Bernoulli</td>\n",
       "      <td>review score bins</td>\n",
       "      <td>0.49</td>\n",
       "      <td>0.50</td>\n",
       "      <td>0.53</td>\n",
       "      <td>0.51</td>\n",
       "      <td>0.51</td>\n",
       "      <td>0.46</td>\n",
       "      <td>0.48</td>\n",
       "    </tr>\n",
       "    <tr>\n",
       "      <th>14</th>\n",
       "      <td>Naive Bayes - Bernoulli</td>\n",
       "      <td>price</td>\n",
       "      <td>0.06</td>\n",
       "      <td>0.07</td>\n",
       "      <td>0.12</td>\n",
       "      <td>0.17</td>\n",
       "      <td>0.16</td>\n",
       "      <td>0.15</td>\n",
       "      <td>0.07</td>\n",
       "    </tr>\n",
       "    <tr>\n",
       "      <th>15</th>\n",
       "      <td>Naive Bayes - Bernoulli</td>\n",
       "      <td>price bins</td>\n",
       "      <td>0.50</td>\n",
       "      <td>0.70</td>\n",
       "      <td>0.58</td>\n",
       "      <td>1.00</td>\n",
       "      <td>1.00</td>\n",
       "      <td>1.00</td>\n",
       "      <td>1.00</td>\n",
       "    </tr>\n",
       "    <tr>\n",
       "      <th>16</th>\n",
       "      <td>SupportVectorMachine</td>\n",
       "      <td>review score</td>\n",
       "      <td>0.08</td>\n",
       "      <td>0.12</td>\n",
       "      <td>0.11</td>\n",
       "      <td>0.12</td>\n",
       "      <td>0.13</td>\n",
       "      <td>0.07</td>\n",
       "      <td>0.14</td>\n",
       "    </tr>\n",
       "    <tr>\n",
       "      <th>17</th>\n",
       "      <td>SupportVectorMachine</td>\n",
       "      <td>review score bins</td>\n",
       "      <td>0.42</td>\n",
       "      <td>0.45</td>\n",
       "      <td>0.50</td>\n",
       "      <td>0.42</td>\n",
       "      <td>0.48</td>\n",
       "      <td>0.44</td>\n",
       "      <td>0.43</td>\n",
       "    </tr>\n",
       "    <tr>\n",
       "      <th>18</th>\n",
       "      <td>SupportVectorMachine</td>\n",
       "      <td>price</td>\n",
       "      <td>0.05</td>\n",
       "      <td>0.06</td>\n",
       "      <td>0.09</td>\n",
       "      <td>0.17</td>\n",
       "      <td>0.14</td>\n",
       "      <td>0.15</td>\n",
       "      <td>0.07</td>\n",
       "    </tr>\n",
       "    <tr>\n",
       "      <th>19</th>\n",
       "      <td>SupportVectorMachine</td>\n",
       "      <td>price bins</td>\n",
       "      <td>0.29</td>\n",
       "      <td>0.55</td>\n",
       "      <td>0.55</td>\n",
       "      <td>0.00</td>\n",
       "      <td>0.00</td>\n",
       "      <td>0.00</td>\n",
       "      <td>0.00</td>\n",
       "    </tr>\n",
       "  </tbody>\n",
       "</table>\n",
       "</div>"
      ],
      "text/plain": [
       "                        Model            Feature  Full_Data  Q1_Q2  Q2_Q3  \\\n",
       "0         Logistic Regression       review score       0.11   0.11   0.10   \n",
       "1         Logistic Regression  review score bins       0.47   0.50   0.47   \n",
       "2         Logistic Regression              price       0.07   0.12   0.09   \n",
       "3         Logistic Regression         price bins       0.44   0.63   0.57   \n",
       "4               Random Forest       review score       0.09   0.11   0.12   \n",
       "5               Random Forest  review score bins       0.46   0.50   0.54   \n",
       "6               Random Forest              price       0.08   0.14   0.13   \n",
       "7               Random Forest         price bins       0.48   0.68   0.64   \n",
       "8   Naive Bayes - Multinomial       review score       0.09   0.14   0.11   \n",
       "9   Naive Bayes - Multinomial  review score bins       0.50   0.52   0.54   \n",
       "10  Naive Bayes - Multinomial              price       0.08   0.10   0.12   \n",
       "11  Naive Bayes - Multinomial         price bins       0.49   0.69   0.59   \n",
       "12    Naive Bayes - Bernoulli       review score       0.08   0.13   0.13   \n",
       "13    Naive Bayes - Bernoulli  review score bins       0.49   0.50   0.53   \n",
       "14    Naive Bayes - Bernoulli              price       0.06   0.07   0.12   \n",
       "15    Naive Bayes - Bernoulli         price bins       0.50   0.70   0.58   \n",
       "16       SupportVectorMachine       review score       0.08   0.12   0.11   \n",
       "17       SupportVectorMachine  review score bins       0.42   0.45   0.50   \n",
       "18       SupportVectorMachine              price       0.05   0.06   0.09   \n",
       "19       SupportVectorMachine         price bins       0.29   0.55   0.55   \n",
       "\n",
       "      Q1    Q2    Q3    Q4  \n",
       "0   0.14  0.10  0.11  0.10  \n",
       "1   0.48  0.51  0.46  0.46  \n",
       "2   0.20  0.17  0.14  0.10  \n",
       "3   0.00  0.00  0.00  0.00  \n",
       "4   0.15  0.11  0.09  0.12  \n",
       "5   0.54  0.52  0.46  0.47  \n",
       "6   0.22  0.17  0.14  0.08  \n",
       "7   1.00  1.00  1.00  1.00  \n",
       "8   0.12  0.14  0.09  0.11  \n",
       "9   0.51  0.56  0.46  0.46  \n",
       "10  0.20  0.21  0.15  0.09  \n",
       "11  1.00  1.00  1.00  1.00  \n",
       "12  0.12  0.14  0.08  0.13  \n",
       "13  0.51  0.51  0.46  0.48  \n",
       "14  0.17  0.16  0.15  0.07  \n",
       "15  1.00  1.00  1.00  1.00  \n",
       "16  0.12  0.13  0.07  0.14  \n",
       "17  0.42  0.48  0.44  0.43  \n",
       "18  0.17  0.14  0.15  0.07  \n",
       "19  0.00  0.00  0.00  0.00  "
      ]
     },
     "execution_count": 26,
     "metadata": {},
     "output_type": "execute_result"
    }
   ],
   "source": [
    "Result"
   ]
  },
  {
   "cell_type": "markdown",
   "metadata": {},
   "source": [
    "# Words"
   ]
  },
  {
   "cell_type": "code",
   "execution_count": 27,
   "metadata": {},
   "outputs": [],
   "source": [
    "Result.to_csv('TextReviewOverview.csv')"
   ]
  },
  {
   "cell_type": "code",
   "execution_count": 6,
   "metadata": {},
   "outputs": [],
   "source": [
    "Result = pd.read_csv('TextReviewOverview.csv')"
   ]
  },
  {
   "cell_type": "code",
   "execution_count": 49,
   "metadata": {},
   "outputs": [
    {
     "name": "stderr",
     "output_type": "stream",
     "text": [
      "[nltk_data] Downloading package stopwords to\n",
      "[nltk_data]     C:\\Users\\Administrator\\AppData\\Roaming\\nltk_data...\n",
      "[nltk_data]   Package stopwords is already up-to-date!\n"
     ]
    }
   ],
   "source": [
    "from sklearn.feature_extraction.text import TfidfVectorizer\n",
    "from nltk.corpus import stopwords\n",
    "nltk.download('stopwords')\n",
    "stopWords = set(stopwords.words('english'))"
   ]
  },
  {
   "cell_type": "code",
   "execution_count": 51,
   "metadata": {},
   "outputs": [],
   "source": [
    "Outcomes = []\n",
    "dataset = rawData.copy()\n",
    "indexNames = dataset[ (dataset['price_bins'] >= Q2)].index\n",
    "dataset.drop(indexNames , inplace=True)\n",
    "# Result['Q1_Q2'] = Outcomes\n",
    "\n",
    "#  split data\n",
    "X = dataset['description'].values\n",
    "y = dataset['price_bins'].values\n",
    "X_train, X_test, y_train, y_test = train_test_split(X, y, test_size=0.25, random_state=1000)\n",
    "\n",
    "    # vectorize training descriptions\n",
    "vectorizer = TfidfVectorizer(stop_words=stopWords, max_features=50)\n",
    "vectorizer.fit(X_train)\n",
    "featureNames = vectorizer.get_feature_names()\n",
    "X_v_train = vectorizer.transform(X_train)\n",
    "X_v_test  = vectorizer.transform(X_test)\n",
    "\n",
    "# Random Forest classification model\n",
    "classifier = RandomForestClassifier(n_estimators=200)\n",
    "classifier.fit(X_v_train, y_train) # vectorized training data\n",
    "RandomForestModel_score = classifier.score(X_v_test, y_test)"
   ]
  },
  {
   "cell_type": "code",
   "execution_count": 55,
   "metadata": {},
   "outputs": [],
   "source": [
    "classifier.class_weight"
   ]
  },
  {
   "cell_type": "code",
   "execution_count": 58,
   "metadata": {},
   "outputs": [
    {
     "data": {
      "text/plain": [
       "RandomForestClassifier(bootstrap=True, class_weight=None, criterion='gini',\n",
       "                       max_depth=None, max_features='auto', max_leaf_nodes=None,\n",
       "                       min_impurity_decrease=0.0, min_impurity_split=None,\n",
       "                       min_samples_leaf=1, min_samples_split=2,\n",
       "                       min_weight_fraction_leaf=0.0, n_estimators=200,\n",
       "                       n_jobs=None, oob_score=False, random_state=None,\n",
       "                       verbose=0, warm_start=False)"
      ]
     },
     "execution_count": 58,
     "metadata": {},
     "output_type": "execute_result"
    }
   ],
   "source": [
    "classifier.fit(X_v_train, y_train)"
   ]
  },
  {
   "cell_type": "code",
   "execution_count": 61,
   "metadata": {},
   "outputs": [
    {
     "data": {
      "text/plain": [
       "['apple',\n",
       " 'bourbon',\n",
       " 'caramel',\n",
       " 'chocolate',\n",
       " 'cinnamon',\n",
       " 'citrus',\n",
       " 'corn',\n",
       " 'dark',\n",
       " 'distillery',\n",
       " 'dried',\n",
       " 'dry',\n",
       " 'finish',\n",
       " 'flavors',\n",
       " 'fresh',\n",
       " 'fruit',\n",
       " 'fruits',\n",
       " 'grain',\n",
       " 'hint',\n",
       " 'honey',\n",
       " 'lemon',\n",
       " 'light',\n",
       " 'like',\n",
       " 'malt',\n",
       " 'new',\n",
       " 'nose',\n",
       " 'notes',\n",
       " 'oak',\n",
       " 'old',\n",
       " 'one',\n",
       " 'orange',\n",
       " 'palate',\n",
       " 'peat',\n",
       " 'pepper',\n",
       " 'rich',\n",
       " 'rye',\n",
       " 'sherry',\n",
       " 'smoke',\n",
       " 'soft',\n",
       " 'spice',\n",
       " 'spices',\n",
       " 'spicy',\n",
       " 'sweet',\n",
       " 'sweetness',\n",
       " 'toffee',\n",
       " 'vanilla',\n",
       " 'whiskey',\n",
       " 'whisky',\n",
       " 'wood',\n",
       " 'year',\n",
       " 'years']"
      ]
     },
     "execution_count": 61,
     "metadata": {},
     "output_type": "execute_result"
    }
   ],
   "source": [
    "featureNames"
   ]
  },
  {
   "cell_type": "code",
   "execution_count": 60,
   "metadata": {},
   "outputs": [
    {
     "data": {
      "text/plain": [
       "array([0.0135924 , 0.0179647 , 0.02129999, 0.02041331, 0.01960871,\n",
       "       0.01391127, 0.02353406, 0.01412008, 0.01654921, 0.01336544,\n",
       "       0.01338555, 0.04124588, 0.01806338, 0.0155288 , 0.02596583,\n",
       "       0.01362344, 0.01454145, 0.01245092, 0.0169954 , 0.01216409,\n",
       "       0.02506965, 0.01927553, 0.02051106, 0.0138293 , 0.03389338,\n",
       "       0.02981037, 0.02919623, 0.01610588, 0.0175476 , 0.02188878,\n",
       "       0.0295274 , 0.01606408, 0.0163846 , 0.0151307 , 0.02195973,\n",
       "       0.01475945, 0.01534584, 0.01523697, 0.02385336, 0.0177164 ,\n",
       "       0.01449361, 0.0354929 , 0.01621605, 0.01757819, 0.03247024,\n",
       "       0.04048642, 0.02475295, 0.01556653, 0.01493957, 0.01657333])"
      ]
     },
     "execution_count": 60,
     "metadata": {},
     "output_type": "execute_result"
    }
   ],
   "source": [
    "classifier.feature_importances_"
   ]
  },
  {
   "cell_type": "code",
   "execution_count": 82,
   "metadata": {},
   "outputs": [],
   "source": [
    "df2 = pd.DataFrame(featureNames,columns=['words'])\n",
    "df2['weights'] = classifier.feature_importances_\n",
    "df2.sort_values(by=['weights'],ascending=False, inplace=True)"
   ]
  },
  {
   "cell_type": "code",
   "execution_count": 83,
   "metadata": {},
   "outputs": [
    {
     "data": {
      "text/html": [
       "<div>\n",
       "<style scoped>\n",
       "    .dataframe tbody tr th:only-of-type {\n",
       "        vertical-align: middle;\n",
       "    }\n",
       "\n",
       "    .dataframe tbody tr th {\n",
       "        vertical-align: top;\n",
       "    }\n",
       "\n",
       "    .dataframe thead th {\n",
       "        text-align: right;\n",
       "    }\n",
       "</style>\n",
       "<table border=\"1\" class=\"dataframe\">\n",
       "  <thead>\n",
       "    <tr style=\"text-align: right;\">\n",
       "      <th></th>\n",
       "      <th>words</th>\n",
       "      <th>weights</th>\n",
       "    </tr>\n",
       "  </thead>\n",
       "  <tbody>\n",
       "    <tr>\n",
       "      <th>11</th>\n",
       "      <td>finish</td>\n",
       "      <td>0.041246</td>\n",
       "    </tr>\n",
       "    <tr>\n",
       "      <th>45</th>\n",
       "      <td>whiskey</td>\n",
       "      <td>0.040486</td>\n",
       "    </tr>\n",
       "    <tr>\n",
       "      <th>41</th>\n",
       "      <td>sweet</td>\n",
       "      <td>0.035493</td>\n",
       "    </tr>\n",
       "    <tr>\n",
       "      <th>24</th>\n",
       "      <td>nose</td>\n",
       "      <td>0.033893</td>\n",
       "    </tr>\n",
       "    <tr>\n",
       "      <th>44</th>\n",
       "      <td>vanilla</td>\n",
       "      <td>0.032470</td>\n",
       "    </tr>\n",
       "    <tr>\n",
       "      <th>25</th>\n",
       "      <td>notes</td>\n",
       "      <td>0.029810</td>\n",
       "    </tr>\n",
       "    <tr>\n",
       "      <th>30</th>\n",
       "      <td>palate</td>\n",
       "      <td>0.029527</td>\n",
       "    </tr>\n",
       "    <tr>\n",
       "      <th>26</th>\n",
       "      <td>oak</td>\n",
       "      <td>0.029196</td>\n",
       "    </tr>\n",
       "    <tr>\n",
       "      <th>14</th>\n",
       "      <td>fruit</td>\n",
       "      <td>0.025966</td>\n",
       "    </tr>\n",
       "    <tr>\n",
       "      <th>20</th>\n",
       "      <td>light</td>\n",
       "      <td>0.025070</td>\n",
       "    </tr>\n",
       "  </tbody>\n",
       "</table>\n",
       "</div>"
      ],
      "text/plain": [
       "      words   weights\n",
       "11   finish  0.041246\n",
       "45  whiskey  0.040486\n",
       "41    sweet  0.035493\n",
       "24     nose  0.033893\n",
       "44  vanilla  0.032470\n",
       "25    notes  0.029810\n",
       "30   palate  0.029527\n",
       "26      oak  0.029196\n",
       "14    fruit  0.025966\n",
       "20    light  0.025070"
      ]
     },
     "execution_count": 83,
     "metadata": {},
     "output_type": "execute_result"
    }
   ],
   "source": [
    "df2.head(10)"
   ]
  },
  {
   "cell_type": "code",
   "execution_count": 76,
   "metadata": {},
   "outputs": [],
   "source": [
    "df2.to_csv('wordweighting.csv')"
   ]
  },
  {
   "cell_type": "code",
   "execution_count": null,
   "metadata": {},
   "outputs": [],
   "source": []
  }
 ],
 "metadata": {
  "kernelspec": {
   "display_name": "Python 3",
   "language": "python",
   "name": "python3"
  },
  "language_info": {
   "codemirror_mode": {
    "name": "ipython",
    "version": 3
   },
   "file_extension": ".py",
   "mimetype": "text/x-python",
   "name": "python",
   "nbconvert_exporter": "python",
   "pygments_lexer": "ipython3",
   "version": "3.7.3"
  }
 },
 "nbformat": 4,
 "nbformat_minor": 2
}

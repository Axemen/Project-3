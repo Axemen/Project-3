{
 "cells": [
  {
   "cell_type": "code",
   "execution_count": 2,
   "metadata": {},
   "outputs": [],
   "source": [
    "import numpy as np\n",
    "import pandas as pd\n",
    "from sklearn.model_selection import train_test_split\n",
    "from sklearn.metrics import accuracy_score\n",
    "from nltk.corpus import stopwords\n",
    "stop_words = set(stopwords.words('english'))\n",
    "from sklearn.linear_model import LogisticRegression\n",
    "from sklearn.pipeline import Pipeline"
   ]
  },
  {
   "cell_type": "code",
   "execution_count": 2,
   "metadata": {},
   "outputs": [],
   "source": [
    "df = pd.read_csv('clean-data/Whiskey_data/whisky-weather-data.csv')"
   ]
  },
  {
   "cell_type": "code",
   "execution_count": 4,
   "metadata": {},
   "outputs": [
    {
     "data": {
      "text/html": [
       "<div>\n",
       "<style scoped>\n",
       "    .dataframe tbody tr th:only-of-type {\n",
       "        vertical-align: middle;\n",
       "    }\n",
       "\n",
       "    .dataframe tbody tr th {\n",
       "        vertical-align: top;\n",
       "    }\n",
       "\n",
       "    .dataframe thead th {\n",
       "        text-align: right;\n",
       "    }\n",
       "</style>\n",
       "<table border=\"1\" class=\"dataframe\">\n",
       "  <thead>\n",
       "    <tr style=\"text-align: right;\">\n",
       "      <th></th>\n",
       "      <th>vintage</th>\n",
       "      <th>avp</th>\n",
       "      <th>size</th>\n",
       "      <th>price</th>\n",
       "      <th>name</th>\n",
       "      <th>precip</th>\n",
       "      <th>temp</th>\n",
       "      <th>max_t</th>\n",
       "      <th>min_t</th>\n",
       "    </tr>\n",
       "  </thead>\n",
       "  <tbody>\n",
       "    <tr>\n",
       "      <th>0</th>\n",
       "      <td>1989</td>\n",
       "      <td>55.2</td>\n",
       "      <td>700</td>\n",
       "      <td>9895.65</td>\n",
       "      <td>Macallan Fine and Rare</td>\n",
       "      <td>2.359011</td>\n",
       "      <td>14.979557</td>\n",
       "      <td>12.444597</td>\n",
       "      <td>5.069920</td>\n",
       "    </tr>\n",
       "    <tr>\n",
       "      <th>1</th>\n",
       "      <td>1973</td>\n",
       "      <td>43.2</td>\n",
       "      <td>700</td>\n",
       "      <td>6206.01</td>\n",
       "      <td>Bowmore</td>\n",
       "      <td>2.141950</td>\n",
       "      <td>14.013066</td>\n",
       "      <td>11.784319</td>\n",
       "      <td>4.457495</td>\n",
       "    </tr>\n",
       "    <tr>\n",
       "      <th>2</th>\n",
       "      <td>1973</td>\n",
       "      <td>45.2</td>\n",
       "      <td>700</td>\n",
       "      <td>8388.27</td>\n",
       "      <td>Clynelish Single Cask (Wealth Solutions)</td>\n",
       "      <td>2.141950</td>\n",
       "      <td>14.013066</td>\n",
       "      <td>11.784319</td>\n",
       "      <td>4.457495</td>\n",
       "    </tr>\n",
       "    <tr>\n",
       "      <th>3</th>\n",
       "      <td>1981</td>\n",
       "      <td>54.7</td>\n",
       "      <td>700</td>\n",
       "      <td>4067.04</td>\n",
       "      <td>Port Ellen Feis Ile 2008</td>\n",
       "      <td>2.577374</td>\n",
       "      <td>13.575082</td>\n",
       "      <td>11.439509</td>\n",
       "      <td>4.271147</td>\n",
       "    </tr>\n",
       "    <tr>\n",
       "      <th>4</th>\n",
       "      <td>1974</td>\n",
       "      <td>60.8</td>\n",
       "      <td>750</td>\n",
       "      <td>4089.24</td>\n",
       "      <td>Longmorn Cask Strength (Sherrywood)</td>\n",
       "      <td>2.341694</td>\n",
       "      <td>14.054673</td>\n",
       "      <td>11.714397</td>\n",
       "      <td>4.680553</td>\n",
       "    </tr>\n",
       "  </tbody>\n",
       "</table>\n",
       "</div>"
      ],
      "text/plain": [
       "   vintage   avp  size    price                                      name  \\\n",
       "0     1989  55.2   700  9895.65                    Macallan Fine and Rare   \n",
       "1     1973  43.2   700  6206.01                                   Bowmore   \n",
       "2     1973  45.2   700  8388.27  Clynelish Single Cask (Wealth Solutions)   \n",
       "3     1981  54.7   700  4067.04                  Port Ellen Feis Ile 2008   \n",
       "4     1974  60.8   750  4089.24       Longmorn Cask Strength (Sherrywood)   \n",
       "\n",
       "     precip       temp      max_t     min_t  \n",
       "0  2.359011  14.979557  12.444597  5.069920  \n",
       "1  2.141950  14.013066  11.784319  4.457495  \n",
       "2  2.141950  14.013066  11.784319  4.457495  \n",
       "3  2.577374  13.575082  11.439509  4.271147  \n",
       "4  2.341694  14.054673  11.714397  4.680553  "
      ]
     },
     "execution_count": 4,
     "metadata": {},
     "output_type": "execute_result"
    }
   ],
   "source": [
    "df.head()"
   ]
  },
  {
   "cell_type": "code",
   "execution_count": 5,
   "metadata": {},
   "outputs": [],
   "source": [
    "X = df[['vintage', 'avp','precip','temp','max_t','min_t']]\n",
    "y = df['price']"
   ]
  },
  {
   "cell_type": "code",
   "execution_count": 19,
   "metadata": {},
   "outputs": [],
   "source": [
    "X_train, X_test, y_train, y_test = train_test_split(X, y, random_state = 42, test_size = .8)"
   ]
  },
  {
   "cell_type": "markdown",
   "metadata": {},
   "source": [
    "<h1> Basic Linear Regression </h1>"
   ]
  },
  {
   "cell_type": "code",
   "execution_count": 21,
   "metadata": {},
   "outputs": [
    {
     "name": "stdout",
     "output_type": "stream",
     "text": [
      "training score: 0.12086860412275578\n",
      "0.042111619404047285\n"
     ]
    }
   ],
   "source": [
    "from sklearn.linear_model import LinearRegression\n",
    "model_lin = LinearRegression()\n",
    "model_lin.fit(X_train, y_train)\n",
    "print(f\"training score: {model_lin.score(X_train, y_train)}\")\n",
    "print(f'{model_lin.score(X_test, y_test)}')"
   ]
  },
  {
   "cell_type": "code",
   "execution_count": null,
   "metadata": {},
   "outputs": [
    {
     "name": "stderr",
     "output_type": "stream",
     "text": [
      "Using TensorFlow backend.\n"
     ]
    }
   ],
   "source": [
    "from keras.model import Sequential\n",
    "from keras.layers import Dense"
   ]
  },
  {
   "cell_type": "code",
   "execution_count": null,
   "metadata": {},
   "outputs": [],
   "source": []
  }
 ],
 "metadata": {
  "kernelspec": {
   "display_name": "Python 3",
   "language": "python",
   "name": "python3"
  },
  "language_info": {
   "codemirror_mode": {
    "name": "ipython",
    "version": 3
   },
   "file_extension": ".py",
   "mimetype": "text/x-python",
   "name": "python",
   "nbconvert_exporter": "python",
   "pygments_lexer": "ipython3",
   "version": "3.7.0"
  }
 },
 "nbformat": 4,
 "nbformat_minor": 2
}

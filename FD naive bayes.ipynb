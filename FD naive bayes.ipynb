{
 "cells": [
  {
   "cell_type": "code",
   "execution_count": 4,
   "metadata": {},
   "outputs": [],
   "source": [
    "import pandas as pd\n",
    "import os\n",
    "import numpy as np\n",
    "\n",
    "from sklearn.feature_extraction.text import CountVectorizer\n",
    "from sklearn.model_selection import train_test_split\n",
    "from sklearn.ensemble import RandomForestClassifier\n",
    "from sklearn import tree"
   ]
  },
  {
   "cell_type": "code",
   "execution_count": 5,
   "metadata": {},
   "outputs": [
    {
     "data": {
      "text/html": [
       "<div>\n",
       "<style scoped>\n",
       "    .dataframe tbody tr th:only-of-type {\n",
       "        vertical-align: middle;\n",
       "    }\n",
       "\n",
       "    .dataframe tbody tr th {\n",
       "        vertical-align: top;\n",
       "    }\n",
       "\n",
       "    .dataframe thead th {\n",
       "        text-align: right;\n",
       "    }\n",
       "</style>\n",
       "<table border=\"1\" class=\"dataframe\">\n",
       "  <thead>\n",
       "    <tr style=\"text-align: right;\">\n",
       "      <th></th>\n",
       "      <th>Unnamed: 0</th>\n",
       "      <th>name</th>\n",
       "      <th>category</th>\n",
       "      <th>review.point</th>\n",
       "      <th>price</th>\n",
       "      <th>currency</th>\n",
       "      <th>description</th>\n",
       "    </tr>\n",
       "  </thead>\n",
       "  <tbody>\n",
       "    <tr>\n",
       "      <th>0</th>\n",
       "      <td>1</td>\n",
       "      <td>Johnnie Walker Blue Label, 40%</td>\n",
       "      <td>Blended Scotch Whisky</td>\n",
       "      <td>97</td>\n",
       "      <td>225</td>\n",
       "      <td>$</td>\n",
       "      <td>Magnificently powerful and intense. Caramels, ...</td>\n",
       "    </tr>\n",
       "    <tr>\n",
       "      <th>1</th>\n",
       "      <td>2</td>\n",
       "      <td>Black Bowmore, 1964 vintage, 42 year old, 40.5%</td>\n",
       "      <td>Single Malt Scotch</td>\n",
       "      <td>97</td>\n",
       "      <td>4500</td>\n",
       "      <td>$</td>\n",
       "      <td>What impresses me most is how this whisky evol...</td>\n",
       "    </tr>\n",
       "    <tr>\n",
       "      <th>2</th>\n",
       "      <td>3</td>\n",
       "      <td>Bowmore 46 year old (distilled 1964), 42.9%</td>\n",
       "      <td>Single Malt Scotch</td>\n",
       "      <td>97</td>\n",
       "      <td>13500</td>\n",
       "      <td>$</td>\n",
       "      <td>There have been some legendary Bowmores from t...</td>\n",
       "    </tr>\n",
       "    <tr>\n",
       "      <th>3</th>\n",
       "      <td>4</td>\n",
       "      <td>Compass Box The General, 53.4%</td>\n",
       "      <td>Blended Malt Scotch Whisky</td>\n",
       "      <td>96</td>\n",
       "      <td>325</td>\n",
       "      <td>$</td>\n",
       "      <td>With a name inspired by a 1926 Buster Keaton m...</td>\n",
       "    </tr>\n",
       "    <tr>\n",
       "      <th>4</th>\n",
       "      <td>5</td>\n",
       "      <td>Chivas Regal Ultis, 40%</td>\n",
       "      <td>Blended Malt Scotch Whisky</td>\n",
       "      <td>96</td>\n",
       "      <td>160</td>\n",
       "      <td>$</td>\n",
       "      <td>Captivating, enticing, and wonderfully charmin...</td>\n",
       "    </tr>\n",
       "  </tbody>\n",
       "</table>\n",
       "</div>"
      ],
      "text/plain": [
       "   Unnamed: 0                                             name  \\\n",
       "0           1                   Johnnie Walker Blue Label, 40%   \n",
       "1           2  Black Bowmore, 1964 vintage, 42 year old, 40.5%   \n",
       "2           3      Bowmore 46 year old (distilled 1964), 42.9%   \n",
       "3           4                   Compass Box The General, 53.4%   \n",
       "4           5                          Chivas Regal Ultis, 40%   \n",
       "\n",
       "                     category  review.point  price currency  \\\n",
       "0       Blended Scotch Whisky            97    225        $   \n",
       "1          Single Malt Scotch            97   4500        $   \n",
       "2          Single Malt Scotch            97  13500        $   \n",
       "3  Blended Malt Scotch Whisky            96    325        $   \n",
       "4  Blended Malt Scotch Whisky            96    160        $   \n",
       "\n",
       "                                         description  \n",
       "0  Magnificently powerful and intense. Caramels, ...  \n",
       "1  What impresses me most is how this whisky evol...  \n",
       "2  There have been some legendary Bowmores from t...  \n",
       "3  With a name inspired by a 1926 Buster Keaton m...  \n",
       "4  Captivating, enticing, and wonderfully charmin...  "
      ]
     },
     "execution_count": 5,
     "metadata": {},
     "output_type": "execute_result"
    }
   ],
   "source": [
    "# read data\n",
    "rawData = pd.read_csv(os.path.join(\"FD test NLP.csv\"))\n",
    "rawData.head()"
   ]
  },
  {
   "cell_type": "code",
   "execution_count": 6,
   "metadata": {},
   "outputs": [],
   "source": [
    "#  split data\n",
    "descriptions = rawData['description'].values\n",
    "y = rawData['review.point'].values\n",
    "# y = rawData['price'].values\n",
    "\n",
    "descriptions_train, descriptions_test, y_train, y_test = train_test_split(descriptions, y, test_size=0.25, random_state=1000)"
   ]
  },
  {
   "cell_type": "code",
   "execution_count": 7,
   "metadata": {},
   "outputs": [],
   "source": [
    "# vectorize training descriptions\n",
    "vectorizer = CountVectorizer()\n",
    "vectorizer.fit(descriptions_train)\n",
    "X_train = vectorizer.transform(descriptions_train)\n",
    "X_test  = vectorizer.transform(descriptions_test)"
   ]
  },
  {
   "cell_type": "markdown",
   "metadata": {},
   "source": [
    "## Naive Bayes\n",
    "Multinomial: It is used for discrete counts. For example, let’s say,  we have a text classification problem. Here we can consider bernoulli trials which is one step further and instead of “word occurring in the document”, we have “count how often word occurs in the document”, you can think of it as “number of times outcome number x_i is observed over the n trials”.\n",
    "\n",
    "Bernoulli: The binomial model is useful if your feature vectors are binary (i.e. zeros and ones). One application would be text classification with ‘bag of words’ model where the 1s & 0s are “word occurs in the document” and “word does not occur in the document” respectively."
   ]
  },
  {
   "cell_type": "markdown",
   "metadata": {},
   "source": [
    "## Multinomial"
   ]
  },
  {
   "cell_type": "code",
   "execution_count": 12,
   "metadata": {},
   "outputs": [
    {
     "data": {
      "text/plain": [
       "array([85, 87, 86, 85, 87, 86, 89, 87, 88, 86, 89, 85, 85, 89, 88, 87, 86,\n",
       "       86, 89, 89, 86, 86, 84, 87, 86, 86, 89, 87, 86, 90, 87, 87, 86, 87,\n",
       "       86, 90, 87, 86, 87, 86, 87, 86, 90, 86, 88, 88, 86, 86, 86, 87, 86,\n",
       "       89, 89, 85, 86, 86, 87, 86, 87, 88, 87, 90, 86, 85, 85, 87, 85, 87,\n",
       "       86, 87, 85, 86, 90, 87, 89, 86, 86, 86, 90, 86, 88, 87, 87, 88, 86,\n",
       "       87, 90, 86, 87, 87, 86, 88, 87, 89, 89, 89, 89, 87, 86, 87, 86, 86,\n",
       "       89, 86, 87, 86, 89, 88, 90, 89, 86, 86, 87, 83, 89, 89, 86, 86, 87,\n",
       "       84, 87, 88, 86, 86, 86, 86, 89, 86, 88, 85, 88, 89, 86, 89, 88, 88,\n",
       "       88, 89, 87, 87, 90, 89, 89, 86, 87, 87, 87, 89, 90, 84, 86, 87, 87,\n",
       "       89, 87, 89, 89, 87, 87, 87, 87, 89, 90, 86, 87, 88, 86, 87, 89, 87,\n",
       "       86, 87, 86, 87, 89, 85, 87, 87, 87, 87, 86, 88, 88, 86, 86, 90, 86,\n",
       "       90, 87, 87, 89, 87, 88, 87, 88, 88, 87, 88, 88, 86, 87, 87, 85, 86,\n",
       "       88, 87, 88, 85, 85, 86, 90, 89, 87, 85, 86, 86, 86, 88, 87, 87, 86,\n",
       "       87, 86, 87, 87, 88, 90, 89, 87, 88, 86, 87, 87, 87, 83, 87, 87, 87,\n",
       "       86, 87, 89, 87, 89, 86, 86, 89, 89, 87, 87, 83, 83, 90, 90, 85, 86,\n",
       "       86, 87, 89, 86, 86, 87, 87, 85, 85, 87, 89, 86, 87, 87, 87, 87, 86,\n",
       "       89, 86, 85, 90, 87, 86, 87, 89, 89, 87, 87, 87, 87, 89, 87, 88, 86,\n",
       "       86, 89, 89, 87, 88, 86, 86, 88, 87, 89, 87, 89, 86, 88, 86, 87, 88,\n",
       "       87, 83, 87, 89, 89, 87, 85, 86, 87, 89, 87, 87, 86, 88, 87, 86, 83,\n",
       "       85, 88, 89, 89, 87, 86, 87, 86, 89, 90, 90, 85, 87, 89, 87, 87, 86,\n",
       "       86, 87, 85, 86, 90, 85, 85, 88, 87, 87, 90, 85, 89, 87, 86, 86, 86,\n",
       "       86, 86, 87, 87, 86, 87, 90, 88, 86, 87, 89, 86, 87, 89, 86, 87, 87,\n",
       "       88, 87, 88, 88, 87, 89, 86, 87, 90, 89, 89, 87, 86, 86, 86, 86, 89,\n",
       "       87, 86, 86, 86, 87, 87, 88, 86, 90, 88, 90, 88, 85, 87, 85, 84, 87,\n",
       "       87, 86, 87, 86, 88, 86, 90, 86, 87, 90, 87, 87, 89, 89, 87, 88, 86,\n",
       "       87, 87, 87, 86, 87, 87, 87, 87, 87, 84, 89, 87, 86, 90, 88, 87, 90,\n",
       "       86, 87, 87, 86, 88, 88, 89, 86, 85, 89, 88, 87, 86, 86, 85, 87, 90,\n",
       "       87, 87, 90, 87, 89, 89, 87, 86, 88, 87, 89, 90, 86, 86, 86, 88, 89,\n",
       "       87, 90, 88, 87, 90, 86, 87, 87, 87, 89, 86, 90, 87, 87, 86, 87, 88,\n",
       "       89, 88, 86, 87, 86, 87, 89, 86, 89, 89, 89, 87, 83, 87, 86, 89, 90,\n",
       "       86, 86, 86, 85, 89, 88, 86, 87, 87, 90, 86, 85, 90, 87, 86, 87, 84,\n",
       "       87, 88, 86, 87, 88, 84, 87, 90, 87, 88, 88, 87, 87, 88, 90, 88, 86,\n",
       "       87, 86, 87, 87, 88, 88, 85, 89, 87, 87, 86, 88, 86, 86, 87, 88, 87,\n",
       "       88], dtype=int64)"
      ]
     },
     "execution_count": 12,
     "metadata": {},
     "output_type": "execute_result"
    }
   ],
   "source": [
    "from sklearn.naive_bayes import MultinomialNB\n",
    "#Create a Multinomial Classifier\n",
    "model = MultinomialNB()\n",
    "# Train the model using the training sets\n",
    "model.fit(X_train,y_train)\n",
    "#Predict Output \n",
    "MultinomialNB(alpha=1.0, class_prior=None, fit_prior=True)\n",
    "model.predict(X_test)"
   ]
  },
  {
   "cell_type": "markdown",
   "metadata": {},
   "source": [
    "## Bernoulli"
   ]
  },
  {
   "cell_type": "code",
   "execution_count": 14,
   "metadata": {},
   "outputs": [
    {
     "data": {
      "text/plain": [
       "array([87, 87, 86, 87, 87, 86, 87, 87, 87, 86, 86, 87, 87, 87, 88, 87, 86,\n",
       "       86, 89, 89, 86, 87, 86, 87, 86, 86, 89, 87, 86, 86, 87, 87, 86, 87,\n",
       "       86, 87, 87, 86, 87, 86, 87, 86, 86, 86, 87, 87, 86, 86, 86, 87, 86,\n",
       "       87, 87, 85, 86, 86, 87, 86, 87, 87, 87, 86, 87, 87, 85, 87, 86, 87,\n",
       "       86, 87, 87, 86, 87, 87, 87, 86, 86, 86, 86, 87, 87, 87, 87, 86, 86,\n",
       "       87, 87, 87, 87, 87, 86, 86, 87, 86, 87, 87, 89, 87, 86, 87, 86, 86,\n",
       "       87, 86, 87, 86, 88, 87, 90, 86, 86, 86, 87, 87, 87, 89, 86, 86, 87,\n",
       "       87, 87, 88, 86, 86, 86, 86, 87, 86, 87, 85, 86, 86, 86, 87, 87, 86,\n",
       "       88, 87, 87, 87, 87, 87, 87, 86, 87, 87, 87, 87, 87, 86, 86, 87, 87,\n",
       "       87, 87, 87, 87, 87, 87, 87, 87, 87, 86, 86, 87, 86, 86, 87, 87, 87,\n",
       "       86, 87, 86, 87, 87, 86, 87, 87, 87, 87, 86, 87, 88, 86, 86, 87, 86,\n",
       "       86, 87, 87, 87, 87, 88, 87, 87, 87, 87, 87, 88, 86, 87, 87, 86, 87,\n",
       "       87, 87, 87, 86, 87, 86, 87, 87, 87, 86, 86, 86, 86, 87, 87, 87, 86,\n",
       "       87, 86, 87, 87, 87, 88, 87, 87, 87, 86, 86, 87, 87, 86, 87, 87, 87,\n",
       "       86, 87, 87, 87, 86, 86, 86, 87, 87, 87, 87, 87, 87, 87, 87, 86, 86,\n",
       "       86, 87, 87, 86, 86, 87, 87, 87, 86, 87, 86, 86, 87, 87, 87, 87, 86,\n",
       "       87, 86, 87, 87, 87, 86, 87, 87, 89, 87, 87, 87, 87, 89, 87, 86, 86,\n",
       "       86, 89, 87, 87, 86, 86, 86, 87, 87, 87, 87, 87, 86, 87, 88, 87, 87,\n",
       "       87, 87, 87, 87, 87, 87, 87, 86, 87, 87, 87, 87, 86, 87, 87, 87, 87,\n",
       "       86, 86, 87, 89, 87, 86, 87, 86, 87, 90, 87, 87, 89, 87, 87, 87, 86,\n",
       "       86, 87, 87, 86, 86, 87, 86, 87, 87, 87, 87, 85, 89, 87, 86, 86, 86,\n",
       "       86, 86, 87, 87, 86, 87, 87, 87, 86, 87, 89, 87, 87, 87, 86, 87, 87,\n",
       "       87, 87, 87, 87, 87, 87, 86, 87, 90, 87, 87, 87, 86, 87, 86, 87, 89,\n",
       "       87, 86, 87, 86, 87, 87, 87, 86, 87, 88, 87, 86, 85, 87, 87, 87, 87,\n",
       "       87, 86, 87, 86, 87, 86, 86, 86, 87, 87, 87, 87, 87, 89, 87, 86, 86,\n",
       "       87, 87, 87, 86, 87, 87, 87, 87, 87, 87, 87, 87, 86, 87, 87, 87, 86,\n",
       "       86, 87, 87, 86, 87, 87, 87, 86, 87, 87, 87, 87, 86, 86, 87, 87, 86,\n",
       "       87, 87, 90, 87, 86, 87, 87, 86, 87, 87, 87, 87, 86, 86, 86, 86, 86,\n",
       "       87, 87, 87, 87, 85, 86, 87, 87, 87, 86, 87, 87, 87, 89, 87, 87, 86,\n",
       "       87, 88, 86, 87, 86, 87, 86, 86, 89, 87, 87, 87, 88, 87, 86, 87, 87,\n",
       "       86, 86, 86, 85, 87, 87, 86, 87, 87, 87, 86, 85, 90, 87, 86, 87, 87,\n",
       "       87, 86, 86, 87, 87, 84, 87, 87, 87, 87, 87, 87, 87, 86, 87, 87, 86,\n",
       "       87, 86, 87, 87, 86, 87, 87, 87, 87, 86, 86, 87, 87, 86, 87, 88, 87,\n",
       "       87], dtype=int64)"
      ]
     },
     "execution_count": 14,
     "metadata": {},
     "output_type": "execute_result"
    }
   ],
   "source": [
    "from sklearn.naive_bayes import BernoulliNB\n",
    "#Create a BernoulliNB Classifier\n",
    "model = BernoulliNB()\n",
    "# Train the model using the training sets\n",
    "model.fit(X_train,y_train)\n",
    "#Predict Output \n",
    "BernoulliNB(alpha=1.0, binarize=0.0, class_prior=None, fit_prior=True)\n",
    "model.predict(X_test)"
   ]
  },
  {
   "cell_type": "code",
   "execution_count": null,
   "metadata": {},
   "outputs": [],
   "source": []
  }
 ],
 "metadata": {
  "kernelspec": {
   "display_name": "Python 3",
   "language": "python",
   "name": "python3"
  },
  "language_info": {
   "codemirror_mode": {
    "name": "ipython",
    "version": 3
   },
   "file_extension": ".py",
   "mimetype": "text/x-python",
   "name": "python",
   "nbconvert_exporter": "python",
   "pygments_lexer": "ipython3",
   "version": "3.7.3"
  }
 },
 "nbformat": 4,
 "nbformat_minor": 2
}

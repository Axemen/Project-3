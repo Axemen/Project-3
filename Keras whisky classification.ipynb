{
 "cells": [
  {
   "cell_type": "code",
   "execution_count": 133,
   "metadata": {},
   "outputs": [],
   "source": [
    "import re\n",
    "import pandas as pd\n",
    "import numpy as np\n",
    "from bs4 import BeautifulSoup\n",
    "from sklearn.model_selection import train_test_split\n",
    "from sklearn.feature_extraction.text import TfidfVectorizer\n",
    "from sklearn.naive_bayes import MultinomialNB\n",
    "from sklearn.metrics import accuracy_score\n",
    "from sklearn.multiclass import OneVsRestClassifier\n",
    "from nltk.corpus import stopwords\n",
    "stop_words = set(stopwords.words('english'))\n",
    "from sklearn.svm import LinearSVC\n",
    "from sklearn.linear_model import LogisticRegression\n",
    "from sklearn.pipeline import Pipeline\n",
    "import seaborn as sns"
   ]
  },
  {
   "cell_type": "code",
   "execution_count": 4,
   "metadata": {},
   "outputs": [],
   "source": [
    "df = pd.read_csv('clean-data/Whiskey_data/Whiskey_Advocate_All_scraped_KHupdate-23 Jul (Team Style Defined) with descriptions.csv')"
   ]
  },
  {
   "cell_type": "code",
   "execution_count": 5,
   "metadata": {},
   "outputs": [
    {
     "data": {
      "text/plain": [
       "Index(['Unnamed: 0', 'Index', 'Maker', 'Year Distrilled', 'age in cast', 'ABV',\n",
       "       'Single Malt Scotch', 'Flavored Whiskey and Liqueurs', 'Bourbon',\n",
       "       ' Blended Malt Scotch Whisky ', 'Blended Scotch Whisky',\n",
       "       'Blended Whiskey (Multi-country)',\n",
       "       ' Single Malt Whisky (Multi-country)',\n",
       "       ' Single Grain Whisky (Multi-country)', 'Japan', ' Canada', 'Irish',\n",
       "       'Generic Whisky (Multi-country)', 'Rye Whisky', 'White Whisky',\n",
       "       'Craft Whisky', 'SUM', 'Review Score (Points)', ' price ',\n",
       "       'Original Style', 'country', 'descriptions'],\n",
       "      dtype='object')"
      ]
     },
     "execution_count": 5,
     "metadata": {},
     "output_type": "execute_result"
    }
   ],
   "source": [
    "df.columns"
   ]
  },
  {
   "cell_type": "code",
   "execution_count": 6,
   "metadata": {},
   "outputs": [],
   "source": [
    "df = df[['Single Malt Scotch', 'Flavored Whiskey and Liqueurs', 'Bourbon',\n",
    "       ' Blended Malt Scotch Whisky ', 'Blended Scotch Whisky',\n",
    "       'Blended Whiskey (Multi-country)',\n",
    "       ' Single Malt Whisky (Multi-country)',\n",
    "       ' Single Grain Whisky (Multi-country)', 'Japan', ' Canada', 'Irish',\n",
    "       'Generic Whisky (Multi-country)', 'Rye Whisky', 'White Whisky','Craft Whisky', 'descriptions']]"
   ]
  },
  {
   "cell_type": "code",
   "execution_count": 7,
   "metadata": {},
   "outputs": [],
   "source": [
    "#Thank you to this article for this funciton https://towardsdatascience.com/multi-class-text-classification-with-lstm-1590bee1bd17\n",
    "\n",
    "REPLACE_BY_SPACE_RE = re.compile('[/(){}\\[\\]\\|@,;]')\n",
    "BAD_SYMBOLS_RE = re.compile('[^0-9a-z #+_]')\n",
    "STOPWORDS = set(stopwords.words('english'))\n",
    "\n",
    "def clean_text(text):\n",
    "    \"\"\"\n",
    "        text: a string\n",
    "        \n",
    "        return: modified initial string\n",
    "    \"\"\"\n",
    "    text = BeautifulSoup(text, \"lxml\").text # HTML decoding\n",
    "    text = text.lower() # lowercase text\n",
    "    text = REPLACE_BY_SPACE_RE.sub(' ', text) # replace REPLACE_BY_SPACE_RE symbols by space in text\n",
    "    text = BAD_SYMBOLS_RE.sub('', text) # delete symbols which are in BAD_SYMBOLS_RE from text\n",
    "    text = ' '.join(word for word in text.split() if word not in STOPWORDS) # delete stopwors from text\n",
    "    return text\n",
    "    "
   ]
  },
  {
   "cell_type": "code",
   "execution_count": 8,
   "metadata": {},
   "outputs": [],
   "source": [
    "df['descriptions'] = df['descriptions'].apply(clean_text)"
   ]
  },
  {
   "cell_type": "code",
   "execution_count": 9,
   "metadata": {},
   "outputs": [
    {
     "data": {
      "text/plain": [
       "['Single Malt Scotch',\n",
       " 'Flavored Whiskey and Liqueurs',\n",
       " 'Bourbon',\n",
       " ' Blended Malt Scotch Whisky ',\n",
       " 'Blended Scotch Whisky',\n",
       " 'Blended Whiskey (Multi-country)',\n",
       " ' Single Malt Whisky (Multi-country)',\n",
       " ' Single Grain Whisky (Multi-country)',\n",
       " 'Japan',\n",
       " ' Canada',\n",
       " 'Irish',\n",
       " 'Generic Whisky (Multi-country)',\n",
       " 'Rye Whisky',\n",
       " 'White Whisky',\n",
       " 'Craft Whisky']"
      ]
     },
     "execution_count": 9,
     "metadata": {},
     "output_type": "execute_result"
    }
   ],
   "source": [
    "categories = list(df.columns)\n",
    "categories.pop(-1)\n",
    "categories"
   ]
  },
  {
   "cell_type": "code",
   "execution_count": 110,
   "metadata": {},
   "outputs": [],
   "source": [
    "y = df[categories]\n",
    "X = df['descriptions']"
   ]
  },
  {
   "cell_type": "code",
   "execution_count": 111,
   "metadata": {},
   "outputs": [
    {
     "name": "stdout",
     "output_type": "stream",
     "text": [
      "(3166,)\n",
      "(1560,)\n"
     ]
    }
   ],
   "source": [
    "X_train, X_test, y_train, y_test = train_test_split(X,y, random_state=42, test_size=0.33, shuffle=True)\n",
    "\n",
    "print(X_train.shape)\n",
    "print(X_test.shape)"
   ]
  },
  {
   "cell_type": "markdown",
   "metadata": {},
   "source": [
    "<h1>Visualizing the Data</h1>"
   ]
  },
  {
   "cell_type": "code",
   "execution_count": 61,
   "metadata": {},
   "outputs": [
    {
     "data": {
      "text/plain": [
       "111"
      ]
     },
     "execution_count": 61,
     "metadata": {},
     "output_type": "execute_result"
    }
   ],
   "source": [
    "len(df.loc[df['Irish'] == True])"
   ]
  },
  {
   "cell_type": "code",
   "execution_count": 62,
   "metadata": {},
   "outputs": [],
   "source": [
    "counts = []\n",
    "\n",
    "for category in categories:\n",
    "    counts.append(len(df.loc[df[category] == True]))"
   ]
  },
  {
   "cell_type": "code",
   "execution_count": 66,
   "metadata": {},
   "outputs": [
    {
     "data": {
      "text/plain": [
       "['Single Malt Scotch',\n",
       " 'Flavored Whiskey and Liqueurs',\n",
       " 'Bourbon',\n",
       " ' Blended Malt Scotch Whisky ',\n",
       " 'Blended Scotch Whisky',\n",
       " 'Blended Whiskey (Multi-country)',\n",
       " ' Single Malt Whisky (Multi-country)',\n",
       " ' Single Grain Whisky (Multi-country)',\n",
       " 'Japan',\n",
       " ' Canada',\n",
       " 'Irish',\n",
       " 'Generic Whisky (Multi-country)',\n",
       " 'Rye Whisky',\n",
       " 'White Whisky',\n",
       " 'Craft Whisky']"
      ]
     },
     "execution_count": 66,
     "metadata": {},
     "output_type": "execute_result"
    }
   ],
   "source": [
    "categories"
   ]
  },
  {
   "cell_type": "code",
   "execution_count": 72,
   "metadata": {},
   "outputs": [
    {
     "data": {
      "text/plain": [
       "<BarContainer object of 15 artists>"
      ]
     },
     "execution_count": 72,
     "metadata": {},
     "output_type": "execute_result"
    },
    {
     "data": {
      "image/png": "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\n",
      "text/plain": [
       "<Figure size 432x288 with 1 Axes>"
      ]
     },
     "metadata": {
      "needs_background": "light"
     },
     "output_type": "display_data"
    }
   ],
   "source": [
    "x = categories\n",
    "y = counts\n",
    "\n",
    "plt.bar(x, y)"
   ]
  },
  {
   "cell_type": "markdown",
   "metadata": {},
   "source": [
    "<h3>Found that 'Single Malt Scotch' has a much larger representation in the dataset than the others and i am going to attempt to reduce it to see if it has a clear impact on the accuracy of the models</h3>"
   ]
  },
  {
   "cell_type": "code",
   "execution_count": 51,
   "metadata": {},
   "outputs": [
    {
     "data": {
      "text/plain": [
       "Index(['Single Malt Scotch', 'Flavored Whiskey and Liqueurs', 'Bourbon',\n",
       "       ' Blended Malt Scotch Whisky ', 'Blended Scotch Whisky',\n",
       "       'Blended Whiskey (Multi-country)',\n",
       "       ' Single Malt Whisky (Multi-country)',\n",
       "       ' Single Grain Whisky (Multi-country)', 'Japan', ' Canada', 'Irish',\n",
       "       'Generic Whisky (Multi-country)', 'Rye Whisky', 'White Whisky',\n",
       "       'Craft Whisky', 'descriptions'],\n",
       "      dtype='object')"
      ]
     },
     "execution_count": 51,
     "metadata": {},
     "output_type": "execute_result"
    }
   ],
   "source": [
    "df_copy = df.copy()\n",
    "df_copy.columns"
   ]
  },
  {
   "cell_type": "code",
   "execution_count": 52,
   "metadata": {},
   "outputs": [
    {
     "data": {
      "text/plain": [
       "1954"
      ]
     },
     "execution_count": 52,
     "metadata": {},
     "output_type": "execute_result"
    }
   ],
   "source": [
    "df_less_scotch = df_copy.loc[df_copy['Single Malt Scotch'] == True]\n",
    "len(df_less_scotch)"
   ]
  },
  {
   "cell_type": "code",
   "execution_count": 53,
   "metadata": {},
   "outputs": [
    {
     "data": {
      "text/plain": [
       "300"
      ]
     },
     "execution_count": 53,
     "metadata": {},
     "output_type": "execute_result"
    }
   ],
   "source": [
    "df_less_scotch = df_less_scotch.sample(300)\n",
    "len(df_less_scotch)"
   ]
  },
  {
   "cell_type": "code",
   "execution_count": 54,
   "metadata": {},
   "outputs": [],
   "source": [
    "df_all_but_scotch = df_copy.loc[df_copy['Single Malt Scotch'] == False]"
   ]
  },
  {
   "cell_type": "code",
   "execution_count": 55,
   "metadata": {},
   "outputs": [
    {
     "data": {
      "text/plain": [
       "3072"
      ]
     },
     "execution_count": 55,
     "metadata": {},
     "output_type": "execute_result"
    }
   ],
   "source": [
    "df_new_scotch = pd.concat([df_less_scotch, df_all_but_scotch])\n",
    "len(df_new_scotch)"
   ]
  },
  {
   "cell_type": "code",
   "execution_count": 56,
   "metadata": {},
   "outputs": [],
   "source": [
    "X = df_new_scotch['descriptions']\n",
    "y = df_new_scotch[categories]\n",
    "X_train, X_test, y_train, y_test = train_test_split(X,y, random_state=42, test_size=0.33, shuffle=True)"
   ]
  },
  {
   "cell_type": "code",
   "execution_count": 96,
   "metadata": {},
   "outputs": [],
   "source": [
    "NB_pipeline = Pipeline([\n",
    "                ('tfidf', TfidfVectorizer(stop_words=stop_words)),\n",
    "                ('clf', OneVsRestClassifier(MultinomialNB(\n",
    "                    fit_prior=True, class_prior=None))),\n",
    "            ])"
   ]
  },
  {
   "cell_type": "code",
   "execution_count": 107,
   "metadata": {
    "scrolled": true
   },
   "outputs": [
    {
     "name": "stdout",
     "output_type": "stream",
     "text": [
      "... Processing Single Malt Scotch\n",
      "Test accuracy is 0.7738607050730868\n",
      "... Processing Flavored Whiskey and Liqueurs\n",
      "Test accuracy is 0.9871023215821152\n",
      "... Processing Bourbon\n",
      "Test accuracy is 0.8392089423903697\n",
      "... Processing  Blended Malt Scotch Whisky \n",
      "Test accuracy is 0.9509888220120378\n",
      "... Processing Blended Scotch Whisky\n",
      "Test accuracy is 0.9251934651762683\n",
      "... Processing Blended Whiskey (Multi-country)\n",
      "Test accuracy is 0.9750644883920895\n",
      "... Processing  Single Malt Whisky (Multi-country)\n",
      "Test accuracy is 0.9638865004299226\n",
      "... Processing  Single Grain Whisky (Multi-country)\n",
      "Test accuracy is 0.9733447979363714\n",
      "... Processing Japan\n",
      "Test accuracy is 0.9733447979363714\n",
      "... Processing  Canada\n",
      "Test accuracy is 0.9312123817712812\n",
      "... Processing Irish\n",
      "Test accuracy is 0.9690455717970765\n",
      "... Processing Generic Whisky (Multi-country)\n",
      "Test accuracy is 0.9062768701633706\n",
      "... Processing Rye Whisky\n",
      "Test accuracy is 0.9613069647463457\n",
      "... Processing White Whisky\n",
      "Test accuracy is 0.9974204643164231\n",
      "... Processing Craft Whisky\n",
      "Test accuracy is 0.8744625967325881\n"
     ]
    }
   ],
   "source": [
    "result_df = pd.DataFrame(columns = ['style', 'score'], index = [i for i in range(len(categories))])\n",
    "i = 0\n",
    "predictions = []\n",
    "for category in categories:\n",
    "    print('... Processing {}'.format(category))\n",
    "    # train the model using X_dtm & y\n",
    "    NB_pipeline.fit(X_train, y_train[category])\n",
    "    # compute the testing accuracy\n",
    "    prediction = NB_pipeline.predict(X_test)\n",
    "    print('Test accuracy is {}'.format(accuracy_score(y_test[category], prediction)))\n",
    "    result_df.iat[i, 0] = category\n",
    "    result_df.iat[i, 1] = accuracy_score(y_test[category], prediction)\n",
    "    predictions.append(prediction)\n",
    "    i += 1"
   ]
  },
  {
   "cell_type": "markdown",
   "metadata": {},
   "source": [
    "<h4> Checking if all of the predictions are just zeroes</h4>"
   ]
  },
  {
   "cell_type": "code",
   "execution_count": 157,
   "metadata": {},
   "outputs": [],
   "source": [
    "df_results = pd.DataFrame(columns = ['X_test','y_test','predictions'])\n",
    "df_results['X_test'] = X_test\n",
    "df_results['y_test'] = y_test['Single Malt Scotch']\n",
    "df_results['predictions'] = predictions[0]"
   ]
  },
  {
   "cell_type": "code",
   "execution_count": 161,
   "metadata": {},
   "outputs": [
    {
     "data": {
      "text/plain": [
       "0    1161\n",
       "1       2\n",
       "Name: predictions, dtype: int64"
      ]
     },
     "execution_count": 161,
     "metadata": {},
     "output_type": "execute_result"
    }
   ],
   "source": [
    "df_results['predictions'].value_counts()"
   ]
  },
  {
   "cell_type": "markdown",
   "metadata": {},
   "source": [
    "<h1>One Vs Rest Classifier with Multinominal NB</h1>"
   ]
  },
  {
   "cell_type": "code",
   "execution_count": 164,
   "metadata": {},
   "outputs": [],
   "source": [
    "NB_pipeline = Pipeline([\n",
    "                ('tfidf', TfidfVectorizer(stop_words=stop_words)),\n",
    "                ('clf', OneVsRestClassifier(MultinomialNB(\n",
    "                    fit_prior=True, class_prior=None))),\n",
    "            ])"
   ]
  },
  {
   "cell_type": "code",
   "execution_count": 168,
   "metadata": {
    "scrolled": true
   },
   "outputs": [
    {
     "name": "stdout",
     "output_type": "stream",
     "text": [
      "... Processing Single Malt Scotch\n",
      "Test accuracy is 0.8685897435897436\n",
      "... Processing Flavored Whiskey and Liqueurs\n",
      "Test accuracy is 0.9852564102564103\n",
      "... Processing Bourbon\n",
      "Test accuracy is 0.875\n",
      "... Processing  Blended Malt Scotch Whisky \n",
      "Test accuracy is 0.9653846153846154\n",
      "... Processing Blended Scotch Whisky\n",
      "Test accuracy is 0.948076923076923\n",
      "... Processing Blended Whiskey (Multi-country)\n",
      "Test accuracy is 0.9762820512820513\n",
      "... Processing  Single Malt Whisky (Multi-country)\n",
      "Test accuracy is 0.9673076923076923\n",
      "... Processing  Single Grain Whisky (Multi-country)\n",
      "Test accuracy is 0.9839743589743589\n",
      "... Processing Japan\n",
      "Test accuracy is 0.9794871794871794\n",
      "... Processing  Canada\n",
      "Test accuracy is 0.9576923076923077\n",
      "... Processing Irish\n",
      "Test accuracy is 0.9801282051282051\n",
      "... Processing Generic Whisky (Multi-country)\n",
      "Test accuracy is 0.9346153846153846\n",
      "... Processing Rye Whisky\n",
      "Test accuracy is 0.9717948717948718\n",
      "... Processing White Whisky\n",
      "Test accuracy is 0.9980769230769231\n",
      "... Processing Craft Whisky\n",
      "Test accuracy is 0.9134615384615384\n"
     ]
    }
   ],
   "source": [
    "result_df = pd.DataFrame(columns = ['style', 'score'], index = [i for i in range(len(categories))])\n",
    "predictions = []\n",
    "i = 0\n",
    "for category in categories:\n",
    "    print('... Processing {}'.format(category))\n",
    "    # train the model using X_dtm & y\n",
    "    NB_pipeline.fit(X_train, y_train[category])\n",
    "    # compute the testing accuracy\n",
    "    prediction = NB_pipeline.predict(X_test)\n",
    "    predictions.append(prediction)\n",
    "    print('Test accuracy is {}'.format(accuracy_score(y_test[category], prediction)))\n",
    "    result_df.iat[i, 0] = category\n",
    "    result_df.iat[i, 1] = accuracy_score(y_test[category], prediction)\n",
    "    i += 1"
   ]
  },
  {
   "cell_type": "code",
   "execution_count": 177,
   "metadata": {},
   "outputs": [],
   "source": [
    "df_results = pd.DataFrame(columns = ['X_test','y_test','predictions'])\n",
    "df_results['X_test'] = X_test\n",
    "df_results['y_test'] = y_test[' Blended Malt Scotch Whisky ']\n",
    "df_results['predictions'] = predictions[3]"
   ]
  },
  {
   "cell_type": "code",
   "execution_count": 178,
   "metadata": {},
   "outputs": [
    {
     "data": {
      "text/plain": [
       "0    1560\n",
       "Name: predictions, dtype: int64"
      ]
     },
     "execution_count": 178,
     "metadata": {},
     "output_type": "execute_result"
    }
   ],
   "source": [
    "df_results['predictions'].value_counts()"
   ]
  },
  {
   "cell_type": "code",
   "execution_count": 78,
   "metadata": {},
   "outputs": [
    {
     "data": {
      "text/html": [
       "<div>\n",
       "<style scoped>\n",
       "    .dataframe tbody tr th:only-of-type {\n",
       "        vertical-align: middle;\n",
       "    }\n",
       "\n",
       "    .dataframe tbody tr th {\n",
       "        vertical-align: top;\n",
       "    }\n",
       "\n",
       "    .dataframe thead th {\n",
       "        text-align: right;\n",
       "    }\n",
       "</style>\n",
       "<table border=\"1\" class=\"dataframe\">\n",
       "  <thead>\n",
       "    <tr style=\"text-align: right;\">\n",
       "      <th></th>\n",
       "      <th>style</th>\n",
       "      <th>score</th>\n",
       "    </tr>\n",
       "  </thead>\n",
       "  <tbody>\n",
       "    <tr>\n",
       "      <th>0</th>\n",
       "      <td>Single Malt Scotch</td>\n",
       "      <td>0.86859</td>\n",
       "    </tr>\n",
       "    <tr>\n",
       "      <th>1</th>\n",
       "      <td>Flavored Whiskey and Liqueurs</td>\n",
       "      <td>0.985256</td>\n",
       "    </tr>\n",
       "    <tr>\n",
       "      <th>2</th>\n",
       "      <td>Bourbon</td>\n",
       "      <td>0.875</td>\n",
       "    </tr>\n",
       "    <tr>\n",
       "      <th>3</th>\n",
       "      <td>Blended Malt Scotch Whisky</td>\n",
       "      <td>0.965385</td>\n",
       "    </tr>\n",
       "    <tr>\n",
       "      <th>4</th>\n",
       "      <td>Blended Scotch Whisky</td>\n",
       "      <td>0.948077</td>\n",
       "    </tr>\n",
       "    <tr>\n",
       "      <th>5</th>\n",
       "      <td>Blended Whiskey (Multi-country)</td>\n",
       "      <td>0.976282</td>\n",
       "    </tr>\n",
       "    <tr>\n",
       "      <th>6</th>\n",
       "      <td>Single Malt Whisky (Multi-country)</td>\n",
       "      <td>0.967308</td>\n",
       "    </tr>\n",
       "    <tr>\n",
       "      <th>7</th>\n",
       "      <td>Single Grain Whisky (Multi-country)</td>\n",
       "      <td>0.983974</td>\n",
       "    </tr>\n",
       "    <tr>\n",
       "      <th>8</th>\n",
       "      <td>Japan</td>\n",
       "      <td>0.979487</td>\n",
       "    </tr>\n",
       "    <tr>\n",
       "      <th>9</th>\n",
       "      <td>Canada</td>\n",
       "      <td>0.957692</td>\n",
       "    </tr>\n",
       "    <tr>\n",
       "      <th>10</th>\n",
       "      <td>Irish</td>\n",
       "      <td>0.980128</td>\n",
       "    </tr>\n",
       "    <tr>\n",
       "      <th>11</th>\n",
       "      <td>Generic Whisky (Multi-country)</td>\n",
       "      <td>0.934615</td>\n",
       "    </tr>\n",
       "    <tr>\n",
       "      <th>12</th>\n",
       "      <td>Rye Whisky</td>\n",
       "      <td>0.971795</td>\n",
       "    </tr>\n",
       "    <tr>\n",
       "      <th>13</th>\n",
       "      <td>White Whisky</td>\n",
       "      <td>0.998077</td>\n",
       "    </tr>\n",
       "    <tr>\n",
       "      <th>14</th>\n",
       "      <td>Craft Whisky</td>\n",
       "      <td>0.913462</td>\n",
       "    </tr>\n",
       "  </tbody>\n",
       "</table>\n",
       "</div>"
      ],
      "text/plain": [
       "                                   style     score\n",
       "0                     Single Malt Scotch   0.86859\n",
       "1          Flavored Whiskey and Liqueurs  0.985256\n",
       "2                                Bourbon     0.875\n",
       "3            Blended Malt Scotch Whisky   0.965385\n",
       "4                  Blended Scotch Whisky  0.948077\n",
       "5        Blended Whiskey (Multi-country)  0.976282\n",
       "6     Single Malt Whisky (Multi-country)  0.967308\n",
       "7    Single Grain Whisky (Multi-country)  0.983974\n",
       "8                                  Japan  0.979487\n",
       "9                                 Canada  0.957692\n",
       "10                                 Irish  0.980128\n",
       "11        Generic Whisky (Multi-country)  0.934615\n",
       "12                            Rye Whisky  0.971795\n",
       "13                          White Whisky  0.998077\n",
       "14                          Craft Whisky  0.913462"
      ]
     },
     "execution_count": 78,
     "metadata": {},
     "output_type": "execute_result"
    }
   ],
   "source": [
    "result_df"
   ]
  },
  {
   "cell_type": "markdown",
   "metadata": {},
   "source": [
    "<h1>Keras Classification Neural Network </h1>"
   ]
  },
  {
   "cell_type": "code",
   "execution_count": 175,
   "metadata": {},
   "outputs": [],
   "source": [
    "from keras.models import Sequential\n",
    "from keras.layers import Dense\n",
    "from keras.layers import Embedding\n",
    "from keras.layers import Dropout\n",
    "from keras.layers import LSTM\n",
    "from keras.callbacks import EarlyStopping\n",
    "from sklearn.feature_extraction.text import CountVectorizer\n",
    "import matplotlib.pyplot as plt"
   ]
  },
  {
   "cell_type": "code",
   "execution_count": 35,
   "metadata": {},
   "outputs": [
    {
     "data": {
      "text/plain": [
       "'magnificently powerful intense caramels dried peats elegant cigar smoke seeds scraped vanilla beans brand new pencils peppercorn coriander seeds star anise make deeply satisfying nosing experience silky caramels bountiful fruits ripe peach stewed apple orange pith pervasive smoke elements burnt tobacco abiding finish smoke dry spices banoffee pie sweetness close perfection editors choice'"
      ]
     },
     "execution_count": 35,
     "metadata": {},
     "output_type": "execute_result"
    }
   ],
   "source": [
    "df['descriptions'][0]"
   ]
  },
  {
   "cell_type": "code",
   "execution_count": 36,
   "metadata": {},
   "outputs": [],
   "source": [
    "vectorizer = CountVectorizer(stop_words=stop_words, max_features = 100)"
   ]
  },
  {
   "cell_type": "code",
   "execution_count": 37,
   "metadata": {},
   "outputs": [
    {
     "data": {
      "text/plain": [
       "CountVectorizer(analyzer='word', binary=False, decode_error='strict',\n",
       "        dtype=<class 'numpy.int64'>, encoding='utf-8', input='content',\n",
       "        lowercase=True, max_df=1.0, max_features=100, min_df=1,\n",
       "        ngram_range=(1, 1), preprocessor=None,\n",
       "        stop_words={'very', 't', 'over', 'his', 'how', 'by', 'the', 'again', \"should've\", 're', 'ma', 'your', 's', 'their', \"mustn't\", 'because', 'yourselves', 'our', 'couldn', 'of', 'having', 'ours', 'from', 'did', 'had', 'below', 'under', 'own', 'shan', 'some', 'so', 'if', 'through', 'don', 'was', 'been',...hy', \"you'd\", 'mightn', 'few', 'ain', 'them', 'there', 'each', 'yours', 'whom', 'll', 'this', 'and'},\n",
       "        strip_accents=None, token_pattern='(?u)\\\\b\\\\w\\\\w+\\\\b',\n",
       "        tokenizer=None, vocabulary=None)"
      ]
     },
     "execution_count": 37,
     "metadata": {},
     "output_type": "execute_result"
    }
   ],
   "source": [
    "vectorizer.fit(df['descriptions'])"
   ]
  },
  {
   "cell_type": "code",
   "execution_count": 38,
   "metadata": {},
   "outputs": [],
   "source": [
    "X = vectorizer.transform(df['descriptions'])"
   ]
  },
  {
   "cell_type": "code",
   "execution_count": 39,
   "metadata": {},
   "outputs": [
    {
     "data": {
      "text/plain": [
       "(4726, 100)"
      ]
     },
     "execution_count": 39,
     "metadata": {},
     "output_type": "execute_result"
    }
   ],
   "source": [
    "X.shape"
   ]
  },
  {
   "cell_type": "code",
   "execution_count": 112,
   "metadata": {},
   "outputs": [],
   "source": [
    "vectorizer = TfidfVectorizer(stop_words=stop_words, max_features=500, ngram_range=(1, 3))\n",
    "vectorizer.fit(df['descriptions'])\n",
    "X = vectorizer.transform(df['descriptions'])"
   ]
  },
  {
   "cell_type": "code",
   "execution_count": 113,
   "metadata": {},
   "outputs": [
    {
     "name": "stdout",
     "output_type": "stream",
     "text": [
      "(3308, 500) (3308, 15)\n",
      "(1418, 500) (1418, 15)\n"
     ]
    }
   ],
   "source": [
    "X_train, X_test, y_train, y_test = train_test_split(X,y, test_size = 0.30, random_state = 42)\n",
    "print(X_train.shape,y_train.shape)\n",
    "print(X_test.shape,y_test.shape)"
   ]
  },
  {
   "cell_type": "code",
   "execution_count": 189,
   "metadata": {},
   "outputs": [
    {
     "name": "stdout",
     "output_type": "stream",
     "text": [
      "_________________________________________________________________\n",
      "Layer (type)                 Output Shape              Param #   \n",
      "=================================================================\n",
      "dense_48 (Dense)             (None, 500)               250500    \n",
      "_________________________________________________________________\n",
      "dropout_3 (Dropout)          (None, 500)               0         \n",
      "_________________________________________________________________\n",
      "dense_49 (Dense)             (None, 15)                7515      \n",
      "=================================================================\n",
      "Total params: 258,015\n",
      "Trainable params: 258,015\n",
      "Non-trainable params: 0\n",
      "_________________________________________________________________\n"
     ]
    }
   ],
   "source": [
    "model = Sequential()\n",
    "# model.add(Embedding(500, 100, input_length=X.shape[1]))\n",
    "# model.add(LSTM(100, return_sequences= True))\n",
    "# model.add(LSTM(100))\n",
    "model.add(Dense(500, input_dim=500))\n",
    "model.add(Dropout(0.5))\n",
    "model.add(Dense(15, activation='softmax'))\n",
    "model.compile(loss='categorical_crossentropy', optimizer='adam', metrics=['accuracy'])\n",
    "\n",
    "epochs = 20\n",
    "batch_size = 254\n",
    "model.summary()"
   ]
  },
  {
   "cell_type": "code",
   "execution_count": 190,
   "metadata": {},
   "outputs": [
    {
     "name": "stdout",
     "output_type": "stream",
     "text": [
      "Train on 1984 samples, validate on 1324 samples\n",
      "Epoch 1/20\n",
      "1984/1984 [==============================] - 2s 763us/step - loss: 2.5715 - acc: 0.3165 - val_loss: 2.3481 - val_acc: 0.4079\n",
      "Epoch 2/20\n",
      "1984/1984 [==============================] - 0s 45us/step - loss: 2.2018 - acc: 0.4012 - val_loss: 2.0162 - val_acc: 0.4079\n",
      "Epoch 3/20\n",
      "1984/1984 [==============================] - 0s 44us/step - loss: 1.9462 - acc: 0.4012 - val_loss: 1.8803 - val_acc: 0.4079\n",
      "Epoch 4/20\n",
      "1984/1984 [==============================] - 0s 45us/step - loss: 1.8326 - acc: 0.4078 - val_loss: 1.7816 - val_acc: 0.4328\n",
      "Epoch 5/20\n",
      "1984/1984 [==============================] - 0s 44us/step - loss: 1.7189 - acc: 0.4728 - val_loss: 1.6942 - val_acc: 0.5076\n",
      "Epoch 6/20\n",
      "1984/1984 [==============================] - 0s 44us/step - loss: 1.6209 - acc: 0.5323 - val_loss: 1.6158 - val_acc: 0.5370\n",
      "Epoch 7/20\n",
      "1984/1984 [==============================] - 0s 46us/step - loss: 1.5235 - acc: 0.5554 - val_loss: 1.5418 - val_acc: 0.5529\n",
      "Epoch 8/20\n",
      "1984/1984 [==============================] - 0s 45us/step - loss: 1.4277 - acc: 0.5811 - val_loss: 1.4751 - val_acc: 0.5695\n",
      "Epoch 9/20\n",
      "1984/1984 [==============================] - 0s 45us/step - loss: 1.3489 - acc: 0.6038 - val_loss: 1.4164 - val_acc: 0.5914\n",
      "Epoch 10/20\n",
      "1984/1984 [==============================] - 0s 44us/step - loss: 1.2654 - acc: 0.6270 - val_loss: 1.3645 - val_acc: 0.6005\n",
      "Epoch 11/20\n",
      "1984/1984 [==============================] - 0s 45us/step - loss: 1.1908 - acc: 0.6426 - val_loss: 1.3204 - val_acc: 0.6103\n",
      "Epoch 12/20\n",
      "1984/1984 [==============================] - 0s 44us/step - loss: 1.1283 - acc: 0.6562 - val_loss: 1.2814 - val_acc: 0.6261\n",
      "Epoch 13/20\n",
      "1984/1984 [==============================] - 0s 49us/step - loss: 1.0648 - acc: 0.6840 - val_loss: 1.2487 - val_acc: 0.6322\n",
      "Epoch 14/20\n",
      "1984/1984 [==============================] - 0s 51us/step - loss: 1.0124 - acc: 0.7051 - val_loss: 1.2204 - val_acc: 0.6397\n",
      "Epoch 15/20\n",
      "1984/1984 [==============================] - 0s 55us/step - loss: 0.9513 - acc: 0.7157 - val_loss: 1.1965 - val_acc: 0.6420\n",
      "Epoch 16/20\n",
      "1984/1984 [==============================] - 0s 58us/step - loss: 0.9032 - acc: 0.7364 - val_loss: 1.1757 - val_acc: 0.6503\n",
      "Epoch 17/20\n",
      "1984/1984 [==============================] - 0s 49us/step - loss: 0.8633 - acc: 0.7450 - val_loss: 1.1592 - val_acc: 0.6541\n",
      "Epoch 18/20\n",
      "1984/1984 [==============================] - 0s 46us/step - loss: 0.8222 - acc: 0.7626 - val_loss: 1.1461 - val_acc: 0.6518\n",
      "Epoch 19/20\n",
      "1984/1984 [==============================] - 0s 45us/step - loss: 0.7810 - acc: 0.7762 - val_loss: 1.1357 - val_acc: 0.6533\n",
      "Epoch 20/20\n",
      "1984/1984 [==============================] - 0s 45us/step - loss: 0.7464 - acc: 0.7858 - val_loss: 1.1271 - val_acc: 0.6556\n"
     ]
    }
   ],
   "source": [
    "history = model.fit(X_train, y_train, epochs=epochs, batch_size=batch_size, validation_split=0.4,\n",
    "                    callbacks=[EarlyStopping(monitor='val_loss', patience=3, min_delta=0.0001)], \n",
    "                    verbose = 1)#, validation_data=(X_test, y_test))"
   ]
  },
  {
   "cell_type": "code",
   "execution_count": 191,
   "metadata": {},
   "outputs": [
    {
     "name": "stdout",
     "output_type": "stream",
     "text": [
      "1418/1418 [==============================] - 0s 51us/step\n",
      "Test set\n",
      "  Loss: 1.100\n",
      "  Accuracy: 0.675\n"
     ]
    }
   ],
   "source": [
    "accr = model.evaluate(X_test,y_test)\n",
    "print('Test set\\n  Loss: {:0.3f}\\n  Accuracy: {:0.3f}'.format(accr[0],accr[1]))"
   ]
  },
  {
   "cell_type": "code",
   "execution_count": 192,
   "metadata": {},
   "outputs": [
    {
     "name": "stdout",
     "output_type": "stream",
     "text": [
      "4726/4726 [==============================] - 0s 45us/step\n",
      "Test set\n",
      "  Loss: 0.944\n",
      "  Accuracy: 0.722\n"
     ]
    }
   ],
   "source": [
    "accr = model.evaluate(X,y)\n",
    "print('Test set\\n  Loss: {:0.3f}\\n  Accuracy: {:0.3f}'.format(accr[0],accr[1]))"
   ]
  },
  {
   "cell_type": "code",
   "execution_count": 193,
   "metadata": {},
   "outputs": [
    {
     "data": {
      "image/png": "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\n",
      "text/plain": [
       "<Figure size 432x288 with 1 Axes>"
      ]
     },
     "metadata": {
      "needs_background": "light"
     },
     "output_type": "display_data"
    }
   ],
   "source": [
    "plt.title('Loss')\n",
    "plt.plot(history.history['loss'], label='train')\n",
    "plt.plot(history.history['val_loss'], label='test')\n",
    "plt.legend()\n",
    "plt.show();"
   ]
  },
  {
   "cell_type": "code",
   "execution_count": 194,
   "metadata": {},
   "outputs": [
    {
     "data": {
      "image/png": "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\n",
      "text/plain": [
       "<Figure size 432x288 with 1 Axes>"
      ]
     },
     "metadata": {
      "needs_background": "light"
     },
     "output_type": "display_data"
    }
   ],
   "source": [
    "plt.title('Accuracy')\n",
    "plt.plot(history.history['acc'], label='train')\n",
    "plt.plot(history.history['val_acc'], label='test')\n",
    "plt.legend()\n",
  {
   "cell_type": "code",
   "execution_count": 196,
   "metadata": {},
   "outputs": [
    {
     "data": {
      "text/plain": [
       "array([0.00595283, 0.00718399, 0.0174626 , 0.07173897, 0.592791  ,\n",
       "       0.0396858 , 0.10506115, 0.02770236, 0.04777006, 0.00952642,\n",
       "       0.01559865, 0.0367034 , 0.00607589, 0.00799501, 0.00875194],\n",
       "      dtype=float32)"
      ]
     },
     "execution_count": 196,
     "metadata": {},
     "output_type": "execute_result"
    }
   ],
   "source": [
    "model.predict(X)[0]"
   ]
  },
  {
   "cell_type": "code",
   "execution_count": 130,
   "metadata": {},
   "outputs": [
    {
     "data": {
      "text/plain": [
       "array([0, 0, 0, 0, 1, 0, 0, 0, 0, 0, 0, 0, 0, 0, 0], dtype=int64)"
      ]
     },
     "execution_count": 130,
     "metadata": {},
     "output_type": "execute_result"
    }
   ],
   "source": [
    "y.values[0]"
   ]
  },
  {
   "cell_type": "code",
   "execution_count": 202,
   "metadata": {},
   "outputs": [],
   "source": [
    "model.save('Best_model_ever_for_whisky_classification.h5')"
   ]
  },
  {
   "cell_type": "code",
   "execution_count": 199,
   "metadata": {},
   "outputs": [],
   "source": [
    "test = vectorizer.transform(['bourbon'])"
   ]
  },
  {
   "cell_type": "code",
   "execution_count": 200,
   "metadata": {},
   "outputs": [
    {
     "data": {
      "text/plain": [
       "array([[0.00921022, 0.02723863, 0.7172278 , 0.00490634, 0.00329158,\n",
       "        0.02132213, 0.0112174 , 0.00735171, 0.00627426, 0.00620595,\n",
       "        0.01839489, 0.05396401, 0.01772934, 0.00823744, 0.08742841]],\n",
       "      dtype=float32)"
      ]
     },
     "execution_count": 200,
     "metadata": {},
     "output_type": "execute_result"
    }
   ],
   "source": [
    "model.predict(test)"
   ]
  },
  {
   "cell_type": "code",
   "execution_count": 201,
   "metadata": {},
   "outputs": [
    {
     "data": {
      "text/plain": [
       "['Single Malt Scotch',\n",
       " 'Flavored Whiskey and Liqueurs',\n",
       " 'Bourbon',\n",
       " ' Blended Malt Scotch Whisky ',\n",
       " 'Blended Scotch Whisky',\n",
       " 'Blended Whiskey (Multi-country)',\n",
       " ' Single Malt Whisky (Multi-country)',\n",
       " ' Single Grain Whisky (Multi-country)',\n",
       " 'Japan',\n",
       " ' Canada',\n",
       " 'Irish',\n",
       " 'Generic Whisky (Multi-country)',\n",
       " 'Rye Whisky',\n",
       " 'White Whisky',\n",
       " 'Craft Whisky']"
      ]
     },
     "execution_count": 201,
     "metadata": {},
     "output_type": "execute_result"
    }
   ],
   "source": [
    "categories"
   ]
  },
  {
   "cell_type": "code",
   "execution_count": 205,
   "metadata": {},
   "outputs": [],
   "source": [
    "import pickle\n",
    "\n",
    "pickle.dump(vectorizer, open(\"tfidf.pickle\", \"wb\"))\n",
    "pickle.dump(X, open(\"descriptions_vectorized.pickle\", \"wb\"))\n",
    "# pickle.dump(test_comment_features, open(\"test_comment_features.pickle\", \"wb\"))"
   ]
  },
  {
   "cell_type": "code",
   "execution_count": 210,
   "metadata": {},
   "outputs": [],
   "source": [
    "with open('tfidf.pickle', 'rb') as f:\n",
    "    # The protocol version used is detected automatically, so we do not\n",
    "    # have to specify it.\n",
    "    data = pickle.load(f)"
   ]
  },
  {
   "cell_type": "code",
   "execution_count": 211,
   "metadata": {},
   "outputs": [
    {
     "data": {
      "text/plain": [
       "TfidfVectorizer(analyzer='word', binary=False, decode_error='strict',\n",
       "        dtype=<class 'numpy.float64'>, encoding='utf-8', input='content',\n",
       "        lowercase=True, max_df=1.0, max_features=500, min_df=1,\n",
       "        ngram_range=(1, 3), norm='l2', preprocessor=None, smooth_idf=True,\n",
       "        stop_words={'very', 't', 'over', 'his', 'how', 'by', \"should've\", 'the', 'again', 're', 'ma', 'your', 's', 'their', \"mustn't\", 'because', 'yourselves', 'our', 'couldn', 'of', 'having', 'ours', 'from', 'did', 'had', 'below', 'under', 'own', 'shan', 'some', 'so', 'if', 'through', 'don', 'was', 'been',...hy', \"you'd\", 'mightn', 'few', 'ain', 'them', 'there', 'each', 'yours', 'whom', 'll', 'have', 'and'},\n",
       "        strip_accents=None, sublinear_tf=False,\n",
       "        token_pattern='(?u)\\\\b\\\\w\\\\w+\\\\b', tokenizer=None, use_idf=True,\n",
       "        vocabulary=None)"
      ]
     },
     "execution_count": 211,
     "metadata": {},
     "output_type": "execute_result"
    }
   ],
   "source": [
    "data"
   ]
  },
  {
   "cell_type": "code",
   "execution_count": 212,
   "metadata": {},
   "outputs": [
    {
     "data": {
      "text/plain": [
       "<4726x500 sparse matrix of type '<class 'numpy.float64'>'\n",
       "\twith 119269 stored elements in Compressed Sparse Row format>"
      ]
     },
     "execution_count": 212,
     "metadata": {},
     "output_type": "execute_result"
    }
   ],
   "source": [
    "data.transform(df['descriptions'])"
   ]
  },
  {
   "execution_count": null,
   "metadata": {},
   "outputs": [],
   "source": []
  }
 ],
 "metadata": {
  "kernelspec": {
   "display_name": "Python 3",
   "language": "python",
   "name": "python3"
  },
  "language_info": {
   "codemirror_mode": {
    "name": "ipython",
    "version": 3
   },
   "file_extension": ".py",
   "mimetype": "text/x-python",
   "name": "python",
   "nbconvert_exporter": "python",
   "pygments_lexer": "ipython3",
   "version": "3.7.0"
  }
 },
 "nbformat": 4,
 "nbformat_minor": 2
}
}

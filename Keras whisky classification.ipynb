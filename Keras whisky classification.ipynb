{
 "cells": [
  {
   "cell_type": "code",
   "execution_count": 3,
   "metadata": {},
   "outputs": [],
   "source": [
    "import re\n",
    "import pandas as pd\n",
    "import numpy as np\n",
    "from bs4 import BeautifulSoup\n",
    "from sklearn.model_selection import train_test_split\n",
    "from sklearn.feature_extraction.text import TfidfVectorizer\n",
    "from sklearn.naive_bayes import MultinomialNB\n",
    "from sklearn.metrics import accuracy_score\n",
    "from sklearn.multiclass import OneVsRestClassifier\n",
    "from nltk.corpus import stopwords\n",
    "stop_words = set(stopwords.words('english'))\n",
    "from sklearn.svm import LinearSVC\n",
    "from sklearn.linear_model import LogisticRegression\n",
    "from sklearn.pipeline import Pipeline\n",
    "import seaborn as sns"
   ]
  },
  {
   "cell_type": "code",
   "execution_count": 4,
   "metadata": {},
   "outputs": [],
   "source": [
    "df = pd.read_csv('clean-data/Whiskey_data/Whiskey_Advocate_All_scraped_KHupdate-23 Jul (Team Style Defined) with descriptions.csv')"
   ]
  },
  {
   "cell_type": "code",
   "execution_count": 5,
   "metadata": {},
   "outputs": [
    {
     "data": {
      "text/plain": [
       "Index(['Unnamed: 0', 'Index', 'Maker', 'Year Distrilled', 'age in cast', 'ABV',\n",
       "       'Single Malt Scotch', 'Flavored Whiskey and Liqueurs', 'Bourbon',\n",
       "       ' Blended Malt Scotch Whisky ', 'Blended Scotch Whisky',\n",
       "       'Blended Whiskey (Multi-country)',\n",
       "       ' Single Malt Whisky (Multi-country)',\n",
       "       ' Single Grain Whisky (Multi-country)', 'Japan', ' Canada', 'Irish',\n",
       "       'Generic Whisky (Multi-country)', 'Rye Whisky', 'White Whisky',\n",
       "       'Craft Whisky', 'SUM', 'Review Score (Points)', ' price ',\n",
       "       'Original Style', 'country', 'descriptions'],\n",
       "      dtype='object')"
      ]
     },
     "execution_count": 5,
     "metadata": {},
     "output_type": "execute_result"
    }
   ],
   "source": [
    "df.columns"
   ]
  },
  {
   "cell_type": "code",
   "execution_count": 6,
   "metadata": {},
   "outputs": [],
   "source": [
    "df = df[['Single Malt Scotch', 'Flavored Whiskey and Liqueurs', 'Bourbon',\n",
    "       ' Blended Malt Scotch Whisky ', 'Blended Scotch Whisky',\n",
    "       'Blended Whiskey (Multi-country)',\n",
    "       ' Single Malt Whisky (Multi-country)',\n",
    "       ' Single Grain Whisky (Multi-country)', 'Japan', ' Canada', 'Irish',\n",
    "       'Generic Whisky (Multi-country)', 'Rye Whisky', 'White Whisky','Craft Whisky', 'descriptions']]"
   ]
  },
  {
   "cell_type": "code",
   "execution_count": 7,
   "metadata": {},
   "outputs": [],
   "source": [
    "#Thank you to this article for this funciton https://towardsdatascience.com/multi-class-text-classification-with-lstm-1590bee1bd17\n",
    "\n",
    "REPLACE_BY_SPACE_RE = re.compile('[/(){}\\[\\]\\|@,;]')\n",
    "BAD_SYMBOLS_RE = re.compile('[^0-9a-z #+_]')\n",
    "STOPWORDS = set(stopwords.words('english'))\n",
    "\n",
    "def clean_text(text):\n",
    "    \"\"\"\n",
    "        text: a string\n",
    "        \n",
    "        return: modified initial string\n",
    "    \"\"\"\n",
    "    text = BeautifulSoup(text, \"lxml\").text # HTML decoding\n",
    "    text = text.lower() # lowercase text\n",
    "    text = REPLACE_BY_SPACE_RE.sub(' ', text) # replace REPLACE_BY_SPACE_RE symbols by space in text\n",
    "    text = BAD_SYMBOLS_RE.sub('', text) # delete symbols which are in BAD_SYMBOLS_RE from text\n",
    "    text = ' '.join(word for word in text.split() if word not in STOPWORDS) # delete stopwors from text\n",
    "    return text\n",
    "    "
   ]
  },
  {
   "cell_type": "code",
   "execution_count": 8,
   "metadata": {},
   "outputs": [],
   "source": [
    "df['descriptions'] = df['descriptions'].apply(clean_text)"
   ]
  },
  {
   "cell_type": "code",
   "execution_count": 9,
   "metadata": {},
   "outputs": [
    {
     "data": {
      "text/plain": [
       "['Single Malt Scotch',\n",
       " 'Flavored Whiskey and Liqueurs',\n",
       " 'Bourbon',\n",
       " ' Blended Malt Scotch Whisky ',\n",
       " 'Blended Scotch Whisky',\n",
       " 'Blended Whiskey (Multi-country)',\n",
       " ' Single Malt Whisky (Multi-country)',\n",
       " ' Single Grain Whisky (Multi-country)',\n",
       " 'Japan',\n",
       " ' Canada',\n",
       " 'Irish',\n",
       " 'Generic Whisky (Multi-country)',\n",
       " 'Rye Whisky',\n",
       " 'White Whisky',\n",
       " 'Craft Whisky']"
      ]
     },
     "execution_count": 9,
     "metadata": {},
     "output_type": "execute_result"
    }
   ],
   "source": [
    "categories = list(df.columns)\n",
    "categories.pop(-1)\n",
    "categories"
   ]
  },
  {
   "cell_type": "code",
   "execution_count": 110,
   "metadata": {},
   "outputs": [],
   "source": [
    "y = df[categories]\n",
    "X = df['descriptions']"
   ]
  },
  {
   "cell_type": "code",
   "execution_count": 111,
   "metadata": {},
   "outputs": [
    {
     "name": "stdout",
     "output_type": "stream",
     "text": [
      "(3166,)\n",
      "(1560,)\n"
     ]
    }
   ],
   "source": [
    "X_train, X_test, y_train, y_test = train_test_split(X,y, random_state=42, test_size=0.33, shuffle=True)\n",
    "\n",
    "print(X_train.shape)\n",
    "print(X_test.shape)"
   ]
  },
  {
   "cell_type": "markdown",
   "metadata": {},
   "source": [
    "<h1>Visualizing the Data</h1>"
   ]
  },
  {
   "cell_type": "code",
   "execution_count": 61,
   "metadata": {},
   "outputs": [
    {
     "data": {
      "text/plain": [
       "111"
      ]
     },
     "execution_count": 61,
     "metadata": {},
     "output_type": "execute_result"
    }
   ],
   "source": [
    "len(df.loc[df['Irish'] == True])"
   ]
  },
  {
   "cell_type": "code",
   "execution_count": 62,
   "metadata": {},
   "outputs": [],
   "source": [
    "counts = []\n",
    "\n",
    "for category in categories:\n",
    "    counts.append(len(df.loc[df[category] == True]))"
   ]
  },
  {
   "cell_type": "code",
   "execution_count": 66,
   "metadata": {},
   "outputs": [
    {
     "data": {
      "text/plain": [
       "['Single Malt Scotch',\n",
       " 'Flavored Whiskey and Liqueurs',\n",
       " 'Bourbon',\n",
       " ' Blended Malt Scotch Whisky ',\n",
       " 'Blended Scotch Whisky',\n",
       " 'Blended Whiskey (Multi-country)',\n",
       " ' Single Malt Whisky (Multi-country)',\n",
       " ' Single Grain Whisky (Multi-country)',\n",
       " 'Japan',\n",
       " ' Canada',\n",
       " 'Irish',\n",
       " 'Generic Whisky (Multi-country)',\n",
       " 'Rye Whisky',\n",
       " 'White Whisky',\n",
       " 'Craft Whisky']"
      ]
     },
     "execution_count": 66,
     "metadata": {},
     "output_type": "execute_result"
    }
   ],
   "source": [
    "categories"
   ]
  },
  {
   "cell_type": "code",
   "execution_count": 72,
   "metadata": {},
   "outputs": [
    {
     "data": {
      "text/plain": [
       "<BarContainer object of 15 artists>"
      ]
     },
     "execution_count": 72,
     "metadata": {},
     "output_type": "execute_result"
    },
    {
     "data": {
      "image/png": "[encoded data removed]",
      "text/plain": [
       "<Figure size 432x288 with 1 Axes>"
      ]
     },
     "metadata": {
      "needs_background": "light"
     },
     "output_type": "display_data"
    }
   ],
   "source": [
    "x = categories\n",
    "y = counts\n",
    "\n",
    "plt.bar(x, y)"
   ]
  },
  {
   "cell_type": "markdown",
   "metadata": {},
   "source": [
    "<h3>Found that 'Single Malt Scotch' has a much larger representation in the dataset than the others and i am going to attempt to reduce it to see if it has a clear impact on the accuracy of the models</h3>"
   ]
  },
  {
   "cell_type": "code",
   "execution_count": 51,
   "metadata": {},
   "outputs": [
    {
     "data": {
      "text/plain": [
       "Index(['Single Malt Scotch', 'Flavored Whiskey and Liqueurs', 'Bourbon',\n",
       "       ' Blended Malt Scotch Whisky ', 'Blended Scotch Whisky',\n",
       "       'Blended Whiskey (Multi-country)',\n",
       "       ' Single Malt Whisky (Multi-country)',\n",
       "       ' Single Grain Whisky (Multi-country)', 'Japan', ' Canada', 'Irish',\n",
       "       'Generic Whisky (Multi-country)', 'Rye Whisky', 'White Whisky',\n",
       "       'Craft Whisky', 'descriptions'],\n",
       "      dtype='object')"
      ]
     },
     "execution_count": 51,
     "metadata": {},
     "output_type": "execute_result"
    }
   ],
   "source": [
    "df_copy = df.copy()\n",
    "df_copy.columns"
   ]
  },
  {
   "cell_type": "code",
   "execution_count": 52,
   "metadata": {},
   "outputs": [
    {
     "data": {
      "text/plain": [
       "1954"
      ]
     },
     "execution_count": 52,
     "metadata": {},
     "output_type": "execute_result"
    }
   ],
   "source": [
    "df_less_scotch = df_copy.loc[df_copy['Single Malt Scotch'] == True]\n",
    "len(df_less_scotch)"
   ]
  },
  {
   "cell_type": "code",
   "execution_count": 53,
   "metadata": {},
   "outputs": [
    {
     "data": {
      "text/plain": [
       "300"
      ]
     },
     "execution_count": 53,
     "metadata": {},
     "output_type": "execute_result"
    }
   ],
   "source": [
    "df_less_scotch = df_less_scotch.sample(300)\n",
    "len(df_less_scotch)"
   ]
  },
  {
   "cell_type": "code",
   "execution_count": 54,
   "metadata": {},
   "outputs": [],
   "source": [
    "df_all_but_scotch = df_copy.loc[df_copy['Single Malt Scotch'] == False]"
   ]
  },
  {
   "cell_type": "code",
   "execution_count": 55,
   "metadata": {},
   "outputs": [
    {
     "data": {
      "text/plain": [
       "3072"
      ]
     },
     "execution_count": 55,
     "metadata": {},
     "output_type": "execute_result"
    }
   ],
   "source": [
    "df_new_scotch = pd.concat([df_less_scotch, df_all_but_scotch])\n",
    "len(df_new_scotch)"
   ]
  },
  {
   "cell_type": "code",
   "execution_count": 56,
   "metadata": {},
   "outputs": [],
   "source": [
    "X = df_new_scotch['descriptions']\n",
    "y = df_new_scotch[categories]\n",
    "X_train, X_test, y_train, y_test = train_test_split(X,y, random_state=42, test_size=0.33, shuffle=True)"
   ]
  },
  {
   "cell_type": "code",
   "execution_count": 96,
   "metadata": {},
   "outputs": [],
   "source": [
    "NB_pipeline = Pipeline([\n",
    "                ('tfidf', TfidfVectorizer(stop_words=stop_words)),\n",
    "                ('clf', OneVsRestClassifier(MultinomialNB(\n",
    "                    fit_prior=True, class_prior=None))),\n",
    "            ])"
   ]
  },
  {
   "cell_type": "code",
   "execution_count": 107,
   "metadata": {
    "scrolled": true
   },
   "outputs": [
    {
     "name": "stdout",
     "output_type": "stream",
     "text": [
      "... Processing Single Malt Scotch\n",
      "Test accuracy is 0.7738607050730868\n",
      "... Processing Flavored Whiskey and Liqueurs\n",
      "Test accuracy is 0.9871023215821152\n",
      "... Processing Bourbon\n",
      "Test accuracy is 0.8392089423903697\n",
      "... Processing  Blended Malt Scotch Whisky \n",
      "Test accuracy is 0.9509888220120378\n",
      "... Processing Blended Scotch Whisky\n",
      "Test accuracy is 0.9251934651762683\n",
      "... Processing Blended Whiskey (Multi-country)\n",
      "Test accuracy is 0.9750644883920895\n",
      "... Processing  Single Malt Whisky (Multi-country)\n",
      "Test accuracy is 0.9638865004299226\n",
      "... Processing  Single Grain Whisky (Multi-country)\n",
      "Test accuracy is 0.9733447979363714\n",
      "... Processing Japan\n",
      "Test accuracy is 0.9733447979363714\n",
      "... Processing  Canada\n",
      "Test accuracy is 0.9312123817712812\n",
      "... Processing Irish\n",
      "Test accuracy is 0.9690455717970765\n",
      "... Processing Generic Whisky (Multi-country)\n",
      "Test accuracy is 0.9062768701633706\n",
      "... Processing Rye Whisky\n",
      "Test accuracy is 0.9613069647463457\n",
      "... Processing White Whisky\n",
      "Test accuracy is 0.9974204643164231\n",
      "... Processing Craft Whisky\n",
      "Test accuracy is 0.8744625967325881\n"
     ]
    }
   ],
   "source": [
    "result_df = pd.DataFrame(columns = ['style', 'score'], index = [i for i in range(len(categories))])\n",
    "i = 0\n",
    "predictions = []\n",
    "for category in categories:\n",
    "    print('... Processing {}'.format(category))\n",
    "    # train the model using X_dtm & y\n",
    "    NB_pipeline.fit(X_train, y_train[category])\n",
    "    # compute the testing accuracy\n",
    "    prediction = NB_pipeline.predict(X_test)\n",
    "    print('Test accuracy is {}'.format(accuracy_score(y_test[category], prediction)))\n",
    "    result_df.iat[i, 0] = category\n",
    "    result_df.iat[i, 1] = accuracy_score(y_test[category], prediction)\n",
    "    predictions.append(prediction)\n",
    "    i += 1"
   ]
  },
  {
   "cell_type": "markdown",
   "metadata": {},
   "source": [
    "<h4> Checking if all of the predictions are just zeroes</h4>"
   ]
  },
  {
   "cell_type": "code",
   "execution_count": 157,
   "metadata": {},
   "outputs": [],
   "source": [
    "df_results = pd.DataFrame(columns = ['X_test','y_test','predictions'])\n",
    "df_results['X_test'] = X_test\n",
    "df_results['y_test'] = y_test['Single Malt Scotch']\n",
    "df_results['predictions'] = predictions[0]"
   ]
  },
  {
   "cell_type": "code",
   "execution_count": 161,
   "metadata": {},
   "outputs": [
    {
     "data": {
      "text/plain": [
       "0    1161\n",
       "1       2\n",
       "Name: predictions, dtype: int64"
      ]
     },
     "execution_count": 161,
     "metadata": {},
     "output_type": "execute_result"
    }
   ],
   "source": [
    "df_results['predictions'].value_counts()"
   ]
  },
  {
   "cell_type": "markdown",
   "metadata": {},
   "source": [
    "<h1>One Vs Rest Classifier with Multinominal NB</h1>"
   ]
  },
  {
   "cell_type": "code",
   "execution_count": 164,
   "metadata": {},
   "outputs": [],
   "source": [
    "NB_pipeline = Pipeline([\n",
    "                ('tfidf', TfidfVectorizer(stop_words=stop_words)),\n",
    "                ('clf', OneVsRestClassifier(MultinomialNB(\n",
    "                    fit_prior=True, class_prior=None))),\n",
    "            ])"
   ]
  },
  {
   "cell_type": "code",
   "execution_count": 168,
   "metadata": {
    "scrolled": true
   },
   "outputs": [
    {
     "name": "stdout",
     "output_type": "stream",
     "text": [
      "... Processing Single Malt Scotch\n",
      "Test accuracy is 0.8685897435897436\n",
      "... Processing Flavored Whiskey and Liqueurs\n",
      "Test accuracy is 0.9852564102564103\n",
      "... Processing Bourbon\n",
      "Test accuracy is 0.875\n",
      "... Processing  Blended Malt Scotch Whisky \n",
      "Test accuracy is 0.9653846153846154\n",
      "... Processing Blended Scotch Whisky\n",
      "Test accuracy is 0.948076923076923\n",
      "... Processing Blended Whiskey (Multi-country)\n",
      "Test accuracy is 0.9762820512820513\n",
      "... Processing  Single Malt Whisky (Multi-country)\n",
      "Test accuracy is 0.9673076923076923\n",
      "... Processing  Single Grain Whisky (Multi-country)\n",
      "Test accuracy is 0.9839743589743589\n",
      "... Processing Japan\n",
      "Test accuracy is 0.9794871794871794\n",
      "... Processing  Canada\n",
      "Test accuracy is 0.9576923076923077\n",
      "... Processing Irish\n",
      "Test accuracy is 0.9801282051282051\n",
      "... Processing Generic Whisky (Multi-country)\n",
      "Test accuracy is 0.9346153846153846\n",
      "... Processing Rye Whisky\n",
      "Test accuracy is 0.9717948717948718\n",
      "... Processing White Whisky\n",
      "Test accuracy is 0.9980769230769231\n",
      "... Processing Craft Whisky\n",
      "Test accuracy is 0.9134615384615384\n"
     ]
    }
   ],
   "source": [
    "result_df = pd.DataFrame(columns = ['style', 'score'], index = [i for i in range(len(categories))])\n",
    "predictions = []\n",
    "i = 0\n",
    "for category in categories:\n",
    "    print('... Processing {}'.format(category))\n",
    "    # train the model using X_dtm & y\n",
    "    NB_pipeline.fit(X_train, y_train[category])\n",
    "    # compute the testing accuracy\n",
    "    prediction = NB_pipeline.predict(X_test)\n",
    "    predictions.append(prediction)\n",
    "    print('Test accuracy is {}'.format(accuracy_score(y_test[category], prediction)))\n",
    "    result_df.iat[i, 0] = category\n",
    "    result_df.iat[i, 1] = accuracy_score(y_test[category], prediction)\n",
    "    i += 1"
   ]
  },
  {
   "cell_type": "code",
   "execution_count": 177,
   "metadata": {},
   "outputs": [],
   "source": [
    "df_results = pd.DataFrame(columns = ['X_test','y_test','predictions'])\n",
    "df_results['X_test'] = X_test\n",
    "df_results['y_test'] = y_test[' Blended Malt Scotch Whisky ']\n",
    "df_results['predictions'] = predictions[3]"
   ]
  },
  {
   "cell_type": "code",
   "execution_count": 178,
   "metadata": {},
   "outputs": [
    {
     "data": {
      "text/plain": [
       "0    1560\n",
       "Name: predictions, dtype: int64"
      ]
     },
     "execution_count": 178,
     "metadata": {},
     "output_type": "execute_result"
    }
   ],
   "source": [
    "df_results['predictions'].value_counts()"
   ]
  },
  {
   "cell_type": "code",
   "execution_count": 78,
   "metadata": {},
   "outputs": [
    {
     "data": {
      "text/html": [
       "<div>\n",
       "<style scoped>\n",
       "    .dataframe tbody tr th:only-of-type {\n",
       "        vertical-align: middle;\n",
       "    }\n",
       "\n",
       "    .dataframe tbody tr th {\n",
       "        vertical-align: top;\n",
       "    }\n",
       "\n",
       "    .dataframe thead th {\n",
       "        text-align: right;\n",
       "    }\n",
       "</style>\n",
       "<table border=\"1\" class=\"dataframe\">\n",
       "  <thead>\n",
       "    <tr style=\"text-align: right;\">\n",
       "      <th></th>\n",
       "      <th>style</th>\n",
       "      <th>score</th>\n",
       "    </tr>\n",
       "  </thead>\n",
       "  <tbody>\n",
       "    <tr>\n",
       "      <th>0</th>\n",
       "      <td>Single Malt Scotch</td>\n",
       "      <td>0.86859</td>\n",
       "    </tr>\n",
       "    <tr>\n",
       "      <th>1</th>\n",
       "      <td>Flavored Whiskey and Liqueurs</td>\n",
       "      <td>0.985256</td>\n",
       "    </tr>\n",
       "    <tr>\n",
       "      <th>2</th>\n",
       "      <td>Bourbon</td>\n",
       "      <td>0.875</td>\n",
       "    </tr>\n",
       "    <tr>\n",
       "      <th>3</th>\n",
       "      <td>Blended Malt Scotch Whisky</td>\n",
       "      <td>0.965385</td>\n",
       "    </tr>\n",
       "    <tr>\n",
       "      <th>4</th>\n",
       "      <td>Blended Scotch Whisky</td>\n",
       "      <td>0.948077</td>\n",
       "    </tr>\n",
       "    <tr>\n",
       "      <th>5</th>\n",
       "      <td>Blended Whiskey (Multi-country)</td>\n",
       "      <td>0.976282</td>\n",
       "    </tr>\n",
       "    <tr>\n",
       "      <th>6</th>\n",
       "      <td>Single Malt Whisky (Multi-country)</td>\n",
       "      <td>0.967308</td>\n",
       "    </tr>\n",
       "    <tr>\n",
       "      <th>7</th>\n",
       "      <td>Single Grain Whisky (Multi-country)</td>\n",
       "      <td>0.983974</td>\n",
       "    </tr>\n",
       "    <tr>\n",
       "      <th>8</th>\n",
       "      <td>Japan</td>\n",
       "      <td>0.979487</td>\n",
       "    </tr>\n",
       "    <tr>\n",
       "      <th>9</th>\n",
       "      <td>Canada</td>\n",
       "      <td>0.957692</td>\n",
       "    </tr>\n",
       "    <tr>\n",
       "      <th>10</th>\n",
       "      <td>Irish</td>\n",
       "      <td>0.980128</td>\n",
       "    </tr>\n",
       "    <tr>\n",
       "      <th>11</th>\n",
       "      <td>Generic Whisky (Multi-country)</td>\n",
       "      <td>0.934615</td>\n",
       "    </tr>\n",
       "    <tr>\n",
       "      <th>12</th>\n",
       "      <td>Rye Whisky</td>\n",
       "      <td>0.971795</td>\n",
       "    </tr>\n",
       "    <tr>\n",
       "      <th>13</th>\n",
       "      <td>White Whisky</td>\n",
       "      <td>0.998077</td>\n",
       "    </tr>\n",
       "    <tr>\n",
       "      <th>14</th>\n",
       "      <td>Craft Whisky</td>\n",
       "      <td>0.913462</td>\n",
       "    </tr>\n",
       "  </tbody>\n",
       "</table>\n",
       "</div>"
      ],
      "text/plain": [
       "                                   style     score\n",
       "0                     Single Malt Scotch   0.86859\n",
       "1          Flavored Whiskey and Liqueurs  0.985256\n",
       "2                                Bourbon     0.875\n",
       "3            Blended Malt Scotch Whisky   0.965385\n",
       "4                  Blended Scotch Whisky  0.948077\n",
       "5        Blended Whiskey (Multi-country)  0.976282\n",
       "6     Single Malt Whisky (Multi-country)  0.967308\n",
       "7    Single Grain Whisky (Multi-country)  0.983974\n",
       "8                                  Japan  0.979487\n",
       "9                                 Canada  0.957692\n",
       "10                                 Irish  0.980128\n",
       "11        Generic Whisky (Multi-country)  0.934615\n",
       "12                            Rye Whisky  0.971795\n",
       "13                          White Whisky  0.998077\n",
       "14                          Craft Whisky  0.913462"
      ]
     },
     "execution_count": 78,
     "metadata": {},
     "output_type": "execute_result"
    }
   ],
   "source": [
    "result_df"
   ]
  },
  {
   "cell_type": "markdown",
   "metadata": {},
   "source": [
    "<h1>Keras Classification Neural Network </h1>"
   ]
  },
  {
   "cell_type": "code",
   "execution_count": 2,
   "metadata": {},
   "outputs": [
    {
     "name": "stderr",
     "output_type": "stream",
     "text": [
      "Using TensorFlow backend.\n",
      "C:\\ProgramData\\Anaconda3\\lib\\site-packages\\tensorflow\\python\\framework\\dtypes.py:516: FutureWarning: Passing (type, 1) or '1type' as a synonym of type is deprecated; in a future version of numpy, it will be understood as (type, (1,)) / '(1,)type'.\n",
      "  _np_qint8 = np.dtype([(\"qint8\", np.int8, 1)])\n",
      "C:\\ProgramData\\Anaconda3\\lib\\site-packages\\tensorflow\\python\\framework\\dtypes.py:517: FutureWarning: Passing (type, 1) or '1type' as a synonym of type is deprecated; in a future version of numpy, it will be understood as (type, (1,)) / '(1,)type'.\n",
      "  _np_quint8 = np.dtype([(\"quint8\", np.uint8, 1)])\n",
      "C:\\ProgramData\\Anaconda3\\lib\\site-packages\\tensorflow\\python\\framework\\dtypes.py:518: FutureWarning: Passing (type, 1) or '1type' as a synonym of type is deprecated; in a future version of numpy, it will be understood as (type, (1,)) / '(1,)type'.\n",
      "  _np_qint16 = np.dtype([(\"qint16\", np.int16, 1)])\n",
      "C:\\ProgramData\\Anaconda3\\lib\\site-packages\\tensorflow\\python\\framework\\dtypes.py:519: FutureWarning: Passing (type, 1) or '1type' as a synonym of type is deprecated; in a future version of numpy, it will be understood as (type, (1,)) / '(1,)type'.\n",
      "  _np_quint16 = np.dtype([(\"quint16\", np.uint16, 1)])\n",
      "C:\\ProgramData\\Anaconda3\\lib\\site-packages\\tensorflow\\python\\framework\\dtypes.py:520: FutureWarning: Passing (type, 1) or '1type' as a synonym of type is deprecated; in a future version of numpy, it will be understood as (type, (1,)) / '(1,)type'.\n",
      "  _np_qint32 = np.dtype([(\"qint32\", np.int32, 1)])\n",
      "C:\\ProgramData\\Anaconda3\\lib\\site-packages\\tensorflow\\python\\framework\\dtypes.py:525: FutureWarning: Passing (type, 1) or '1type' as a synonym of type is deprecated; in a future version of numpy, it will be understood as (type, (1,)) / '(1,)type'.\n",
      "  np_resource = np.dtype([(\"resource\", np.ubyte, 1)])\n",
      "C:\\ProgramData\\Anaconda3\\lib\\site-packages\\tensorboard\\compat\\tensorflow_stub\\dtypes.py:541: FutureWarning: Passing (type, 1) or '1type' as a synonym of type is deprecated; in a future version of numpy, it will be understood as (type, (1,)) / '(1,)type'.\n",
      "  _np_qint8 = np.dtype([(\"qint8\", np.int8, 1)])\n",
      "C:\\ProgramData\\Anaconda3\\lib\\site-packages\\tensorboard\\compat\\tensorflow_stub\\dtypes.py:542: FutureWarning: Passing (type, 1) or '1type' as a synonym of type is deprecated; in a future version of numpy, it will be understood as (type, (1,)) / '(1,)type'.\n",
      "  _np_quint8 = np.dtype([(\"quint8\", np.uint8, 1)])\n",
      "C:\\ProgramData\\Anaconda3\\lib\\site-packages\\tensorboard\\compat\\tensorflow_stub\\dtypes.py:543: FutureWarning: Passing (type, 1) or '1type' as a synonym of type is deprecated; in a future version of numpy, it will be understood as (type, (1,)) / '(1,)type'.\n",
      "  _np_qint16 = np.dtype([(\"qint16\", np.int16, 1)])\n",
      "C:\\ProgramData\\Anaconda3\\lib\\site-packages\\tensorboard\\compat\\tensorflow_stub\\dtypes.py:544: FutureWarning: Passing (type, 1) or '1type' as a synonym of type is deprecated; in a future version of numpy, it will be understood as (type, (1,)) / '(1,)type'.\n",
      "  _np_quint16 = np.dtype([(\"quint16\", np.uint16, 1)])\n",
      "C:\\ProgramData\\Anaconda3\\lib\\site-packages\\tensorboard\\compat\\tensorflow_stub\\dtypes.py:545: FutureWarning: Passing (type, 1) or '1type' as a synonym of type is deprecated; in a future version of numpy, it will be understood as (type, (1,)) / '(1,)type'.\n",
      "  _np_qint32 = np.dtype([(\"qint32\", np.int32, 1)])\n",
      "C:\\ProgramData\\Anaconda3\\lib\\site-packages\\tensorboard\\compat\\tensorflow_stub\\dtypes.py:550: FutureWarning: Passing (type, 1) or '1type' as a synonym of type is deprecated; in a future version of numpy, it will be understood as (type, (1,)) / '(1,)type'.\n",
      "  np_resource = np.dtype([(\"resource\", np.ubyte, 1)])\n"
     ]
    }
   ],
   "source": [
    "from keras.models import Sequential\n",
    "from keras.layers import Dense\n",
    "from keras.layers import Embedding\n",
    "from keras.layers import SpatialDropout1D\n",
    "from keras.layers import LSTM\n",
    "from keras.callbacks import EarlyStopping\n",
    "from sklearn.feature_extraction.text import CountVectorizer\n",
    "import matplotlib.pyplot as plt"
   ]
  },
  {
   "cell_type": "code",
   "execution_count": 35,
   "metadata": {},
   "outputs": [
    {
     "data": {
      "text/plain": [
       "'magnificently powerful intense caramels dried peats elegant cigar smoke seeds scraped vanilla beans brand new pencils peppercorn coriander seeds star anise make deeply satisfying nosing experience silky caramels bountiful fruits ripe peach stewed apple orange pith pervasive smoke elements burnt tobacco abiding finish smoke dry spices banoffee pie sweetness close perfection editors choice'"
      ]
     },
     "execution_count": 35,
     "metadata": {},
     "output_type": "execute_result"
    }
   ],
   "source": [
    "df['descriptions'][0]"
   ]
  },
  {
   "cell_type": "code",
   "execution_count": 36,
   "metadata": {},
   "outputs": [],
   "source": [
    "vectorizer = CountVectorizer(stop_words=stop_words, max_features = 100)"
   ]
  },
  {
   "cell_type": "code",
   "execution_count": 37,
   "metadata": {},
   "outputs": [
    {
     "data": {
      "text/plain": [
       "CountVectorizer(analyzer='word', binary=False, decode_error='strict',\n",
       "        dtype=<class 'numpy.int64'>, encoding='utf-8', input='content',\n",
       "        lowercase=True, max_df=1.0, max_features=100, min_df=1,\n",
       "        ngram_range=(1, 1), preprocessor=None,\n",
       "        stop_words={'very', 't', 'over', 'his', 'how', 'by', 'the', 'again', \"should've\", 're', 'ma', 'your', 's', 'their', \"mustn't\", 'because', 'yourselves', 'our', 'couldn', 'of', 'having', 'ours', 'from', 'did', 'had', 'below', 'under', 'own', 'shan', 'some', 'so', 'if', 'through', 'don', 'was', 'been',...hy', \"you'd\", 'mightn', 'few', 'ain', 'them', 'there', 'each', 'yours', 'whom', 'll', 'this', 'and'},\n",
       "        strip_accents=None, token_pattern='(?u)\\\\b\\\\w\\\\w+\\\\b',\n",
       "        tokenizer=None, vocabulary=None)"
      ]
     },
     "execution_count": 37,
     "metadata": {},
     "output_type": "execute_result"
    }
   ],
   "source": [
    "vectorizer.fit(df['descriptions'])"
   ]
  },
  {
   "cell_type": "code",
   "execution_count": 38,
   "metadata": {},
   "outputs": [],
   "source": [
    "X = vectorizer.transform(df['descriptions'])"
   ]
  },
  {
   "cell_type": "code",
   "execution_count": 39,
   "metadata": {},
   "outputs": [
    {
     "data": {
      "text/plain": [
       "(4726, 100)"
      ]
     },
     "execution_count": 39,
     "metadata": {},
     "output_type": "execute_result"
    }
   ],
   "source": [
    "X.shape"
   ]
  },
  {
   "cell_type": "code",
   "execution_count": 112,
   "metadata": {},
   "outputs": [],
   "source": [
    "vectorizer = TfidfVectorizer(stop_words=stop_words, max_features=500, ngram_range=(1, 3))\n",
    "vectorizer.fit(df['descriptions'])\n",
    "X = vectorizer.transform(df['descriptions'])"
   ]
  },
  {
   "cell_type": "code",
   "execution_count": 113,
   "metadata": {},
   "outputs": [
    {
     "name": "stdout",
     "output_type": "stream",
     "text": [
      "(3308, 500) (3308, 15)\n",
      "(1418, 500) (1418, 15)\n"
     ]
    }
   ],
   "source": [
    "X_train, X_test, y_train, y_test = train_test_split(X,y, test_size = 0.30, random_state = 42)\n",
    "print(X_train.shape,y_train.shape)\n",
    "print(X_test.shape,y_test.shape)"
   ]
  },
  {
   "cell_type": "code",
   "execution_count": 114,
   "metadata": {},
   "outputs": [
    {
     "name": "stdout",
     "output_type": "stream",
     "text": [
      "_________________________________________________________________\n",
      "Layer (type)                 Output Shape              Param #   \n",
      "=================================================================\n",
      "dense_19 (Dense)             (None, 500)               250500    \n",
      "_________________________________________________________________\n",
      "dense_20 (Dense)             (None, 15)                7515      \n",
      "=================================================================\n",
      "Total params: 258,015\n",
      "Trainable params: 258,015\n",
      "Non-trainable params: 0\n",
      "_________________________________________________________________\n"
     ]
    }
   ],
   "source": [
    "model = Sequential()\n",
    "# model.add(Embedding(500, 100, input_length=X.shape[1]))\n",
    "# model.add(LSTM(100, return_sequences= True))\n",
    "# model.add(LSTM(100))\n",
    "model.add(Dense(500, input_dim = 500))\n",
    "# model.add(SpatialDropout1D(0.2))\n",
    "model.add(Dense(15, activation='softmax'))\n",
    "model.compile(loss='categorical_crossentropy', optimizer='adam', metrics=['accuracy'])\n",
    "\n",
    "epochs = 10\n",
    "batch_size = 128\n",
    "model.summary()"
   ]
  },
  {
   "cell_type": "code",
   "execution_count": 115,
   "metadata": {},
   "outputs": [
    {
     "name": "stdout",
     "output_type": "stream",
     "text": [
      "Train on 1984 samples, validate on 1324 samples\n",
      "Epoch 1/10\n",
      "1984/1984 [==============================] - 1s 626us/step - loss: 2.3799 - acc: 0.3609 - val_loss: 1.9888 - val_acc: 0.4079\n",
      "Epoch 2/10\n",
      "1984/1984 [==============================] - 0s 64us/step - loss: 1.8810 - acc: 0.4047 - val_loss: 1.7701 - val_acc: 0.4366\n",
      "Epoch 3/10\n",
      "1984/1984 [==============================] - 0s 58us/step - loss: 1.6600 - acc: 0.5076 - val_loss: 1.6015 - val_acc: 0.5408\n",
      "Epoch 4/10\n",
      "1984/1984 [==============================] - 0s 58us/step - loss: 1.4643 - acc: 0.5731 - val_loss: 1.4603 - val_acc: 0.5740\n",
      "Epoch 5/10\n",
      "1984/1984 [==============================] - 0s 56us/step - loss: 1.2940 - acc: 0.6164 - val_loss: 1.3508 - val_acc: 0.6057\n",
      "Epoch 6/10\n",
      "1984/1984 [==============================] - 0s 56us/step - loss: 1.1505 - acc: 0.6578 - val_loss: 1.2680 - val_acc: 0.6224\n",
      "Epoch 7/10\n",
      "1984/1984 [==============================] - 0s 56us/step - loss: 1.0281 - acc: 0.6930 - val_loss: 1.2084 - val_acc: 0.6397\n",
      "Epoch 8/10\n",
      "1984/1984 [==============================] - 0s 56us/step - loss: 0.9248 - acc: 0.7278 - val_loss: 1.1646 - val_acc: 0.6518\n",
      "Epoch 9/10\n",
      "1984/1984 [==============================] - 0s 67us/step - loss: 0.8359 - acc: 0.7611 - val_loss: 1.1363 - val_acc: 0.6594\n",
      "Epoch 10/10\n",
      "1984/1984 [==============================] - 0s 75us/step - loss: 0.7566 - acc: 0.7883 - val_loss: 1.1178 - val_acc: 0.6579\n"
     ]
    }
   ],
   "source": [
    "history = model.fit(X_train, y_train, epochs=epochs, batch_size=batch_size, validation_split=0.4,\n",
    "                    callbacks=[EarlyStopping(monitor='val_loss', patience=3, min_delta=0.0001)], \n",
    "                    verbose = 1)#, validation_data=(X_test, y_test))"
   ]
  },
  {
   "cell_type": "code",
   "execution_count": 116,
   "metadata": {},
   "outputs": [
    {
     "name": "stdout",
     "output_type": "stream",
     "text": [
      "1418/1418 [==============================] - 0s 59us/step\n",
      "Test set\n",
      "  Loss: 1.098\n",
      "  Accuracy: 0.673\n"
     ]
    }
   ],
   "source": [
    "accr = model.evaluate(X_test,y_test)\n",
    "print('Test set\\n  Loss: {:0.3f}\\n  Accuracy: {:0.3f}'.format(accr[0],accr[1]))"
   ]
  },
  {
   "cell_type": "code",
   "execution_count": 117,
   "metadata": {},
   "outputs": [
    {
     "name": "stdout",
     "output_type": "stream",
     "text": [
      "4726/4726 [==============================] - 0s 41us/step\n",
      "Test set\n",
      "  Loss: 0.939\n",
      "  Accuracy: 0.725\n"
     ]
    }
   ],
   "source": [
    "accr = model.evaluate(X,y)\n",
    "print('Test set\\n  Loss: {:0.3f}\\n  Accuracy: {:0.3f}'.format(accr[0],accr[1]))"
   ]
  },
  {
   "cell_type": "code",
   "execution_count": 118,
   "metadata": {},
   "outputs": [
    {
     "data": {
      "image/png": "[encoded data removed]",
      "text/plain": [
       "<Figure size 432x288 with 1 Axes>"
      ]
     },
     "metadata": {
      "needs_background": "light"
     },
     "output_type": "display_data"
    }
   ],
   "source": [
    "plt.title('Loss')\n",
    "plt.plot(history.history['loss'], label='train')\n",
    "plt.plot(history.history['val_loss'], label='test')\n",
    "plt.legend()\n",
    "plt.show();"
   ]
  },
  {
   "cell_type": "code",
   "execution_count": 119,
   "metadata": {},
   "outputs": [
    {
     "data": {
      "image/png": "[encoded data removed]",
      "text/plain": [
       "<Figure size 432x288 with 1 Axes>"
      ]
     },
     "metadata": {
      "needs_background": "light"
     },
     "output_type": "display_data"
    }
   ],
   "source": [
    "plt.title('Accuracy')\n",
    "plt.plot(history.history['acc'], label='train')\n",
    "plt.plot(history.history['val_acc'], label='test')\n",
    "plt.legend()\n",
    "plt.show();"
   ]
  },
  {
   "cell_type": "code",
   "execution_count": 131,
   "metadata": {},
   "outputs": [
    {
     "data": {
      "text/plain": [
       "array([[5.5189780e-03, 6.4432169e-03, 1.4232084e-02, ..., 4.6066786e-03,\n",
       "        5.6629819e-03, 9.2976661e-03],\n",
       "       [8.4256625e-01, 1.1353976e-03, 3.5400346e-02, ..., 7.4204430e-03,\n",
       "        3.6597939e-04, 6.4182156e-03],\n",
       "       [2.6546299e-01, 5.2418066e-03, 2.3545597e-03, ..., 2.4265852e-03,\n",
       "        3.8507592e-03, 1.3131023e-02],\n",
       "       ...,\n",
       "       [1.0128297e-04, 8.4531806e-02, 3.9162565e-02, ..., 3.3014540e-02,\n",
       "        2.6152864e-02, 7.0181561e-01],\n",
       "       [2.4300538e-02, 2.9589444e-02, 4.1269410e-02, ..., 7.5692974e-02,\n",
       "        2.6047001e-02, 6.6582449e-02],\n",
       "       [4.7539640e-03, 6.7689680e-02, 4.4876050e-02, ..., 1.6644315e-01,\n",
       "        3.0317433e-02, 2.9821131e-01]], dtype=float32)"
      ]
     },
     "execution_count": 131,
     "metadata": {},
     "output_type": "execute_result"
    }
   ],
   "source": [
    "model.predict(X)"
   ]
  },
  {
   "cell_type": "code",
   "execution_count": 130,
   "metadata": {},
   "outputs": [
    {
     "data": {
      "text/plain": [
       "array([0, 0, 0, 0, 1, 0, 0, 0, 0, 0, 0, 0, 0, 0, 0], dtype=int64)"
      ]
     },
     "execution_count": 130,
     "metadata": {},
     "output_type": "execute_result"
    }
   ],
   "source": [
    "y.values[0]"
   ]
  },
  {
   "cell_type": "code",
   "execution_count": null,
   "metadata": {},
   "outputs": [],
   "source": []
  }
 ],
 "metadata": {
  "kernelspec": {
   "display_name": "Python 3",
   "language": "python",
   "name": "python3"
  },
  "language_info": {
   "codemirror_mode": {
    "name": "ipython",
    "version": 3
   },
   "file_extension": ".py",
   "mimetype": "text/x-python",
   "name": "python",
   "nbconvert_exporter": "python",
   "pygments_lexer": "ipython3",
   "version": "3.7.1"
  }
 },
 "nbformat": 4,
 "nbformat_minor": 2
}

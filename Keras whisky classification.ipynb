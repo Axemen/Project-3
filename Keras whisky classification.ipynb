{
 "cells": [
  {
   "cell_type": "code",
   "execution_count": 62,
   "metadata": {},
   "outputs": [],
   "source": [
    "import re\n",
    "import pandas as pd\n",
    "import numpy as np\n",
    "from bs4 import BeautifulSoup\n",
    "from keras.models import Sequential\n",
    "from keras.layers import Dense\n",
    "from sklearn.model_selection import train_test_split\n",
    "from sklearn.feature_extraction.text import TfidfVectorizer\n",
    "from sklearn.naive_bayes import MultinomialNB\n",
    "from sklearn.metrics import accuracy_score\n",
    "from sklearn.multiclass import OneVsRestClassifier\n",
    "from nltk.corpus import stopwords\n",
    "stop_words = set(stopwords.words('english'))\n",
    "from sklearn.svm import LinearSVC\n",
    "from sklearn.linear_model import LogisticRegression\n",
    "from sklearn.pipeline import Pipeline"
   ]
  },
  {
   "cell_type": "code",
   "execution_count": 33,
   "metadata": {},
   "outputs": [],
   "source": [
    "df = pd.read_csv('clean-data/Whiskey_data/Whiskey_Advocate_All_scraped_KHupdate-23 Jul (Team Style Defined) with descriptions.csv')"
   ]
  },
  {
   "cell_type": "code",
   "execution_count": 35,
   "metadata": {},
   "outputs": [
    {
     "data": {
      "text/plain": [
       "Index(['Unnamed: 0', 'Index', 'Maker', 'Year Distrilled', 'age in cast', 'ABV',\n",
       "       'Single Malt Scotch', 'Flavored Whiskey and Liqueurs', 'Bourbon',\n",
       "       ' Blended Malt Scotch Whisky ', 'Blended Scotch Whisky',\n",
       "       'Blended Whiskey (Multi-country)',\n",
       "       ' Single Malt Whisky (Multi-country)',\n",
       "       ' Single Grain Whisky (Multi-country)', 'Japan', ' Canada', 'Irish',\n",
       "       'Generic Whisky (Multi-country)', 'Rye Whisky', 'White Whisky',\n",
       "       'Craft Whisky', 'SUM', 'Review Score (Points)', ' price ',\n",
       "       'Original Style', 'country', 'descriptions'],\n",
       "      dtype='object')"
      ]
     },
     "execution_count": 35,
     "metadata": {},
     "output_type": "execute_result"
    }
   ],
   "source": [
    "df.columns"
   ]
  },
  {
   "cell_type": "code",
   "execution_count": 38,
   "metadata": {},
   "outputs": [],
   "source": [
    "df = df[['Single Malt Scotch', 'Flavored Whiskey and Liqueurs', 'Bourbon',\n",
    "       ' Blended Malt Scotch Whisky ', 'Blended Scotch Whisky',\n",
    "       'Blended Whiskey (Multi-country)',\n",
    "       ' Single Malt Whisky (Multi-country)',\n",
    "       ' Single Grain Whisky (Multi-country)', 'Japan', ' Canada', 'Irish',\n",
    "       'Generic Whisky (Multi-country)', 'Rye Whisky', 'White Whisky','Craft Whisky', 'descriptions']]"
   ]
  },
  {
   "cell_type": "code",
   "execution_count": 60,
   "metadata": {},
   "outputs": [],
   "source": [
    "REPLACE_BY_SPACE_RE = re.compile('[/(){}\\[\\]\\|@,;]')\n",
    "BAD_SYMBOLS_RE = re.compile('[^0-9a-z #+_]')\n",
    "STOPWORDS = set(stopwords.words('english'))\n",
    "\n",
    "def clean_text(text):\n",
    "    \"\"\"\n",
    "        text: a string\n",
    "        \n",
    "        return: modified initial string\n",
    "    \"\"\"\n",
    "    text = BeautifulSoup(text, \"lxml\").text # HTML decoding\n",
    "    text = text.lower() # lowercase text\n",
    "    text = REPLACE_BY_SPACE_RE.sub(' ', text) # replace REPLACE_BY_SPACE_RE symbols by space in text\n",
    "    text = BAD_SYMBOLS_RE.sub('', text) # delete symbols which are in BAD_SYMBOLS_RE from text\n",
    "    text = ' '.join(word for word in text.split() if word not in STOPWORDS) # delete stopwors from text\n",
    "    return text\n",
    "    "
   ]
  },
  {
   "cell_type": "code",
   "execution_count": 63,
   "metadata": {},
   "outputs": [
    {
     "name": "stderr",
     "output_type": "stream",
     "text": [
      "C:\\ProgramData\\Anaconda3\\lib\\site-packages\\ipykernel_launcher.py:1: SettingWithCopyWarning: \n",
      "A value is trying to be set on a copy of a slice from a DataFrame.\n",
      "Try using .loc[row_indexer,col_indexer] = value instead\n",
      "\n",
      "See the caveats in the documentation: http://pandas.pydata.org/pandas-docs/stable/indexing.html#indexing-view-versus-copy\n",
      "  \"\"\"Entry point for launching an IPython kernel.\n"
     ]
    }
   ],
   "source": [
    "df['descriptions'] = df['descriptions'].apply(clean_text)"
   ]
  },
  {
   "cell_type": "code",
   "execution_count": 50,
   "metadata": {},
   "outputs": [
    {
     "data": {
      "text/plain": [
       "['Single Malt Scotch',\n",
       " 'Flavored Whiskey and Liqueurs',\n",
       " 'Bourbon',\n",
       " ' Blended Malt Scotch Whisky ',\n",
       " 'Blended Scotch Whisky',\n",
       " 'Blended Whiskey (Multi-country)',\n",
       " ' Single Malt Whisky (Multi-country)',\n",
       " ' Single Grain Whisky (Multi-country)',\n",
       " 'Japan',\n",
       " ' Canada',\n",
       " 'Irish',\n",
       " 'Generic Whisky (Multi-country)',\n",
       " 'Rye Whisky',\n",
       " 'White Whisky',\n",
       " 'Craft Whisky']"
      ]
     },
     "execution_count": 50,
     "metadata": {},
     "output_type": "execute_result"
    }
   ],
   "source": [
    "categories = list(df.columns)\n",
    "categories.pop(-1)\n",
    "categories"
   ]
  },
  {
   "cell_type": "code",
   "execution_count": 65,
   "metadata": {},
   "outputs": [],
   "source": [
    "y = df[categories]\n",
    "X = df['descriptions']"
   ]
  },
  {
   "cell_type": "code",
   "execution_count": 66,
   "metadata": {},
   "outputs": [
    {
     "name": "stdout",
     "output_type": "stream",
     "text": [
      "(3166,)\n",
      "(1560,)\n"
     ]
    }
   ],
   "source": [
    "X_train, X_test, y_train, y_test = train_test_split(X,y, random_state=42, test_size=0.33, shuffle=True)\n",
    "\n",
    "print(X_train.shape)\n",
    "print(X_test.shape)"
   ]
  },
  {
   "cell_type": "code",
   "execution_count": 68,
   "metadata": {},
   "outputs": [],
   "source": [
    "NB_pipeline = Pipeline([\n",
    "                ('tfidf', TfidfVectorizer(stop_words=stop_words)),\n",
    "                ('clf', OneVsRestClassifier(MultinomialNB(\n",
    "                    fit_prior=True, class_prior=None))),\n",
    "            ])"
   ]
  },
  {
   "cell_type": "code",
   "execution_count": 77,
   "metadata": {
    "scrolled": true
   },
   "outputs": [
    {
     "name": "stdout",
     "output_type": "stream",
     "text": [
      "... Processing Single Malt Scotch\n",
      "Test accuracy is 0.8685897435897436\n",
      "... Processing Flavored Whiskey and Liqueurs\n",
      "Test accuracy is 0.9852564102564103\n",
      "... Processing Bourbon\n",
      "Test accuracy is 0.875\n",
      "... Processing  Blended Malt Scotch Whisky \n",
      "Test accuracy is 0.9653846153846154\n",
      "... Processing Blended Scotch Whisky\n",
      "Test accuracy is 0.948076923076923\n",
      "... Processing Blended Whiskey (Multi-country)\n",
      "Test accuracy is 0.9762820512820513\n",
      "... Processing  Single Malt Whisky (Multi-country)\n",
      "Test accuracy is 0.9673076923076923\n",
      "... Processing  Single Grain Whisky (Multi-country)\n",
      "Test accuracy is 0.9839743589743589\n",
      "... Processing Japan\n",
      "Test accuracy is 0.9794871794871794\n",
      "... Processing  Canada\n",
      "Test accuracy is 0.9576923076923077\n",
      "... Processing Irish\n",
      "Test accuracy is 0.9801282051282051\n",
      "... Processing Generic Whisky (Multi-country)\n",
      "Test accuracy is 0.9346153846153846\n",
      "... Processing Rye Whisky\n",
      "Test accuracy is 0.9717948717948718\n",
      "... Processing White Whisky\n",
      "Test accuracy is 0.9980769230769231\n",
      "... Processing Craft Whisky\n",
      "Test accuracy is 0.9134615384615384\n"
     ]
    }
   ],
   "source": [
    "result_df = pd.DataFrame(columns = ['style', 'score'], index = [i for i in range(len(categories))])\n",
    "i = 0\n",
    "for category in categories:\n",
    "    print('... Processing {}'.format(category))\n",
    "    # train the model using X_dtm & y\n",
    "    NB_pipeline.fit(X_train, train[category])\n",
    "    # compute the testing accuracy\n",
    "    prediction = NB_pipeline.predict(X_test)\n",
    "    print('Test accuracy is {}'.format(accuracy_score(test[category], prediction)))\n",
    "    result_df.iat[i, 0] = category\n",
    "    result_df.iat[i, 1] = accuracy_score(test[category], prediction)\n",
    "    i += 1"
   ]
  },
  {
   "cell_type": "code",
   "execution_count": 78,
   "metadata": {},
   "outputs": [
    {
     "data": {
      "text/html": [
       "<div>\n",
       "<style scoped>\n",
       "    .dataframe tbody tr th:only-of-type {\n",
       "        vertical-align: middle;\n",
       "    }\n",
       "\n",
       "    .dataframe tbody tr th {\n",
       "        vertical-align: top;\n",
       "    }\n",
       "\n",
       "    .dataframe thead th {\n",
       "        text-align: right;\n",
       "    }\n",
       "</style>\n",
       "<table border=\"1\" class=\"dataframe\">\n",
       "  <thead>\n",
       "    <tr style=\"text-align: right;\">\n",
       "      <th></th>\n",
       "      <th>style</th>\n",
       "      <th>score</th>\n",
       "    </tr>\n",
       "  </thead>\n",
       "  <tbody>\n",
       "    <tr>\n",
       "      <th>0</th>\n",
       "      <td>Single Malt Scotch</td>\n",
       "      <td>0.86859</td>\n",
       "    </tr>\n",
       "    <tr>\n",
       "      <th>1</th>\n",
       "      <td>Flavored Whiskey and Liqueurs</td>\n",
       "      <td>0.985256</td>\n",
       "    </tr>\n",
       "    <tr>\n",
       "      <th>2</th>\n",
       "      <td>Bourbon</td>\n",
       "      <td>0.875</td>\n",
       "    </tr>\n",
       "    <tr>\n",
       "      <th>3</th>\n",
       "      <td>Blended Malt Scotch Whisky</td>\n",
       "      <td>0.965385</td>\n",
       "    </tr>\n",
       "    <tr>\n",
       "      <th>4</th>\n",
       "      <td>Blended Scotch Whisky</td>\n",
       "      <td>0.948077</td>\n",
       "    </tr>\n",
       "    <tr>\n",
       "      <th>5</th>\n",
       "      <td>Blended Whiskey (Multi-country)</td>\n",
       "      <td>0.976282</td>\n",
       "    </tr>\n",
       "    <tr>\n",
       "      <th>6</th>\n",
       "      <td>Single Malt Whisky (Multi-country)</td>\n",
       "      <td>0.967308</td>\n",
       "    </tr>\n",
       "    <tr>\n",
       "      <th>7</th>\n",
       "      <td>Single Grain Whisky (Multi-country)</td>\n",
       "      <td>0.983974</td>\n",
       "    </tr>\n",
       "    <tr>\n",
       "      <th>8</th>\n",
       "      <td>Japan</td>\n",
       "      <td>0.979487</td>\n",
       "    </tr>\n",
       "    <tr>\n",
       "      <th>9</th>\n",
       "      <td>Canada</td>\n",
       "      <td>0.957692</td>\n",
       "    </tr>\n",
       "    <tr>\n",
       "      <th>10</th>\n",
       "      <td>Irish</td>\n",
       "      <td>0.980128</td>\n",
       "    </tr>\n",
       "    <tr>\n",
       "      <th>11</th>\n",
       "      <td>Generic Whisky (Multi-country)</td>\n",
       "      <td>0.934615</td>\n",
       "    </tr>\n",
       "    <tr>\n",
       "      <th>12</th>\n",
       "      <td>Rye Whisky</td>\n",
       "      <td>0.971795</td>\n",
       "    </tr>\n",
       "    <tr>\n",
       "      <th>13</th>\n",
       "      <td>White Whisky</td>\n",
       "      <td>0.998077</td>\n",
       "    </tr>\n",
       "    <tr>\n",
       "      <th>14</th>\n",
       "      <td>Craft Whisky</td>\n",
       "      <td>0.913462</td>\n",
       "    </tr>\n",
       "  </tbody>\n",
       "</table>\n",
       "</div>"
      ],
      "text/plain": [
       "                                   style     score\n",
       "0                     Single Malt Scotch   0.86859\n",
       "1          Flavored Whiskey and Liqueurs  0.985256\n",
       "2                                Bourbon     0.875\n",
       "3            Blended Malt Scotch Whisky   0.965385\n",
       "4                  Blended Scotch Whisky  0.948077\n",
       "5        Blended Whiskey (Multi-country)  0.976282\n",
       "6     Single Malt Whisky (Multi-country)  0.967308\n",
       "7    Single Grain Whisky (Multi-country)  0.983974\n",
       "8                                  Japan  0.979487\n",
       "9                                 Canada  0.957692\n",
       "10                                 Irish  0.980128\n",
       "11        Generic Whisky (Multi-country)  0.934615\n",
       "12                            Rye Whisky  0.971795\n",
       "13                          White Whisky  0.998077\n",
       "14                          Craft Whisky  0.913462"
      ]
     },
     "execution_count": 78,
     "metadata": {},
     "output_type": "execute_result"
    }
   ],
   "source": [
    "result_df"
   ]
  },
  {
   "cell_type": "code",
   "execution_count": null,
   "metadata": {},
   "outputs": [],
   "source": []
  }
 ],
 "metadata": {
  "kernelspec": {
   "display_name": "Python 3",
   "language": "python",
   "name": "python3"
  },
  "language_info": {
   "codemirror_mode": {
    "name": "ipython",
    "version": 3
   },
   "file_extension": ".py",
   "mimetype": "text/x-python",
   "name": "python",
   "nbconvert_exporter": "python",
   "pygments_lexer": "ipython3",
   "version": "3.7.1"
  }
 },
 "nbformat": 4,
 "nbformat_minor": 2
}

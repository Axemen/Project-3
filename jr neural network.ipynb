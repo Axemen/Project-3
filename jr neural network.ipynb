{
 "cells": [
  {
   "cell_type": "code",
   "execution_count": 1,
   "metadata": {},
   "outputs": [],
   "source": [
    "import numpy as np\n",
    "import pandas as pd\n",
    "from sklearn.model_selection import train_test_split\n",
    "from sklearn.metrics import accuracy_score\n",
    "from nltk.corpus import stopwords\n",
    "stop_words = set(stopwords.words('english'))\n",
    "from sklearn.linear_model import LogisticRegression\n",
    "from sklearn.pipeline import Pipeline"
   ]
  },
  {
   "cell_type": "code",
   "execution_count": 2,
   "metadata": {},
   "outputs": [],
   "source": [
    "df = pd.read_csv('clean-data/Whiskey_data/scottish_whisky_stats.csv')"
   ]
  },
  {
   "cell_type": "code",
   "execution_count": 3,
   "metadata": {},
   "outputs": [
    {
     "data": {
      "text/html": [
       "<div>\n",
       "<style scoped>\n",
       "    .dataframe tbody tr th:only-of-type {\n",
       "        vertical-align: middle;\n",
       "    }\n",
       "\n",
       "    .dataframe tbody tr th {\n",
       "        vertical-align: top;\n",
       "    }\n",
       "\n",
       "    .dataframe thead th {\n",
       "        text-align: right;\n",
       "    }\n",
       "</style>\n",
       "<table border=\"1\" class=\"dataframe\">\n",
       "  <thead>\n",
       "    <tr style=\"text-align: right;\">\n",
       "      <th></th>\n",
       "      <th>name</th>\n",
       "      <th>age</th>\n",
       "      <th>vintage</th>\n",
       "      <th>vol</th>\n",
       "      <th>ml</th>\n",
       "      <th>price</th>\n",
       "    </tr>\n",
       "  </thead>\n",
       "  <tbody>\n",
       "    <tr>\n",
       "      <th>0</th>\n",
       "      <td>Glen Scotia, Acorn b.2010One of 165 Bottles</td>\n",
       "      <td>33.0</td>\n",
       "      <td>1977</td>\n",
       "      <td>54.6</td>\n",
       "      <td>700</td>\n",
       "      <td>265</td>\n",
       "    </tr>\n",
       "    <tr>\n",
       "      <th>1</th>\n",
       "      <td>Glen Scotia, Adelphi b.2005(Cask 1071)</td>\n",
       "      <td>14.0</td>\n",
       "      <td>1991</td>\n",
       "      <td>61.6</td>\n",
       "      <td>700</td>\n",
       "      <td>87</td>\n",
       "    </tr>\n",
       "    <tr>\n",
       "      <th>2</th>\n",
       "      <td>Glen Scotia, Braunstein (150th Anniversary ) b...</td>\n",
       "      <td>18.0</td>\n",
       "      <td>1992</td>\n",
       "      <td>60.2</td>\n",
       "      <td>700</td>\n",
       "      <td>102</td>\n",
       "    </tr>\n",
       "    <tr>\n",
       "      <th>3</th>\n",
       "      <td>Glen Scotia, Cadenhead b.2008One of 310 Bottles</td>\n",
       "      <td>9.0</td>\n",
       "      <td>1999</td>\n",
       "      <td>59.5</td>\n",
       "      <td>700</td>\n",
       "      <td>56</td>\n",
       "    </tr>\n",
       "    <tr>\n",
       "      <th>4</th>\n",
       "      <td>Glen Scotia, CadenheadAuthentic Collection b.2...</td>\n",
       "      <td>15.0</td>\n",
       "      <td>1991</td>\n",
       "      <td>57.8</td>\n",
       "      <td>700</td>\n",
       "      <td>137</td>\n",
       "    </tr>\n",
       "  </tbody>\n",
       "</table>\n",
       "</div>"
      ],
      "text/plain": [
       "                                                name   age  vintage   vol  \\\n",
       "0        Glen Scotia, Acorn b.2010One of 165 Bottles  33.0     1977  54.6   \n",
       "1             Glen Scotia, Adelphi b.2005(Cask 1071)  14.0     1991  61.6   \n",
       "2  Glen Scotia, Braunstein (150th Anniversary ) b...  18.0     1992  60.2   \n",
       "3    Glen Scotia, Cadenhead b.2008One of 310 Bottles   9.0     1999  59.5   \n",
       "4  Glen Scotia, CadenheadAuthentic Collection b.2...  15.0     1991  57.8   \n",
       "\n",
       "    ml  price  \n",
       "0  700    265  \n",
       "1  700     87  \n",
       "2  700    102  \n",
       "3  700     56  \n",
       "4  700    137  "
      ]
     },
     "execution_count": 3,
     "metadata": {},
     "output_type": "execute_result"
    }
   ],
   "source": [
    "df.head()"
   ]
  },
  {
   "cell_type": "code",
   "execution_count": 5,
   "metadata": {},
   "outputs": [],
   "source": [
    "X = df[['vintage', 'vol']]\n",
    "y = df['price']"
   ]
  },
  {
   "cell_type": "code",
   "execution_count": 6,
   "metadata": {},
   "outputs": [],
   "source": [
    "X_train, X_test, y_train, y_test = train_test_split(X, y, random_state = 42, test_size = .8)"
   ]
  },
  {
   "cell_type": "markdown",
   "metadata": {},
   "source": [
    "<h1> Basic Linear Regression </h1>"
   ]
  },
  {
   "cell_type": "code",
   "execution_count": 10,
   "metadata": {},
   "outputs": [
    {
     "name": "stdout",
     "output_type": "stream",
     "text": [
      "training score: 0.12051492486562243\n",
      "0.12226340300981009\n"
     ]
    }
   ],
   "source": [
    "model_lin = LinearRegression()\n",
    "model_lin.fit(X_train, y_train)\n",
    "print(f\"training score: {model_lin.score(X_train, y_train)}\")\n",
    "print(f'{model_lin.score(X_test, y_test)}')"
   ]
  },
  {
   "cell_type": "markdown",
   "metadata": {},
   "source": [
    "<h1>Neural Network Keras Regression</h1>"
   ]
  },
  {
   "cell_type": "code",
   "execution_count": 51,
   "metadata": {
    "scrolled": true
   },
   "outputs": [],
   "source": [
    "from keras.models import Sequential\n",
    "from keras.layers import Dense\n",
    "import seaborn as sns\n",
    "from keras import losses\n",
    "from keras import optimizers\n",
    "import matplotlib.pyplot as plt"
   ]
  },
  {
   "cell_type": "code",
   "execution_count": 35,
   "metadata": {},
   "outputs": [
    {
     "data": {
      "text/plain": [
       "<module 'keras.optimizers' from 'C:\\\\ProgramData\\\\Anaconda3\\\\lib\\\\site-packages\\\\keras\\\\optimizers.py'>"
      ]
     },
     "execution_count": 35,
     "metadata": {},
     "output_type": "execute_result"
    }
   ],
   "source": [
    "optimizers"
   ]
  },
  {
   "cell_type": "code",
   "execution_count": 74,
   "metadata": {},
   "outputs": [
    {
     "name": "stdout",
     "output_type": "stream",
     "text": [
      "_________________________________________________________________\n",
      "Layer (type)                 Output Shape              Param #   \n",
      "=================================================================\n",
      "dense_29 (Dense)             (None, 10)                30        \n",
      "_________________________________________________________________\n",
      "dense_30 (Dense)             (None, 5)                 55        \n",
      "_________________________________________________________________\n",
      "dense_31 (Dense)             (None, 1)                 6         \n",
      "=================================================================\n",
      "Total params: 91\n",
      "Trainable params: 91\n",
      "Non-trainable params: 0\n",
      "_________________________________________________________________\n"
     ]
    }
   ],
   "source": [
    "model = Sequential()\n",
    "model.add(Dense(10, input_dim= 2, activation = 'relu'))\n",
    "model.add(Dense(5, activation = 'linear'))\n",
    "model.add(Dense(1, activation = 'linear'))\n",
    "model.summary()"
   ]
  },
  {
   "cell_type": "code",
   "execution_count": 75,
   "metadata": {},
   "outputs": [],
   "source": [
    "# sgd = optimizers.SGD(lr=0.01, decay=1e-6, momentum=0.9, nesterov=True)\n",
    "model.compile(loss='mae', optimizer='adam', metrics=['mse','mae'])"
   ]
  },
  {
   "cell_type": "code",
   "execution_count": 76,
   "metadata": {
    "scrolled": true
   },
   "outputs": [
    {
     "name": "stdout",
     "output_type": "stream",
     "text": [
      "Epoch 1/100\n",
      "4763/4763 [==============================] - 1s 114us/step - loss: 775.1604 - mean_squared_error: 2482441.0064 - mean_absolute_error: 775.1604\n",
      "Epoch 2/100\n",
      "4763/4763 [==============================] - 0s 21us/step - loss: 349.9695 - mean_squared_error: 1746572.9092 - mean_absolute_error: 349.9695\n",
      "Epoch 3/100\n",
      "4763/4763 [==============================] - 0s 21us/step - loss: 349.8766 - mean_squared_error: 1747689.9090 - mean_absolute_error: 349.8766\n",
      "Epoch 4/100\n",
      "4763/4763 [==============================] - 0s 22us/step - loss: 350.1489 - mean_squared_error: 1745264.4148 - mean_absolute_error: 350.1489\n",
      "Epoch 5/100\n",
      "4763/4763 [==============================] - 0s 21us/step - loss: 350.1015 - mean_squared_error: 1746114.9958 - mean_absolute_error: 350.1015\n",
      "Epoch 6/100\n",
      "4763/4763 [==============================] - 0s 21us/step - loss: 350.4256 - mean_squared_error: 1746724.4035 - mean_absolute_error: 350.4256\n",
      "Epoch 7/100\n",
      "4763/4763 [==============================] - 0s 21us/step - loss: 350.4909 - mean_squared_error: 1745483.2465 - mean_absolute_error: 350.4909\n",
      "Epoch 8/100\n",
      "4763/4763 [==============================] - 0s 21us/step - loss: 350.5738 - mean_squared_error: 1746260.0609 - mean_absolute_error: 350.5738\n",
      "Epoch 9/100\n",
      "4763/4763 [==============================] - 0s 21us/step - loss: 350.5584 - mean_squared_error: 1747736.6704 - mean_absolute_error: 350.5584\n",
      "Epoch 10/100\n",
      "4763/4763 [==============================] - 0s 21us/step - loss: 350.1785 - mean_squared_error: 1745918.4071 - mean_absolute_error: 350.1785\n",
      "Epoch 11/100\n",
      "4763/4763 [==============================] - 0s 21us/step - loss: 350.3150 - mean_squared_error: 1746017.4841 - mean_absolute_error: 350.3150\n",
      "Epoch 12/100\n",
      "4763/4763 [==============================] - 0s 21us/step - loss: 350.4425 - mean_squared_error: 1748408.1900 - mean_absolute_error: 350.4425\n",
      "Epoch 13/100\n",
      "4763/4763 [==============================] - 0s 21us/step - loss: 350.4209 - mean_squared_error: 1746355.6516 - mean_absolute_error: 350.4209\n",
      "Epoch 14/100\n",
      "4763/4763 [==============================] - 0s 22us/step - loss: 350.1321 - mean_squared_error: 1746920.4083 - mean_absolute_error: 350.1321\n",
      "Epoch 15/100\n",
      "4763/4763 [==============================] - 0s 19us/step - loss: 350.5815 - mean_squared_error: 1745334.1963 - mean_absolute_error: 350.5815\n",
      "Epoch 16/100\n",
      "4763/4763 [==============================] - 0s 18us/step - loss: 350.3965 - mean_squared_error: 1745353.3012 - mean_absolute_error: 350.3965\n",
      "Epoch 17/100\n",
      "4763/4763 [==============================] - 0s 18us/step - loss: 350.2735 - mean_squared_error: 1746352.0465 - mean_absolute_error: 350.2735\n",
      "Epoch 18/100\n",
      "4763/4763 [==============================] - 0s 19us/step - loss: 350.4189 - mean_squared_error: 1745496.4943 - mean_absolute_error: 350.4189\n",
      "Epoch 19/100\n",
      "4763/4763 [==============================] - 0s 18us/step - loss: 350.0617 - mean_squared_error: 1747002.6690 - mean_absolute_error: 350.0617\n",
      "Epoch 20/100\n",
      "4763/4763 [==============================] - 0s 18us/step - loss: 350.3011 - mean_squared_error: 1746376.6523 - mean_absolute_error: 350.3011\n",
      "Epoch 21/100\n",
      "4763/4763 [==============================] - 0s 18us/step - loss: 350.8985 - mean_squared_error: 1745598.2344 - mean_absolute_error: 350.8985\n",
      "Epoch 22/100\n",
      "4763/4763 [==============================] - 0s 18us/step - loss: 350.6784 - mean_squared_error: 1746656.8079 - mean_absolute_error: 350.6784\n",
      "Epoch 23/100\n",
      "4763/4763 [==============================] - 0s 18us/step - loss: 350.6841 - mean_squared_error: 1747176.8425 - mean_absolute_error: 350.6841\n",
      "Epoch 24/100\n",
      "4763/4763 [==============================] - 0s 19us/step - loss: 350.9806 - mean_squared_error: 1745762.8105 - mean_absolute_error: 350.9806\n",
      "Epoch 25/100\n",
      "4763/4763 [==============================] - 0s 19us/step - loss: 350.3667 - mean_squared_error: 1747301.7541 - mean_absolute_error: 350.3667\n",
      "Epoch 26/100\n",
      "4763/4763 [==============================] - 0s 19us/step - loss: 350.4536 - mean_squared_error: 1746421.1533 - mean_absolute_error: 350.4536\n",
      "Epoch 27/100\n",
      "4763/4763 [==============================] - 0s 21us/step - loss: 350.2451 - mean_squared_error: 1746105.1245 - mean_absolute_error: 350.2451\n",
      "Epoch 28/100\n",
      "4763/4763 [==============================] - 0s 21us/step - loss: 350.0761 - mean_squared_error: 1745335.1295 - mean_absolute_error: 350.0761\n",
      "Epoch 29/100\n",
      "4763/4763 [==============================] - 0s 19us/step - loss: 350.4947 - mean_squared_error: 1748588.1365 - mean_absolute_error: 350.4947\n",
      "Epoch 30/100\n",
      "4763/4763 [==============================] - 0s 20us/step - loss: 350.9200 - mean_squared_error: 1747015.7237 - mean_absolute_error: 350.9200\n",
      "Epoch 31/100\n",
      "4763/4763 [==============================] - 0s 20us/step - loss: 350.4560 - mean_squared_error: 1746853.1262 - mean_absolute_error: 350.4560\n",
      "Epoch 32/100\n",
      "4763/4763 [==============================] - 0s 19us/step - loss: 350.2678 - mean_squared_error: 1746079.6126 - mean_absolute_error: 350.2678\n",
      "Epoch 33/100\n",
      "4763/4763 [==============================] - 0s 18us/step - loss: 349.9965 - mean_squared_error: 1746423.8465 - mean_absolute_error: 349.9965\n",
      "Epoch 34/100\n",
      "4763/4763 [==============================] - 0s 20us/step - loss: 350.5049 - mean_squared_error: 1745652.1977 - mean_absolute_error: 350.5049\n",
      "Epoch 35/100\n",
      "4763/4763 [==============================] - 0s 19us/step - loss: 350.6522 - mean_squared_error: 1744453.4989 - mean_absolute_error: 350.6522\n",
      "Epoch 36/100\n",
      "4763/4763 [==============================] - 0s 20us/step - loss: 350.9786 - mean_squared_error: 1745120.5754 - mean_absolute_error: 350.9786\n",
      "Epoch 37/100\n",
      "4763/4763 [==============================] - 0s 26us/step - loss: 350.5313 - mean_squared_error: 1745621.5170 - mean_absolute_error: 350.5313\n",
      "Epoch 38/100\n",
      "4763/4763 [==============================] - 0s 25us/step - loss: 350.4716 - mean_squared_error: 1747057.4986 - mean_absolute_error: 350.4716\n",
      "Epoch 39/100\n",
      "4763/4763 [==============================] - 0s 21us/step - loss: 350.2676 - mean_squared_error: 1746208.1151 - mean_absolute_error: 350.2676\n",
      "Epoch 40/100\n",
      "4763/4763 [==============================] - 0s 19us/step - loss: 350.1806 - mean_squared_error: 1744981.4778 - mean_absolute_error: 350.1806\n",
      "Epoch 41/100\n",
      "4763/4763 [==============================] - 0s 24us/step - loss: 350.2893 - mean_squared_error: 1746298.0354 - mean_absolute_error: 350.2893\n",
      "Epoch 42/100\n",
      "4763/4763 [==============================] - 0s 22us/step - loss: 349.9182 - mean_squared_error: 1747470.5209 - mean_absolute_error: 349.9182\n",
      "Epoch 43/100\n",
      "4763/4763 [==============================] - 0s 23us/step - loss: 350.5183 - mean_squared_error: 1743726.3777 - mean_absolute_error: 350.5183\n",
      "Epoch 44/100\n",
      "4763/4763 [==============================] - 0s 19us/step - loss: 349.9418 - mean_squared_error: 1746400.5381 - mean_absolute_error: 349.9418\n",
      "Epoch 45/100\n",
      "4763/4763 [==============================] - 0s 18us/step - loss: 350.1111 - mean_squared_error: 1746961.4662 - mean_absolute_error: 350.1111\n",
      "Epoch 46/100\n",
      "4763/4763 [==============================] - 0s 19us/step - loss: 350.7408 - mean_squared_error: 1745503.2917 - mean_absolute_error: 350.7408\n",
      "Epoch 47/100\n",
      "4763/4763 [==============================] - 0s 23us/step - loss: 350.4451 - mean_squared_error: 1746470.8679 - mean_absolute_error: 350.4451\n",
      "Epoch 48/100\n",
      "4763/4763 [==============================] - 0s 22us/step - loss: 350.3298 - mean_squared_error: 1742772.0656 - mean_absolute_error: 350.3298\n",
      "Epoch 49/100\n",
      "4763/4763 [==============================] - 0s 24us/step - loss: 349.9010 - mean_squared_error: 1746539.8870 - mean_absolute_error: 349.9010\n",
      "Epoch 50/100\n",
      "4763/4763 [==============================] - 0s 19us/step - loss: 350.2239 - mean_squared_error: 1745349.8513 - mean_absolute_error: 350.2239\n",
      "Epoch 51/100\n",
      "4763/4763 [==============================] - 0s 18us/step - loss: 350.3691 - mean_squared_error: 1746962.7287 - mean_absolute_error: 350.3691\n",
      "Epoch 52/100\n",
      "4763/4763 [==============================] - 0s 19us/step - loss: 349.9015 - mean_squared_error: 1745136.6484 - mean_absolute_error: 349.9015\n",
      "Epoch 53/100\n"
     ]
    },
    {
     "name": "stdout",
     "output_type": "stream",
     "text": [
      "4763/4763 [==============================] - 0s 20us/step - loss: 350.3800 - mean_squared_error: 1748565.7256 - mean_absolute_error: 350.3800\n",
      "Epoch 54/100\n",
      "4763/4763 [==============================] - 0s 19us/step - loss: 349.8942 - mean_squared_error: 1746810.1625 - mean_absolute_error: 349.8942\n",
      "Epoch 55/100\n",
      "4763/4763 [==============================] - 0s 19us/step - loss: 350.1638 - mean_squared_error: 1747127.3679 - mean_absolute_error: 350.1638\n",
      "Epoch 56/100\n",
      "4763/4763 [==============================] - 0s 21us/step - loss: 349.9793 - mean_squared_error: 1747047.2622 - mean_absolute_error: 349.9793\n",
      "Epoch 57/100\n",
      "4763/4763 [==============================] - 0s 22us/step - loss: 350.0729 - mean_squared_error: 1744548.9025 - mean_absolute_error: 350.0729\n",
      "Epoch 58/100\n",
      "4763/4763 [==============================] - 0s 18us/step - loss: 350.4442 - mean_squared_error: 1744337.9770 - mean_absolute_error: 350.4442\n",
      "Epoch 59/100\n",
      "4763/4763 [==============================] - 0s 19us/step - loss: 350.0793 - mean_squared_error: 1746486.4387 - mean_absolute_error: 350.0793\n",
      "Epoch 60/100\n",
      "4763/4763 [==============================] - 0s 22us/step - loss: 350.0573 - mean_squared_error: 1745431.6025 - mean_absolute_error: 350.0573\n",
      "Epoch 61/100\n",
      "4763/4763 [==============================] - 0s 21us/step - loss: 350.8344 - mean_squared_error: 1747662.1320 - mean_absolute_error: 350.8344\n",
      "Epoch 62/100\n",
      "4763/4763 [==============================] - 0s 21us/step - loss: 350.4932 - mean_squared_error: 1747599.2593 - mean_absolute_error: 350.4932\n",
      "Epoch 63/100\n",
      "4763/4763 [==============================] - 0s 19us/step - loss: 350.2422 - mean_squared_error: 1744821.0948 - mean_absolute_error: 350.2422\n",
      "Epoch 64/100\n",
      "4763/4763 [==============================] - 0s 19us/step - loss: 350.1141 - mean_squared_error: 1747188.4643 - mean_absolute_error: 350.1141\n",
      "Epoch 65/100\n",
      "4763/4763 [==============================] - 0s 20us/step - loss: 350.0062 - mean_squared_error: 1746216.5993 - mean_absolute_error: 350.0062\n",
      "Epoch 66/100\n",
      "4763/4763 [==============================] - 0s 20us/step - loss: 350.0596 - mean_squared_error: 1744663.6963 - mean_absolute_error: 350.0596\n",
      "Epoch 67/100\n",
      "4763/4763 [==============================] - 0s 20us/step - loss: 350.0751 - mean_squared_error: 1748148.9194 - mean_absolute_error: 350.0751\n",
      "Epoch 68/100\n",
      "4763/4763 [==============================] - 0s 18us/step - loss: 349.8790 - mean_squared_error: 1745738.9960 - mean_absolute_error: 349.8790\n",
      "Epoch 69/100\n",
      "4763/4763 [==============================] - 0s 19us/step - loss: 350.4123 - mean_squared_error: 1746646.6916 - mean_absolute_error: 350.4123\n",
      "Epoch 70/100\n",
      "4763/4763 [==============================] - 0s 25us/step - loss: 349.9311 - mean_squared_error: 1744071.1937 - mean_absolute_error: 349.9311\n",
      "Epoch 71/100\n",
      "4763/4763 [==============================] - 0s 24us/step - loss: 350.2785 - mean_squared_error: 1745963.2840 - mean_absolute_error: 350.2785\n",
      "Epoch 72/100\n",
      "4763/4763 [==============================] - 0s 21us/step - loss: 349.7456 - mean_squared_error: 1746615.2307 - mean_absolute_error: 349.7456\n",
      "Epoch 73/100\n",
      "4763/4763 [==============================] - 0s 20us/step - loss: 350.0657 - mean_squared_error: 1745412.7080 - mean_absolute_error: 350.0657\n",
      "Epoch 74/100\n",
      "4763/4763 [==============================] - 0s 20us/step - loss: 349.9668 - mean_squared_error: 1744574.7960 - mean_absolute_error: 349.9668\n",
      "Epoch 75/100\n",
      "4763/4763 [==============================] - 0s 19us/step - loss: 349.7411 - mean_squared_error: 1745895.8220 - mean_absolute_error: 349.7411\n",
      "Epoch 76/100\n",
      "4763/4763 [==============================] - 0s 20us/step - loss: 349.7873 - mean_squared_error: 1745692.2262 - mean_absolute_error: 349.7873\n",
      "Epoch 77/100\n",
      "4763/4763 [==============================] - 0s 20us/step - loss: 349.8856 - mean_squared_error: 1745114.8868 - mean_absolute_error: 349.8856\n",
      "Epoch 78/100\n",
      "4763/4763 [==============================] - 0s 19us/step - loss: 349.7466 - mean_squared_error: 1746380.8719 - mean_absolute_error: 349.7466\n",
      "Epoch 79/100\n",
      "4763/4763 [==============================] - 0s 19us/step - loss: 350.0586 - mean_squared_error: 1744549.8445 - mean_absolute_error: 350.0586\n",
      "Epoch 80/100\n",
      "4763/4763 [==============================] - 0s 20us/step - loss: 349.9346 - mean_squared_error: 1745700.7490 - mean_absolute_error: 349.9346\n",
      "Epoch 81/100\n",
      "4763/4763 [==============================] - 0s 19us/step - loss: 349.9925 - mean_squared_error: 1746052.3338 - mean_absolute_error: 349.9925\n",
      "Epoch 82/100\n",
      "4763/4763 [==============================] - 0s 20us/step - loss: 349.9143 - mean_squared_error: 1744796.8968 - mean_absolute_error: 349.9143\n",
      "Epoch 83/100\n",
      "4763/4763 [==============================] - 0s 19us/step - loss: 349.7098 - mean_squared_error: 1745258.9589 - mean_absolute_error: 349.7098\n",
      "Epoch 84/100\n",
      "4763/4763 [==============================] - 0s 19us/step - loss: 349.9819 - mean_squared_error: 1746849.3027 - mean_absolute_error: 349.9819\n",
      "Epoch 85/100\n",
      "4763/4763 [==============================] - 0s 19us/step - loss: 350.4343 - mean_squared_error: 1746354.7575 - mean_absolute_error: 350.4343\n",
      "Epoch 86/100\n",
      "4763/4763 [==============================] - 0s 19us/step - loss: 349.7810 - mean_squared_error: 1745370.8295 - mean_absolute_error: 349.7810\n",
      "Epoch 87/100\n",
      "4763/4763 [==============================] - 0s 20us/step - loss: 350.1813 - mean_squared_error: 1746701.9036 - mean_absolute_error: 350.1813\n",
      "Epoch 88/100\n",
      "4763/4763 [==============================] - 0s 20us/step - loss: 350.0509 - mean_squared_error: 1746667.6356 - mean_absolute_error: 350.0509\n",
      "Epoch 89/100\n",
      "4763/4763 [==============================] - 0s 19us/step - loss: 349.8090 - mean_squared_error: 1744535.1971 - mean_absolute_error: 349.8090\n",
      "Epoch 90/100\n",
      "4763/4763 [==============================] - 0s 20us/step - loss: 349.7451 - mean_squared_error: 1746680.1632 - mean_absolute_error: 349.7451\n",
      "Epoch 91/100\n",
      "4763/4763 [==============================] - 0s 20us/step - loss: 350.0808 - mean_squared_error: 1747103.5238 - mean_absolute_error: 350.0808\n",
      "Epoch 92/100\n",
      "4763/4763 [==============================] - 0s 19us/step - loss: 349.7535 - mean_squared_error: 1745396.7741 - mean_absolute_error: 349.7535\n",
      "Epoch 93/100\n",
      "4763/4763 [==============================] - 0s 19us/step - loss: 350.1524 - mean_squared_error: 1746150.5294 - mean_absolute_error: 350.1524 0s - loss: 358.9249 - mean_squared_error: 1588899.5849 - mean_absolute_error: 358.92\n",
      "Epoch 94/100\n",
      "4763/4763 [==============================] - 0s 19us/step - loss: 349.6981 - mean_squared_error: 1745014.1085 - mean_absolute_error: 349.6981\n",
      "Epoch 95/100\n",
      "4763/4763 [==============================] - 0s 20us/step - loss: 349.8930 - mean_squared_error: 1745515.8834 - mean_absolute_error: 349.8930\n",
      "Epoch 96/100\n",
      "4763/4763 [==============================] - 0s 19us/step - loss: 349.8474 - mean_squared_error: 1745491.6618 - mean_absolute_error: 349.8474\n",
      "Epoch 97/100\n",
      "4763/4763 [==============================] - 0s 19us/step - loss: 350.0485 - mean_squared_error: 1744145.6272 - mean_absolute_error: 350.0485\n",
      "Epoch 98/100\n",
      "4763/4763 [==============================] - 0s 19us/step - loss: 350.3901 - mean_squared_error: 1745967.0288 - mean_absolute_error: 350.3901\n",
      "Epoch 99/100\n",
      "4763/4763 [==============================] - 0s 18us/step - loss: 349.9352 - mean_squared_error: 1745345.1189 - mean_absolute_error: 349.9352\n",
      "Epoch 100/100\n",
      "4763/4763 [==============================] - 0s 19us/step - loss: 349.9390 - mean_squared_error: 1745862.6146 - mean_absolute_error: 349.9390\n"
     ]
    }
   ],
   "source": [
    "history = model.fit(X_train, y_train, verbose=1, epochs=100)"
   ]
  },
  {
   "cell_type": "code",
   "execution_count": 77,
   "metadata": {},
   "outputs": [
    {
     "name": "stdout",
     "output_type": "stream",
     "text": [
      "dict_keys(['loss', 'mean_squared_error', 'mean_absolute_error'])\n"
     ]
    },
    {
     "data": {
      "image/png": "[encoded data removed]",
      "text/plain": [
       "<Figure size 432x288 with 1 Axes>"
      ]
     },
     "metadata": {
      "needs_background": "light"
     },
     "output_type": "display_data"
    }
   ],
   "source": [
    "print(history.history.keys())\n",
    "# \"Loss\"\n",
    "plt.plot(history.history['loss'])\n",
    "# plt.plot(history.history['val_loss'])\n",
    "plt.title('model loss')\n",
    "plt.ylabel('loss')\n",
    "plt.xlabel('epoch')\n",
    "plt.legend(['train', 'validation'], loc='upper left')\n",
    "plt.show()"
   ]
  },
  {
   "cell_type": "markdown",
   "metadata": {},
   "source": [
    "<h1> Guassian Mixture </h1>"
   ]
  },
  {
   "cell_type": "code",
   "execution_count": 78,
   "metadata": {},
   "outputs": [],
   "source": [
    "from sklearn.mixture import GaussianMixture"
   ]
  },
  {
   "cell_type": "code",
   "execution_count": 112,
   "metadata": {},
   "outputs": [],
   "source": [
    "model = GaussianMixture(10, 'diag')"
   ]
  },
  {
   "cell_type": "code",
   "execution_count": 81,
   "metadata": {},
   "outputs": [
    {
     "data": {
      "text/plain": [
       "Index(['name', 'age', 'vintage', 'vol', 'ml', 'price'], dtype='object')"
      ]
     },
     "execution_count": 81,
     "metadata": {},
     "output_type": "execute_result"
    }
   ],
   "source": [
    "df.columns"
   ]
  },
  {
   "cell_type": "code",
   "execution_count": 84,
   "metadata": {},
   "outputs": [],
   "source": [
    "X = df[['age', 'vintage','vol','ml','price']].dropna(how = 'any')"
   ]
  },
  {
   "cell_type": "code",
   "execution_count": 113,
   "metadata": {},
   "outputs": [
    {
     "data": {
      "text/plain": [
       "GaussianMixture(covariance_type='diag', init_params='kmeans', max_iter=100,\n",
       "        means_init=None, n_components=10, n_init=1, precisions_init=None,\n",
       "        random_state=None, reg_covar=1e-06, tol=0.001, verbose=0,\n",
       "        verbose_interval=10, warm_start=False, weights_init=None)"
      ]
     },
     "execution_count": 113,
     "metadata": {},
     "output_type": "execute_result"
    }
   ],
   "source": [
    "model.fit(X)"
   ]
  },
  {
   "cell_type": "code",
   "execution_count": 114,
   "metadata": {},
   "outputs": [
    {
     "data": {
      "text/plain": [
       "-11.704038497665941"
      ]
     },
     "execution_count": 114,
     "metadata": {},
     "output_type": "execute_result"
    }
   ],
   "source": [
    "model.score(X)"
   ]
  },
  {
   "cell_type": "code",
   "execution_count": 115,
   "metadata": {},
   "outputs": [
    {
     "data": {
      "text/plain": [
       "array([7, 2, 2, ..., 6, 6, 2], dtype=int64)"
      ]
     },
     "execution_count": 115,
     "metadata": {},
     "output_type": "execute_result"
    }
   ],
   "source": [
    "model.predict(X)"
   ]
  },
  {
   "cell_type": "code",
   "execution_count": 116,
   "metadata": {},
   "outputs": [
    {
     "data": {
      "text/plain": [
       "<matplotlib.collections.PathCollection at 0x1f2924bdb38>"
      ]
     },
     "execution_count": 116,
     "metadata": {},
     "output_type": "execute_result"
    },
    {
     "data": {
      "image/png": "[encoded data removed]",
      "text/plain": [
       "<Figure size 432x288 with 1 Axes>"
      ]
     },
     "metadata": {
      "needs_background": "light"
     },
     "output_type": "display_data"
    }
   ],
   "source": [
    "plt.scatter(X['price'], X.index, c=model.predict(X))"
   ]
  },
  {
   "cell_type": "code",
   "execution_count": null,
   "metadata": {},
   "outputs": [],
   "source": []
  }
 ],
 "metadata": {
  "kernelspec": {
   "display_name": "Python 3",
   "language": "python",
   "name": "python3"
  },
  "language_info": {
   "codemirror_mode": {
    "name": "ipython",
    "version": 3
   },
   "file_extension": ".py",
   "mimetype": "text/x-python",
   "name": "python",
   "nbconvert_exporter": "python",
   "pygments_lexer": "ipython3",
   "version": "3.7.1"
  }
 },
 "nbformat": 4,
 "nbformat_minor": 2
}
